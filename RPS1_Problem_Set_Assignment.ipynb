{
  "cells": [
    {
      "cell_type": "markdown",
      "metadata": {
        "id": "view-in-github",
        "colab_type": "text"
      },
      "source": [
        "<a href=\"https://colab.research.google.com/github/lk420347749/electronicsales/blob/main/RPS1_Problem_Set_Assignment.ipynb\" target=\"_parent\"><img src=\"https://colab.research.google.com/assets/colab-badge.svg\" alt=\"Open In Colab\"/></a>"
      ]
    },
    {
      "cell_type": "markdown",
      "metadata": {
        "id": "4AKZKAiDxj_p"
      },
      "source": [
        "# Problem set: Statistics and Meta-analysis of Clinical Data Sets"
      ]
    },
    {
      "cell_type": "markdown",
      "metadata": {
        "id": "9CLFOBemigfQ"
      },
      "source": [
        "[](#RemoveThisTextCell)\n",
        "## Preface: Run this whole section each time you return to working on this assignment"
      ]
    },
    {
      "cell_type": "markdown",
      "metadata": {
        "id": "t4dXTYq8Hstt"
      },
      "source": [
        "[](#RemoveThisTextCell)\n",
        "### **Important information about this assignment**"
      ]
    },
    {
      "cell_type": "markdown",
      "metadata": {
        "id": "r5-L_dmA3ABR"
      },
      "source": [
        "[](#RemoveThisTextCell)\n",
        "\n",
        "This Jupyter notebook for Colab contains the tasks for the summative Problem set assessment on your Research and Professional Skills I module in the Autumn term of Year 2 on the Neuroscience, Biochemistry and Biomedical Sciences courses at the University of Sussex. The assignment is designed to assess your:\n",
        "\n",
        "* Ability to extract and interpret quantitative information from scientific writing\n",
        "* Fluency at loading, processing and analysing quantative data using the R statistical programming environment\n",
        "* Ability to appropriately and effectively represent data within tables and graphs\n",
        "* Ability to interpret, and demonstrate a conceptual understanding of, statistics and related mathematical formulae\n",
        "\n",
        "Do not share or collaborate on this assignment - doing so could be regarded as plagiarism or collusion, which could be identified by Turnitin.\n",
        "\n",
        "You are welcome to use generative AI as a learning tool, but not as a means to give answers to questions directly asked in this assignment - doing so could be regarded as personation, which could also be identified by Turnitin. Please see the guide on appropriate use of AI and frequently asked AI questions relevant to this assignment [here](https://colab.research.google.com/drive/1lgwKae5GL35LK6yEVc7AeZLi8e8TwKR_?usp=sharing).\n",
        "\n",
        "To complete this assignment, complete <u><b>ALL</b></u> the tasks requested and enter your answers to <u><b>ALL</b></u> questions into the code cells provided.  \n",
        "\n",
        "* <font color='blue'> <u><b>Coding Tasks</u></b> are stated in blue font.</font><br> <tt><mark>Names</mark></tt> that are highlighted are those of variables that you must assign values to, or calculate the value of, in your code as part of the task. Other variables may also be created in the process as long as the ones <tt><mark>named</mark></tt> in the task exist in your code.\n",
        "* <font color='red'> <u><b>Questions</u></b> for you to answer are in red font.</font><br> Enter your answers in the next text cell that after the question where it says *Replace this text with your answer*.\n",
        "\n",
        "Do <u><b>NOT</b></u> change the structure of this notebook by creating or deleting text or code cells. Removing required content could have an impact on your mark in this assessment."
      ]
    },
    {
      "cell_type": "markdown",
      "metadata": {
        "id": "G4BIU8DbuA7H"
      },
      "source": [
        "### **Running the code cell below loads `rpy2.ipython` so that you can use R in Colab**"
      ]
    },
    {
      "cell_type": "markdown",
      "metadata": {
        "id": "46WvgKgr25zn"
      },
      "source": [
        "[](#RemoveThisTextCell)\n",
        "The `%%capture` cell magic command in the first line of the code cell suppresses cell output.  \n",
        "The `%load_ext` magic command loads the external package listed into python, in this case `rpy2.ipython`.  \n",
        "You should **not** change the code cell below and no action is required from you."
      ]
    },
    {
      "cell_type": "code",
      "execution_count": null,
      "metadata": {
        "id": "nc4OfnTHt5--"
      },
      "outputs": [],
      "source": [
        "%%capture\n",
        "%load_ext rpy2.ipython"
      ]
    },
    {
      "cell_type": "markdown",
      "metadata": {
        "id": "vKa7AO1cukSr"
      },
      "source": [
        "### **Entering your candidate number below is necessary to setup this assignment**"
      ]
    },
    {
      "cell_type": "code",
      "execution_count": null,
      "metadata": {
        "colab": {
          "base_uri": "https://localhost:8080/"
        },
        "id": "KGD8OIU2cr6r",
        "outputId": "2b7f2468-c500-495b-de75-d785e02087af"
      },
      "outputs": [
        {
          "output_type": "stream",
          "name": "stdout",
          "text": [
            "Candidate number: 282230\n",
            "\n"
          ]
        }
      ],
      "source": [
        "#RemoveCellInputFromHTML\n",
        "\n",
        "#!!!!!!!!!!!!!!!!!!!!!! DO NOT EDIT THIS PYTHON CODE CELL !!!!!!!!!!!!!!!!!!!!!!\n",
        "# You can see this code because you accidently clicked 'Show code' for this\n",
        "# hidden cell. Hide it again by clicking the button in the top-left corner of\n",
        "# this cell containing a down arrowhead symbol (⌄). (If you hover the mouse\n",
        "# cursor over the button in question for a couple of seconds, a tool-tip will\n",
        "# appear saying \"Hide code\".)\n",
        "\n",
        "# @title ##### If your candidate number is entered into the form below, you just need to (re)run the hidden code cell  - <mark>Do <b><u>NOT</u></b> click '<tt>Show code</tt></mark>' {\"run\":\"auto\",\"vertical-output\":true,\"form-width\":\"20%\",\"display-mode\":\"form\"}\n",
        "cand_no = 282230 # @param {type:\"integer\"}\n",
        "print(\"Candidate number: {0}\\n\".format(cand_no))\n",
        "if (cand_no == 0) or (len(str(cand_no)) != 6):\n",
        "  print(\"!!! You must enter your six digit candidate number !!!\", )\n",
        "\n",
        "# Setup R variable inspector widget\n",
        "\n",
        "# Import required python modules\n",
        "from rpy2.robjects.packages import importr\n",
        "import rpy2.robjects as robjects\n",
        "import ipywidgets as widgets # Loads the Widget framework.\n",
        "\n",
        "# Send candidate number to R\n",
        "if cand_no is None:\n",
        "  cand_no = 0;\n",
        "robjects.r(\"cand_no <- {0}\".format(cand_no))\n",
        "\n",
        "# Define wrappers for r functions to return dimensions of r objects if applicable\n",
        "robjects.r('''\n",
        "ncols = function (x) {\n",
        "  if (!is.null (ncol(x))) {\n",
        "    ns = as.character (ncol (x))\n",
        "  } else {\n",
        "    ns = 1\n",
        "  }\n",
        "  return (ns)\n",
        "}\n",
        "nrows = function (x) {\n",
        "  if (!is.null (nrow(x))) {\n",
        "    ns = as.character (nrow (x))\n",
        "  } else {\n",
        "    ns = length (x)\n",
        "  }\n",
        "  return (ns)\n",
        "}\n",
        "inspect = function (x) {\n",
        "  if (!is.null (names(x))) {\n",
        "    retval = as.character (names (x))\n",
        "  } else {\n",
        "    retval = x\n",
        "  }\n",
        "  if (class(x)[1] == 'matrix') {\n",
        "    retval = \"< Cannot display content of matrices >\"\n",
        "  }\n",
        "  return (retval)\n",
        "}\n",
        "''')\n",
        "\n",
        "# Get python handles for R functions\n",
        "r_get     = robjects.r[\"get\"]\n",
        "r_setdiff = robjects.r[\"setdiff\"]\n",
        "r_class   = robjects.r[\"class\"]\n",
        "r_ls_str  = robjects.r[\"ls.str\"]\n",
        "r_lsf_str = robjects.r[\"lsf.str\"]\n",
        "r_ncols   = robjects.globalenv['ncols']\n",
        "r_nrows   = robjects.globalenv['nrows']\n",
        "r_inspect = robjects.globalenv['inspect']\n",
        "\n",
        "class VariableInspectorWindow(object):\n",
        "\n",
        "  instance = None\n",
        "\n",
        "  def __init__(self, ipython):\n",
        "    \"\"\"Public constructor.\"\"\"\n",
        "    if VariableInspectorWindow.instance is not None:\n",
        "      raise Exception(\"\"\"Only one instance of the Variable Inspector can\n",
        "exist at a time.  Call close() on the active instance before\n",
        "creating a new instance. If you have lost the handle to the\n",
        "active instance, you can re-obtain it via\n",
        "`VariableInspectorWindow.instance`.\"\"\")\n",
        "\n",
        "    VariableInspectorWindow.instance = self\n",
        "    self.closed = False\n",
        "    self.namespace = []\n",
        "\n",
        "    self._box = widgets.Box()\n",
        "    self._box.layout.overflow_y = 'scroll'\n",
        "    self._table = widgets.HTML(value = 'Not hooked')\n",
        "    self._box.children = [self._table]\n",
        "\n",
        "    self._ipython = ipython\n",
        "    self._ipython.events.register('post_run_cell', self._fill)\n",
        "\n",
        "  def close(self):\n",
        "    \"\"\"Close and remove hooks.\"\"\"\n",
        "    if not self.closed:\n",
        "      self._ipython.events.unregister('post_run_cell', self._fill)\n",
        "      self._box.close()\n",
        "      self.closed = True\n",
        "      VariableInspectorWindow.instance = None\n",
        "\n",
        "  def _fill(self, _result):\n",
        "    \"\"\"Fill self with variable information.\"\"\"\n",
        "\n",
        "    robj    = list(r_setdiff(r_ls_str(),r_lsf_str()))\n",
        "    nvar    = len(robj)\n",
        "    classof = [str(r_class(r_get(robj[i]))[0]) for i in range(nvar)]\n",
        "    ncols   = [str(r_ncols(r_get(robj[i])))[4::] for i in range(nvar)]\n",
        "    nrows   = [str(r_nrows(r_get(robj[i])))[4::] for i in range(nvar)]\n",
        "    inspect = [str(r_inspect(r_get(robj[i]))).replace('[','<br>[').replace('<br>[','[',1)\n",
        "               for i in range(nvar)]\n",
        "    substr  = '{:s}</td><td>{:s}</td><td>{:s}</td><td>{:s}</td><td>{:s}'\n",
        "    self._table.value = '<div class=\"rendered_html jp-RenderedHTMLCommon\">' + \\\n",
        "      '<table class=\"dataframe\"><thead>' + \\\n",
        "      '<tr align =\"right\"><th>variable</th><th>class</th><th>ncol</th>' + \\\n",
        "      '<th>nrow</th><th>content</th></tr></thead><tr><td>' + \\\n",
        "      '</td></tr><tr><td>'.join([substr.format(robj[i], classof[i].replace('\"',''),\n",
        "      ncols[i].replace('\"',''), nrows[i].replace('\"',''), inspect[i].replace('\"',''))\n",
        "      for i in range(nvar)]) + '</td></tr></table></div>'\n",
        "\n",
        "  def _ipython_display_(self):\n",
        "    \"\"\"Called when display() or pyout is used to display the Variable\n",
        "    Inspector.\"\"\"\n",
        "    self._box._ipython_display_()"
      ]
    },
    {
      "cell_type": "markdown",
      "metadata": {
        "id": "yyFW4sa0giJN"
      },
      "source": [
        "###**Running the python code cell below loads a widget displaying the properties of all R data variables**\n",
        "Only run this cell once. If you accidently run the cell twice or more and get an error, re-run the previous code cell first and then this VariableInspectorWindow code cell again."
      ]
    },
    {
      "cell_type": "code",
      "execution_count": null,
      "metadata": {
        "colab": {
          "base_uri": "https://localhost:8080/",
          "referenced_widgets": [
            "15a5bf6ff3a94abb8799a82cc744ab0f",
            "8cb92374ad824bd5af2fd9f480da2b37",
            "3599fadebec340998714ab0d454bf8ac",
            "52796bf8c700444d82810bb2f7ed70a0",
            "7e024014cac24962899fbd908e31e729"
          ]
        },
        "id": "Z80FBJp4glGI",
        "outputId": "930e3122-bac8-4f19-eaaa-d740371c0deb"
      },
      "outputs": [
        {
          "output_type": "display_data",
          "data": {
            "text/plain": [
              "Box(children=(HTML(value='Not hooked'),), layout=Layout(overflow_y='scroll'))"
            ],
            "application/vnd.jupyter.widget-view+json": {
              "version_major": 2,
              "version_minor": 0,
              "model_id": "15a5bf6ff3a94abb8799a82cc744ab0f"
            }
          },
          "metadata": {}
        }
      ],
      "source": [
        "VariableInspectorWindow(get_ipython())"
      ]
    },
    {
      "cell_type": "markdown",
      "metadata": {
        "id": "hfz-p9hlXjsv"
      },
      "source": [
        "[](#RemoveThisTextCell)\n",
        "The [table in the widget above](#scrollTo=yyFW4sa0giJN&line=1&uniqifier=1) will list any R variable created in R. This table updates automatically each time (`%%R`-headed) code cells are run in Colab. Each line in the table is an R object (a.k.a. variable) containing the `variable` name, the `class` of the variable, the number of columns (`ncols`) and rows (`nrows`) and the `content` of the object. If the `class` of the variable is `numeric`, `integer` or `character`, the `content` will be a list of the values. If `content` is a `data.frame`, then `content` will correspond to the names of the data columns in the `data.frame`.\n",
        "\n",
        "\n"
      ]
    },
    {
      "cell_type": "markdown",
      "metadata": {
        "id": "9t8K8jtgaZKU"
      },
      "source": [
        "###**Installing and loading R packages**"
      ]
    },
    {
      "cell_type": "markdown",
      "metadata": {
        "id": "34AtoPae2z1f"
      },
      "source": [
        "[](#RemoveThisTextCell)\n",
        "Whenever you start, restart or resume working in R one usually needs to load packages that extend the functionality of R appropriate for the tasks you want to complete. In Google Colab, this can produce a lot of output and harmless warnings, so instead, in the two cells below we have created a list of the names of packages sufficient for the scope of this assignment, and then a series of commands that can quietly install and load the packages into the R environment within colab. You simply need to run the two code cells below in sequence to create the list of package names and loop through the list to install and load each one."
      ]
    },
    {
      "cell_type": "code",
      "execution_count": null,
      "metadata": {
        "id": "CiI1Z1dcab-p"
      },
      "outputs": [],
      "source": [
        "%%R\n",
        "\n",
        "# The code below assigns to a variable called `pkg_names` a list of packages\n",
        "# that will be installed (along with their required dependencies) and loaded\n",
        "# so that you can perform the coding and analysis tasks in this assignment.\n",
        "pkg_names = list (\n",
        "  \"tidyverse\", # Includes packages that add grammar for tidy data and coding.\n",
        "  \"IRdisplay\", # Display machinery for R in Jupyter, which Colab is based on.\n",
        "  \"knitr\",     # Package of tools for dynamic report generation in R.\n",
        "  \"ggplot2\",   # Grammar of graphics plotting and data visualization package.\n",
        "  \"Hmisc\",     # Package of miscellaneous functions; required for `stat_summary`.\n",
        "  \"esc\")       # Package for effect size computation for Meta-Analysis.\n"
      ]
    },
    {
      "cell_type": "markdown",
      "metadata": {
        "id": "LN0Ez3562Mm6"
      },
      "source": [
        "#### **Running the hidden code cell below quietly installs and loads the packages listed in `pkg_names`**"
      ]
    },
    {
      "cell_type": "code",
      "execution_count": null,
      "metadata": {
        "colab": {
          "base_uri": "https://localhost:8080/"
        },
        "id": "RgskOrZHFq9F",
        "outputId": "d85addf2-58f3-4b61-8c0c-a69dcff10e5c"
      },
      "outputs": [
        {
          "output_type": "stream",
          "name": "stdout",
          "text": [
            "\n",
            "# Essentially, the code executed in this hidden code cell was:\n",
            "for (pkg in pkg_names) {\n",
            "  if (!require (pkg, quietly=TRUE, character.only=TRUE)) {\n",
            "    # The following code only executes if the package isn't already loaded\n",
            "    suppressMessages (install.packages (pkg, quiet=TRUE))\n",
            "    library (pkg, quietly=TRUE, character.only=TRUE)\n",
            "  }\n",
            "}\n",
            "\n",
            "Installing packages could take a couple of minutes. In progress ...\n",
            "================================================================================\n",
            "Complete!"
          ]
        }
      ],
      "source": [
        "%%R\n",
        "# @title ##### If returning to this assignment, the packages listed above will be reinstalled, which can take a couple of minutes - <mark>Do <b><u>NOT</u></b> click '<tt>Show code</tt></mark>'{\"vertical-output\":true,\"display-mode\":\"form\"}\n",
        "#RemoveCellInputFromHTML\n",
        "\n",
        "# !!!!!!!!!!!!!!!!!!!!!!!! DO NOT EDIT THIS R CODE CELL !!!!!!!!!!!!!!!!!!!!!!!!\n",
        "# You can see this code because you accidently clicked 'Show code' for this\n",
        "# hidden cell. Hide it again by clicking the button in the top-left corner of\n",
        "# this cell containing a down arrowhead symbol (⌄). (If you hover the mouse\n",
        "# cursor over the button in question for a couple of seconds, a tool-tip will\n",
        "# appear saying \"Hide code\".)\n",
        "\n",
        "# Sets some options here to reduce the amount of info provided in the output\n",
        "options (tidyverse.quiet=TRUE,\n",
        "         conflicts.policy=list(error=FALSE,\n",
        "                               warn=FALSE,\n",
        "                               generics.ok=TRUE,\n",
        "                               depends.ok=TRUE))\n",
        "\n",
        "strings <- c(\"\\n# Essentially, the code executed in this hidden code cell was:\",\n",
        "             \"for (pkg in pkg_names) {\",\n",
        "             \"  if (!require (pkg, quietly=TRUE, character.only=TRUE)) {\",\n",
        "             \"    # The following code only executes if the package isn't already loaded\",\n",
        "             \"    suppressMessages (install.packages (pkg, quiet=TRUE))\",\n",
        "             \"    library (pkg, quietly=TRUE, character.only=TRUE)\",\n",
        "             \"  }\",\n",
        "             \"}\\n\\n\")\n",
        "printed_code <- paste(strings, collapse = \"\\n\")\n",
        "cat(printed_code)\n",
        "\n",
        "# Iterate through the list of packages and load (or install and then load) them\n",
        "# Use a progress bar and suppress R notifications which otherwise appear as\n",
        "# warnings in Google colab\n",
        "if (exists(\"pkg_names\")) {\n",
        "  cat (\"Installing packages could take a couple of minutes. In progress ...\\n\")\n",
        "  pb = txtProgressBar(min=0, max=length(pkg_names), initial=0)\n",
        "  i = 0;\n",
        "  for (pkg in pkg_names) {\n",
        "    if (!require (pkg, quietly=TRUE, character.only=TRUE)) {\n",
        "      suppressMessages (install.packages (pkg, quiet=TRUE))\n",
        "      library (pkg, quietly=TRUE, character.only=TRUE)\n",
        "    }\n",
        "    i = i + 1;\n",
        "    setTxtProgressBar(pb,i)\n",
        "  }\n",
        "  close (pb)\n",
        "  rm (list=c(\"pkg\", \"pkg_names\", \"i\", \"pb\"))\n",
        "  cat (\"Complete!\")\n",
        "} else {\n",
        "  cat (\"!!! Package installation failed !!!\\n\")\n",
        "  cat (\"You must run the previous code cell first to (re)create the list of packages you need installed and loaded\")\n",
        "}\n",
        "rm (list=c(\"strings\", \"printed_code\"))"
      ]
    },
    {
      "cell_type": "markdown",
      "metadata": {
        "id": "IlgPPqAoRVRR"
      },
      "source": [
        "<br><font color='red'> <u><b>Question</u></b>:<br> Explain step-by-step what you would predict the code displayed in the first part of the output of the cell above would do if it was entered into, and executed from, a code cell?</font>"
      ]
    },
    {
      "cell_type": "markdown",
      "metadata": {
        "id": "_51YMMRdRycX"
      },
      "source": [
        "\n",
        "\n",
        "```\n",
        "# The for loop here states that for the packages in the variable pkg_names, if they are not available in R then\n",
        "# The for (pkg in pkg_names) is a for loop which goes through each of the packages\n",
        "# in pkg_names and require() checks whether each of the packages have been loaded previously; if not, the suppressMessages() and library() functions work\n",
        "# quietly=TRUE ensures there are no messages shown, such as error messages\n",
        "# character.only=TRUE makes sure the package names are in a string format\n",
        "```\n",
        "\n"
      ]
    },
    {
      "cell_type": "markdown",
      "metadata": {
        "id": "3lSu8QxMWAGJ"
      },
      "source": [
        "## Part 1: Analysis of a simulated data set for a clinical trial"
      ]
    },
    {
      "cell_type": "markdown",
      "metadata": {
        "id": "S65zXIGC5e_x"
      },
      "source": [
        "###**Assign the values for the variables**"
      ]
    },
    {
      "cell_type": "markdown",
      "metadata": {
        "id": "tCP7naPc2tjD"
      },
      "source": [
        "The code we will be setting up the parameters of the simulated data that we will be using for this workshop - the parameters that we will be using for this are different from that of the assignment, but the principles are the same.\n",
        "\n",
        "Listed below are the names (highlighted in yellow) and definitions of four variables, each of which relates to a clinical dataset for Part 1 of this assignment:\n",
        "\n",
        "* <mark><tt>number</tt></mark> : Number of participants in each group\n",
        "* <mark><tt>avg_age</tt></mark> : Average age of participants\n",
        "* <mark><tt>malePBO</tt></mark> : Proportion of males in the placebo group\n",
        "* <mark><tt>maleCBD</tt></mark> : Proportion of males in the CBD treated group\n",
        "\n",
        "<font color='blue'> <u><b>Coding Task</u></b>:<br> You will need to extract and/or calculate the numeric value that these variables correspond to from the information in the excerpt below and assign them to the relevant variable name in the next code cell.</font>"
      ]
    },
    {
      "cell_type": "markdown",
      "metadata": {
        "id": "UWVc3v8EduG1"
      },
      "source": [
        "[](#RemoveThisTextCell)\n",
        "> *In total, 100 participants with seizures were enrolled onto this trial, with an average age of 27 years. The cohort of participants were split into two groups: a group that received treatment with a 20 mg/kg dose of cannabidiol, and a group that received a placebo. The number of participants that were male in the cannabidiol and placebo groups was 25 and 30 respectively. For each participant, the number of seizures experienced was counted over a 4-week baseline period, and over a 12-week treatment period.*\n"
      ]
    },
    {
      "cell_type": "code",
      "execution_count": null,
      "metadata": {
        "id": "JfHwEUlWDAn4"
      },
      "outputs": [],
      "source": [
        "%%R\n",
        "# This calculates the number of participants enrolled in each group\n",
        "number <- 100/2\n",
        "\n",
        "# Count of placebo and cannabidiol participants respectively\n",
        "countparticipants.PBO <- 50\n",
        "countparticipants.CBD <- 50\n",
        "\n",
        "# This is the average age of participants in the study\n",
        "avg_age <- 27\n",
        "\n",
        "\n",
        "# This is the proportion of male participants in the placebo group\n",
        "malePBO <- 30/number\n",
        "\n",
        "\n",
        "# This is the proportion of male participants in the CBD treated group\n",
        "maleCBD <- 25/number\n"
      ]
    },
    {
      "cell_type": "markdown",
      "metadata": {
        "id": "8aA1YdTzO4k6"
      },
      "source": [
        "You will now be able to see these variables created in R in the [table in the widget near the top of this page](#scrollTo=yyFW4sa0giJN&line=1&uniqifier=1)."
      ]
    },
    {
      "cell_type": "code",
      "execution_count": null,
      "metadata": {
        "id": "7S8A_5b_5FW_"
      },
      "outputs": [],
      "source": [
        "%%R\n",
        "# @title ####**Running this hidden code cell simulates and exports a dataset unique to your candidate number** - <mark>Do <b><u>NOT</u></b> click '<tt>Show code</tt></mark>'{\"display-mode\":\"form\"}\n",
        "#RemoveCellInputFromHTML\n",
        "\n",
        "# !!!!!!!!!!!!!!!!!!!!!!!! DO NOT EDIT THIS R CODE CELL !!!!!!!!!!!!!!!!!!!!!!!!\n",
        "# You can see this code because you accidently clicked 'Show code' for this\n",
        "# hidden cell. Hide it again by clicking the button in the top-left corner of\n",
        "# this cell containing a down arrowhead symbol (⌄). (If you hover the mouse\n",
        "# cursor over the button in question for a couple of seconds, a tool-tip will\n",
        "# appear saying \"Hide code\".)\n",
        "if (!require (\"MASS\", quietly=TRUE, character.only=TRUE)) {\n",
        "  suppressMessages (install.packages (\"MASS\", quiet=TRUE))\n",
        "  library (MASS, quietly=TRUE, character.only=TRUE)\n",
        "}\n",
        "\n",
        "if (exists(\"number\") & exists(\"avg_age\") & exists(\"malePBO\") & exists(\"maleCBD\")) {\n",
        "\n",
        "  # Set random seed based on the candidate number\n",
        "  set.seed (cand_no)\n",
        "\n",
        "  # Simulate the number of drop seizures during a 4-week baseline period\n",
        "  PBO_baseline                  <- rnegbin(number, mu=44.3*1.6, theta=1.70)\n",
        "  PBO_baseline[PBO_baseline<1]  <- 1.0\n",
        "  CBD_baseline                  <- rnegbin(number, mu=49.5*1.6, theta=1.70)\n",
        "  CBD_baseline[CBD_baseline<1]  <- 1.0\n",
        "\n",
        "  # Simulate the number of drop seizures during the whole 12 week period after the\n",
        "  # two-week dose escalation).\n",
        "  PBO_treatment <- 3 * round (PBO_baseline * rlnorm(number, -0.179, 0.478))\n",
        "  CBD_treatment <- 3 * round (CBD_baseline * rlnorm(number, -0.643, 0.510))\n",
        "\n",
        "  # Simulate age and sex distribution\n",
        "  age       <- round(rnorm (number*2, avg_age, sd=4.5))\n",
        "  sex       <- as.factor(c(\"Male\",\"Female\"))\n",
        "  PBO_sex   <- sample(x=sex,number,replace=TRUE,prob= c(malePBO,1-malePBO))\n",
        "  CBD_sex   <- sample(x=sex,number,replace=TRUE,prob= c(maleCBD,1-maleCBD))\n",
        "  PBO_name  <- as.factor(rep(x=\"PBO\",times=number))\n",
        "  CBD_name  <- as.factor(rep(x=\"CBD\",times=number))\n",
        "  ID        <- seq(1:100)\n",
        "\n",
        "  # Combined Data Together\n",
        "  combined_data_PBO           <- data.frame(PBO_sex,\n",
        "                                            PBO_name,\n",
        "                                            PBO_baseline,\n",
        "                                            PBO_treatment)\n",
        "  colnames(combined_data_PBO) <- c(\"Sex\",\n",
        "                                   \"Treatment\",\n",
        "                                   \"Baseline\",\n",
        "                                   \"Post_Treatment\")\n",
        "  combined_data_CBD           <- data.frame(CBD_sex,\n",
        "                                            CBD_name,\n",
        "                                            CBD_baseline,\n",
        "                                            CBD_treatment)\n",
        "  colnames(combined_data_CBD) <- c(\"Sex\",\n",
        "                                   \"Treatment\",\n",
        "                                   \"Baseline\",\n",
        "                                   \"Post_Treatment\")\n",
        "  combined_data               <- rbind(combined_data_PBO,\n",
        "                                       combined_data_CBD)\n",
        "  combined_data               <- cbind(ID,age,\n",
        "                                       combined_data)\n",
        "  colnames(combined_data)     <- c(\"ID\",\n",
        "                                   \"Baseline_Age\",\n",
        "                                   \"Sex\",\"Treatment\",\n",
        "                                   \"Baseline\",\n",
        "                                   \"Post_Treatment\")\n",
        "  combined_data               <- data.frame(combined_data)\n",
        "  combined_data$Treatment     <- as.factor(combined_data$Treatment)\n",
        "\n",
        "  # Export and download CSV file\n",
        "  write.csv (combined_data, sprintf (\"dataset-%d.csv\", cand_no), row.names = FALSE)\n",
        "  #write.csv (combined_data, sprintf (\"/tmp/dataset-%d.csv\", cand_no), row.names = FALSE)\n",
        "  #if (!require (\"reticulate\", quietly=TRUE, character.only=TRUE)) {\n",
        "  #  suppressMessages (install.packages (\"reticulate\", quiet=TRUE))\n",
        "  #}\n",
        "  #library (reticulate, quietly=TRUE)\n",
        "  #google <- import(\"google\")\n",
        "  #google$colab$files$download(sprintf (\"dataset-%d.csv\", cand_no))\n",
        "\n",
        "  # Clean-up\n",
        "  rm(list=c(\"google\",\"combined_data\",\"combined_data_PBO\",\"combined_data_CBD\",\"age\", \"PBO_sex\",\"CBD_sex\",\"sex\",\"PBO_name\",\"CBD_name\",\"ID\",\"CBD_baseline\",\"PBO_baseline\",\"CBD_treatment\",\"PBO_treatment\"))\n",
        "  detach(\"package:MASS\", character.only=TRUE)\n",
        "  #rm(\"google\")\n",
        "  #detach(\"package:reticulate\", character.only=TRUE)\n",
        "\n",
        "  #from IPython.display import Image\n",
        "  #Image(\"img/picture.png\")\n",
        "} else {\n",
        "  cat('!!! Values must be assigned to variables named \"number\", \"avg_age\", \"malePBO\" and \"maleCBD\" before proceeding !!!')\n",
        "}\n",
        "\n",
        "\n",
        "\n",
        "##################### DO NOT EDIT ANY R CODE IN THIS CELL ######################"
      ]
    },
    {
      "cell_type": "markdown",
      "metadata": {
        "id": "DKogTwHqbQ0F"
      },
      "source": [
        "[](#RemoveThisTextCell)\n",
        "After running the above hidden code cell, if you click the files button on the navigation pane on the left side, you will now be able to see a data file created in your current working directory. (You might need to click the refresh button at the top of the files pane to see the newly created file). For example, if you candidate number was 153789, the datafile would be called `dataset-153789.csv`. You can view your data set by simply double-clicking the mouse on the file; this loads a viewer in Colab on the right side of the browser."
      ]
    },
    {
      "cell_type": "markdown",
      "metadata": {
        "id": "RLoacLPO2WZK"
      },
      "source": [
        "### **Uploading and importing your data set**"
      ]
    },
    {
      "cell_type": "markdown",
      "metadata": {
        "id": "GWFk9_5g2l04"
      },
      "source": [
        "<font color='blue'> <u><b>Coding Task</u></b>:<br> Load the dataframe into R and assign it to a new variable called <tt>combined_data</tt></font>"
      ]
    },
    {
      "cell_type": "code",
      "execution_count": null,
      "metadata": {
        "id": "5PPFna1NPhhj"
      },
      "outputs": [],
      "source": [
        "%%R\n",
        "#This assigns the dataframe dataset-282230.csv\n",
        "#into the variable combined_data\n",
        "combined_data <- read.csv(\"dataset-282230.csv\")\n",
        "\n"
      ]
    },
    {
      "cell_type": "markdown",
      "metadata": {
        "id": "zXCJJfw9cZkm"
      },
      "source": [
        "###**Part 1a: Presenting Data**"
      ]
    },
    {
      "cell_type": "markdown",
      "metadata": {
        "id": "rmdOntwaHTcs"
      },
      "source": [
        "<font color='blue'> <u><b>Coding Task</u></b>:<br> Return the number of rows and columns in the data frame, then view the first 10 rows of the dataframe. You should also be able to see what the variables are called in the column names of the dataframe.</font>"
      ]
    },
    {
      "cell_type": "code",
      "execution_count": null,
      "metadata": {
        "colab": {
          "base_uri": "https://localhost:8080/"
        },
        "id": "m4FJhG_QL3WQ",
        "outputId": "7dc6cc56-ec4c-48d5-a8c3-b218d828d0f1"
      },
      "outputs": [
        {
          "output_type": "stream",
          "name": "stdout",
          "text": [
            "[1] \"6\"\n",
            "[1] \"100\"\n",
            "   ID Baseline_Age    Sex Treatment Baseline Post_Treatment\n",
            "1   1           26   Male       PBO       64            243\n",
            "2   2           20   Male       PBO       88            132\n",
            "3   3           22   Male       PBO       11             42\n",
            "4   4           24   Male       PBO       11             24\n",
            "5   5           21 Female       PBO      144            399\n",
            "6   6           36   Male       PBO      126            357\n",
            "7   7           23   Male       PBO       34             87\n",
            "8   8           16   Male       PBO       57            120\n",
            "9   9           26   Male       PBO       62            186\n",
            "10 10           23   Male       PBO       16             21\n"
          ]
        }
      ],
      "source": [
        "%%R\n",
        "# this assigns values of rows and columns into the dataframe combined_data\n",
        "rows <- ncols(combined_data)\n",
        "columns <- nrows(combined_data)\n",
        "print(rows)\n",
        "print(columns)\n",
        "# this returns the first ten rows of combined_data\n",
        "head(combined_data,10)"
      ]
    },
    {
      "cell_type": "markdown",
      "metadata": {
        "id": "Ej1Ki9N3StgT"
      },
      "source": [
        "**Task: Assign Treatment as a categorical variables in the dataframe as a factor.**"
      ]
    },
    {
      "cell_type": "code",
      "execution_count": null,
      "metadata": {
        "colab": {
          "base_uri": "https://localhost:8080/"
        },
        "id": "KsNfJWBlSudd",
        "outputId": "255740d5-e3f9-4bfa-a98d-fbc7d087b852"
      },
      "outputs": [
        {
          "output_type": "stream",
          "name": "stdout",
          "text": [
            "'data.frame':\t100 obs. of  6 variables:\n",
            " $ ID            : Factor w/ 100 levels \"1\",\"2\",\"3\",\"4\",..: 1 2 3 4 5 6 7 8 9 10 ...\n",
            " $ Baseline_Age  : int  26 20 22 24 21 36 23 16 26 23 ...\n",
            " $ Sex           : Factor w/ 2 levels \"Female\",\"Male\": 2 2 2 2 1 2 2 2 2 2 ...\n",
            " $ Treatment     : Factor w/ 2 levels \"CBD\",\"PBO\": 2 2 2 2 2 2 2 2 2 2 ...\n",
            " $ Baseline      : int  64 88 11 11 144 126 34 57 62 16 ...\n",
            " $ Post_Treatment: int  243 132 42 24 399 357 87 120 186 21 ...\n"
          ]
        }
      ],
      "source": [
        "%%R\n",
        "#This assigns the treatment, sex and ID categorical variables in the data frame\n",
        "#as factors\n",
        "combined_data$Treatment <- as.factor(combined_data$Treatment)\n",
        "combined_data$Sex <- as.factor(combined_data$Sex)\n",
        "combined_data$ID <- as.factor(combined_data$ID)\n",
        "\n",
        "str(combined_data)"
      ]
    },
    {
      "cell_type": "markdown",
      "metadata": {
        "id": "0cs-9VCNxb2c"
      },
      "source": [
        "<br><font color='red'> <u><b>Question</u></b>:<br> What is the importance of assigning the categorical variables as factors?</font>"
      ]
    },
    {
      "cell_type": "markdown",
      "metadata": {
        "id": "qpBSH5VRfoMq"
      },
      "source": [
        "By defining the variables as factors, we can see the levels inside and so we are able to analyse data any patterns or trends within the data more easily.  Without this, the categorical variables could be seen as continuous variables leading to errors, showcasing the significance of this conversion. It also shows us the type of variable, such as integer (int)."
      ]
    },
    {
      "cell_type": "markdown",
      "metadata": {
        "id": "iU3wPu7dbGLH"
      },
      "source": [
        "####**Preparation of Data for Calculations**"
      ]
    },
    {
      "cell_type": "markdown",
      "metadata": {
        "id": "4JadAGU52ezP"
      },
      "source": [
        "<font color='blue'> <u><b>Coding Task</u></b>:<br> Adjust for the difference in the period of time for sampling.</font>"
      ]
    },
    {
      "cell_type": "markdown",
      "metadata": {
        "id": "g6E8YV67uvib"
      },
      "source": [
        "[](#RemoveThisTextCell)\n",
        "You will now need to adjust for the fact that the number of seizures in the `Baseline` and `Post-treatment` columns were counted across different periods of time and calculate the difference in seizure frequency before and during treatment (see excerpt of text provided at the beginning of Part 1). Show that the new dataframe is displaying the information as you expect."
      ]
    },
    {
      "cell_type": "code",
      "execution_count": null,
      "metadata": {
        "colab": {
          "base_uri": "https://localhost:8080/"
        },
        "id": "FLn1Bk2xbELP",
        "outputId": "146939ee-a422-4123-ca92-1c68018d3f21"
      },
      "outputs": [
        {
          "output_type": "stream",
          "name": "stdout",
          "text": [
            "  ID Baseline_Age    Sex Treatment Baseline Post_Treatment difference\n",
            "1  1           26   Male       PBO    16.00          20.25       4.25\n",
            "2  2           20   Male       PBO    22.00          11.00     -11.00\n",
            "3  3           22   Male       PBO     2.75           3.50       0.75\n",
            "4  4           24   Male       PBO     2.75           2.00      -0.75\n",
            "5  5           21 Female       PBO    36.00          33.25      -2.75\n",
            "6  6           36   Male       PBO    31.50          29.75      -1.75\n",
            "  percentage_difference\n",
            "1             26.562500\n",
            "2            -50.000000\n",
            "3             27.272727\n",
            "4            -27.272727\n",
            "5             -7.638889\n",
            "6             -5.555556\n"
          ]
        }
      ],
      "source": [
        "%%R\n",
        "# This creates a copy of the old dataframe into a new one named\n",
        "# new_combined_data\n",
        "new_combined_data <- combined_data\n",
        "\n",
        "# This adjusts the new_combined_data values showing the number of seizures\n",
        "# per week\n",
        "new_combined_data$Baseline <- new_combined_data$Baseline / 4\n",
        "new_combined_data$Post_Treatment <- new_combined_data$Post_Treatment / 12\n",
        "\n",
        "# This calculates the difference in seizure frequency before and during\n",
        "#treatment\n",
        "new_combined_data$difference <- (new_combined_data$Post_Treatment -\n",
        "                                 new_combined_data$Baseline)\n",
        "# This calculates the percentage difference in seizure frequency from\n",
        "# baseline to post treatment\n",
        "new_combined_data$percentage_difference <- (new_combined_data$Post_Treatment -\n",
        "                                        new_combined_data$Baseline) /\n",
        "                                        abs(new_combined_data$Baseline) * 100\n",
        "\n",
        "# This gives a summary of the new_combined_data\n",
        "head(new_combined_data)\n",
        "\n"
      ]
    },
    {
      "cell_type": "markdown",
      "metadata": {
        "id": "3IgRQBKcbPZM"
      },
      "source": [
        "####**Characteristics of the Cohort**"
      ]
    },
    {
      "cell_type": "markdown",
      "source": [
        "<font color='blue'> <u><b>Coding Task</b></u>:<br> Enter code in the cell below for the purpose of creating a summary table showing the characteristics of the people with seizures in those that received placebo and CBD.</font>"
      ],
      "metadata": {
        "id": "XvOdKpTInJe6"
      }
    },
    {
      "cell_type": "markdown",
      "source": [
        "[](#RemoveThisTextCell)\n",
        "This should include for each group how many participants were in each group, their average age, sex breakdown, and an indication of average number of seizures per week before and during treatment and how this changes with treatment. Provide a measure of variation alongside the values where appropriate."
      ],
      "metadata": {
        "id": "NBSvIIBenNJk"
      }
    },
    {
      "cell_type": "code",
      "execution_count": null,
      "metadata": {
        "colab": {
          "base_uri": "https://localhost:8080/"
        },
        "id": "GXc4Di5BBGC9",
        "outputId": "f60c3c4d-77ed-4619-c736-c1666e83296b"
      },
      "outputs": [
        {
          "output_type": "stream",
          "name": "stdout",
          "text": [
            "  Treatment    Sex  n\n",
            "1       CBD Female 28\n",
            "2       CBD   Male 22\n",
            "3       PBO Female 17\n",
            "4       PBO   Male 33\n",
            "[1] 33\n",
            "[1] 17\n",
            "[1] 22\n",
            "[1] 28\n",
            "  Treatment  n\n",
            "1       CBD 50\n",
            "2       PBO 50\n",
            "     Sex  n\n",
            "1 Female 45\n",
            "2   Male 55\n",
            "[1] \"33/17\"\n",
            "[1] \"22/28\"\n",
            "[1] \"26.16 ± 04.92\"\n",
            "[1] \"27.22 ± 04.08\"\n",
            "[1] \"16.00000 ± 12.74\"\n",
            "[1] \"25.24 ± 17.07\"\n",
            "[1] \"17.49 ± 18.52\"\n",
            "[1] \"15.21 ± 12.33\"\n",
            "[1] \"01.41 ± 41.82\"\n",
            "[1] \"-37.98 ± 32.07\"\n",
            "[1] \"26.16 ± 04.92\" \"27.22 ± 04.08\"\n",
            "[1] \"16.00000 ± 12.74\" \"25.24 ± 17.07\"   \n",
            "[1] \"17.49 ± 18.52\" \"15.21 ± 12.33\"\n",
            "[1] \"01.41 ± 41.82\"  \"-37.98 ± 32.07\"\n",
            "Table 1: Characteristics of the cohort\n",
            "\n",
            "=======================================================  ================  =================\n",
            "\\                                                           Placebo (PBO)  Cannabidiol (CBD)\n",
            "=======================================================  ================  =================\n",
            "N                                                                      50                 50\n",
            "Sex (F/M)                                                           33/17              22/28\n",
            "Age (Years; mean ± SD)                                      26.16 ± 04.92      27.22 ± 04.08\n",
            "Baseline Seizures (per week; mean ± SD)                  16.00000 ± 12.74      25.24 ± 17.07\n",
            "Seizures after starting treatment (per week; mean ± SD)     17.49 ± 18.52      15.21 ± 12.33\n",
            "Difference (% Baseline; mean ± SD)                          01.41 ± 41.82     -37.98 ± 32.07\n",
            "=======================================================  ================  =================\n"
          ]
        }
      ],
      "source": [
        "%%R\n",
        "count.treatmentsex <- count (new_combined_data, Treatment, Sex)\n",
        "print(count.treatmentsex)\n",
        "# This shows the count of participants of each sex in each\n",
        "# treatment group and assignns it to the variable count.treatment.sex\n",
        "PBO.male.n <- count.treatmentsex[4,3]\n",
        "print(PBO.male.n)\n",
        "PBO.female.n <- count.treatmentsex[3,3]\n",
        "print(PBO.female.n)\n",
        "CBD.male.n <- count.treatmentsex[2,3]\n",
        "print(CBD.male.n)\n",
        "CBD.female.n <- count.treatmentsex[1,3]\n",
        "print(CBD.female.n)\n",
        "# This assigns the number of participants in each treatment group per sex to\n",
        "# their own variables\n",
        "\n",
        "\n",
        "countparticipants <- count(new_combined_data, Treatment)\n",
        "print(countparticipants)\n",
        "# This is calculating the number of participants in treatment for each group\n",
        "countsex <- count (new_combined_data, Sex) %>% print(.)\n",
        "# This is calculating the number of participants of each sex in each group\n",
        "countsex.PBO <-sprintf(\"%s/%s\", PBO.male.n, PBO.female.n) %>% print(.)\n",
        "# This is calculating the number of participants of each sex in the PBO group\n",
        "countsex.CBD <-sprintf(\"%s/%s\", CBD.male.n, CBD.female.n) %>% print(.)\n",
        "# This is calculating the number of participants of each sex in the CBD group\n",
        "\n",
        "agesum.PBO <- sprintf (\"%05.2f ± %05.2f\",\n",
        "                       filter (new_combined_data,\n",
        "                               Treatment==\"PBO\")$Baseline_Age %>%\n",
        "                         mean (.),\n",
        "                       filter (new_combined_data,\n",
        "                               Treatment==\"PBO\")$Baseline_Age %>%\n",
        "                         sd (.)) %>% print(.)\n",
        "# This is calculating the average baseline age in the PBO group\n",
        "\n",
        "agesum.CBD <- sprintf (\"%05.2f ± %05.2f\",\n",
        "                       filter (new_combined_data,\n",
        "                               Treatment==\"CBD\")$Baseline_Age %>%\n",
        "                        mean (.),\n",
        "                       filter (new_combined_data,\n",
        "                               Treatment==\"CBD\")$Baseline_Age %>%\n",
        "                        sd (.)) %>% print(.)\n",
        "# This is calculating the average baseline age in the CBD group\n",
        "\n",
        "avgbefore.PBO <- sprintf (\"%05.5f ± %05.2f\",\n",
        "                       filter (new_combined_data, Treatment==\"PBO\")$Baseline %>%\n",
        "                          mean (.),\n",
        "                       filter (new_combined_data, Treatment==\"PBO\")$Baseline %>%\n",
        "                          sd (.)) %>% print(.)\n",
        "# This is calculating the average baseline frequency per week for the PBO group\n",
        "\n",
        "avgbefore.CBD <- sprintf (\"%05.2f ± %05.2f\",\n",
        "                       filter (new_combined_data, Treatment==\"CBD\")$Baseline %>%\n",
        "                          mean (.),\n",
        "                       filter (new_combined_data, Treatment==\"CBD\")$Baseline %>%\n",
        "                          sd (.)) %>% print(.)\n",
        "# This is calculating the average baseline frequency per week for the CBD group\n",
        "\n",
        "avgduring.PBO <- sprintf (\"%05.2f ± %05.2f\",\n",
        "                       filter (new_combined_data,\n",
        "                               Treatment==\"PBO\")$Post_Treatment %>%\n",
        "                          mean (.),\n",
        "                       filter (new_combined_data,\n",
        "                               Treatment==\"PBO\")$Post_Treatment %>%\n",
        "                          sd (.)) %>% print(.)\n",
        "# This is calculating the average frequency of seizures per week for the PBO\n",
        "# group during treatment\n",
        "\n",
        "avgduring.CBD <-sprintf (\"%05.2f ± %05.2f\",\n",
        "                       filter (new_combined_data,\n",
        "                               Treatment==\"CBD\")$Post_Treatment %>%\n",
        "                         mean (.),\n",
        "                       filter (new_combined_data,\n",
        "                               Treatment==\"CBD\")$Post_Treatment %>%\n",
        "                         sd (.)) %>% print(.)\n",
        "# This is calculating the average frequency of seizures per week for the CBD\n",
        "#group\n",
        "# during treatment\n",
        "diff.PBO <-sprintf (\"%05.2f ± %05.2f\",\n",
        "                       filter (new_combined_data,\n",
        "                               Treatment==\"PBO\")$percentage_difference %>%\n",
        "                         mean (.),\n",
        "                       filter (new_combined_data,\n",
        "                               Treatment==\"PBO\")$percentage_difference %>%\n",
        "                         sd (.)) %>% print(.)\n",
        "diff.CBD <-sprintf (\"%05.2f ± %05.2f\",\n",
        "                       filter (new_combined_data, Treatment==\"CBD\")\n",
        "                       $percentage_difference %>%\n",
        "                         mean (.),\n",
        "                       filter (new_combined_data,\n",
        "                               Treatment==\"CBD\")$percentage_difference %>%\n",
        "                         sd (.)) %>% print(.)\n",
        "\n",
        "# This is calculating the average percentage change in the number of frequencies\n",
        "# for the PBO treatment\n",
        "combined.participants <- c(countparticipants.PBO, countparticipants.CBD)\n",
        "combined.sex <- c(countsex.PBO, countsex.CBD)\n",
        "combined.avgage <- c(agesum.PBO, agesum.CBD) %>% print (.)\n",
        "combined.avgbefore <- c(avgbefore.PBO, avgbefore.CBD) %>% print (.)\n",
        "combined.avgduring <- c(avgduring.PBO, avgduring.CBD) %>% print (.)\n",
        "combined.diff <- c(diff.PBO, diff.CBD) %>% print (.)\n",
        "\n",
        "# This is combining the pairs of variables together for creating the table\n",
        "\n",
        "cohort.summary <- data.frame (combined.participants,\n",
        "                              combined.sex, combined.avgage,\n",
        "                              combined.avgbefore, combined.avgduring,\n",
        "                              combined.diff)\n",
        "cohort.summary.names<-c(\"N\",\n",
        "                        \"Sex (F/M)\",\n",
        "                        \"Age (Years; mean ± SD)\",\n",
        "                        \"Baseline Seizures (per week; mean ± SD)\",\n",
        "                      \"Seizures after starting treatment (per week; mean ± SD)\",\n",
        "                      \"Difference (% Baseline; mean ± SD)\")\n",
        "cohort.summary %>%\n",
        "  t () %>%\n",
        "  data.frame (row.names = cohort.summary.names) %>%\n",
        "  kable (\"rst\",\n",
        "         align=\"r\",\n",
        "         col.names=c(\"\", \"Placebo (PBO)\", \"Cannabidiol (CBD)\"),\n",
        "         caption=cat(\"Table 1: Characteristics of the cohort\")) %>% print ()\n",
        "\n",
        "\n",
        "\n",
        "\n",
        "\n"
      ]
    },
    {
      "cell_type": "markdown",
      "metadata": {
        "id": "sfp6MyP7um_6"
      },
      "source": [
        "<br><font color='red'> <u><b>Question</u></b>:<br> Based on the table you just created, provide a summary of the frequency of the seizues before and after starting treatment for both the PBO and CBD groups?</font>"
      ]
    },
    {
      "cell_type": "markdown",
      "metadata": {
        "id": "swayULPufrrb"
      },
      "source": [
        "Participants in the CBD group on the whole experienced a lower seizure frequency\n",
        "after CBD treatment (from 25.24 ± 17.07 seizures weekly prior CBD treatment, to\n",
        "15.21 ± 12.33 seizures per week post treatment). This is a decrease of -37.98 ± 32.07 % compared to prior treatment. However, patients in the PBO\n",
        "group generally experienced an increase in seizure frequency post placebo\n",
        "treatment (from 16.00000 ± 12.74 seizures pre-treatment, to 17.49 ± 18.52\n",
        "seizures post-treatment. This is an increase of around 01.41 ± 41.82% from the\n",
        "baseline. This could be due to the cannabidiol treatment being efficacious and reducing the frequency of seizures, however further statistical tests need to be undertaken to confirm this."
      ]
    },
    {
      "cell_type": "markdown",
      "metadata": {
        "id": "49_h5rszcGmK"
      },
      "source": [
        "####**Graphing the Data**\n"
      ]
    },
    {
      "cell_type": "markdown",
      "metadata": {
        "id": "yDkbg79Wltgh"
      },
      "source": [
        "<font color='blue'> <u><b>Coding Task</u></b>:<br> Create a dataframe with the Baseline and Post-treatment data represented in long format in preparation for graphing the data.</font>"
      ]
    },
    {
      "cell_type": "markdown",
      "metadata": {
        "id": "fFT71r2HddP_"
      },
      "source": [
        "[](#RemoveThisTextCell)\n",
        "The data currently is in wide format which is difficult to graph. Show that the new dataframe is displaying the information as you expect."
      ]
    },
    {
      "cell_type": "code",
      "execution_count": null,
      "metadata": {
        "id": "cRbQ4cjocLMZ",
        "colab": {
          "base_uri": "https://localhost:8080/"
        },
        "outputId": "b1811b20-5a3b-4200-bcd2-f240fbf31983"
      },
      "outputs": [
        {
          "output_type": "stream",
          "name": "stdout",
          "text": [
            "   ID Baseline_Age    Sex Treatment difference percentage_difference\n",
            "1   1           26   Male       PBO       4.25             26.562500\n",
            "2   1           26   Male       PBO       4.25             26.562500\n",
            "3   2           20   Male       PBO     -11.00            -50.000000\n",
            "4   2           20   Male       PBO     -11.00            -50.000000\n",
            "5   3           22   Male       PBO       0.75             27.272727\n",
            "6   3           22   Male       PBO       0.75             27.272727\n",
            "7   4           24   Male       PBO      -0.75            -27.272727\n",
            "8   4           24   Male       PBO      -0.75            -27.272727\n",
            "9   5           21 Female       PBO      -2.75             -7.638889\n",
            "10  5           21 Female       PBO      -2.75             -7.638889\n",
            "        Timepoint value\n",
            "1        Baseline 16.00\n",
            "2  Post_Treatment 20.25\n",
            "3        Baseline 22.00\n",
            "4  Post_Treatment 11.00\n",
            "5        Baseline  2.75\n",
            "6  Post_Treatment  3.50\n",
            "7        Baseline  2.75\n",
            "8  Post_Treatment  2.00\n",
            "9        Baseline 36.00\n",
            "10 Post_Treatment 33.25\n"
          ]
        }
      ],
      "source": [
        "%%R\n",
        "# Enter your code below this comment\n",
        "# This converts the data in new_combined_data into long format and prints the\n",
        "#first 10 rows of the new dataframe\n",
        "new_combined_data_long <- pivot_longer (new_combined_data, 5:6, names_to=\"Timepoint\")\n",
        "head(new_combined_data_long,12)\n",
        "\n",
        "# This ensures the data in long format is saved as factor\n",
        "new_combined_data_long$Timepoint <- as.factor(new_combined_data_long$Timepoint)\n",
        "new_combined_data_long <- data.frame(new_combined_data_long)\n",
        "head(new_combined_data_long,10)\n",
        "\n"
      ]
    },
    {
      "cell_type": "markdown",
      "metadata": {
        "id": "eRSfF6U9aAaR"
      },
      "source": [
        "<font color='blue'> <u><b>Coding Task</u></b>:<br> Graph a bar graph showing the change in the frequency of seizures that occurred following treatment relative to baseline for PBO and CBD.</font>"
      ]
    },
    {
      "cell_type": "markdown",
      "metadata": {
        "id": "iOyvkDwvdvnm"
      },
      "source": [
        "[](#RemoveThisTextCell)\n",
        "The average and its standard deviation for each group should be shown and ensure that you have appropriate colours and titles."
      ]
    },
    {
      "cell_type": "code",
      "execution_count": null,
      "metadata": {
        "id": "_swoCBRIcOY_",
        "colab": {
          "base_uri": "https://localhost:8080/",
          "height": 497
        },
        "outputId": "a57e0c27-e639-4064-b34f-8238907cb1b8"
      },
      "outputs": [
        {
          "output_type": "display_data",
          "data": {
            "image/png": "[encoded data removed]"
          },
          "metadata": {}
        }
      ],
      "source": [
        "%%R\n",
        "# Enter your code below this comment\n",
        "# this creates a bar graph with the difference in seizure frequency after\n",
        "# treatment (PBO/CBD)\n",
        "\n",
        "ggplot() +\n",
        "  stat_summary (data=new_combined_data,\n",
        "                aes (x=Treatment,\n",
        "                     y=percentage_difference),\n",
        "                fun=\"mean\",\n",
        "                fill=\"grey\",\n",
        "                geom=\"bar\") +\n",
        "\n",
        "  stat_summary (data=new_combined_data,\n",
        "                aes (x=Treatment,\n",
        "                     y=percentage_difference),\n",
        "                fun.data=\"mean_cl_normal\",\n",
        "                geom=\"errorbar\",\n",
        "                width=0.25,\n",
        "                color=\"darkgreen\",\n",
        "                linewidth=1.5) +\n",
        "  # this adds dark green error bars to the bar graph plot and adds clearer\n",
        "  # axis labels\n",
        "  scale_y_continuous (name=\"Seizure frequency change post-treatment(%)\\n\") +\n",
        "  scale_x_discrete (name=\"\\nTreatment groups\",\n",
        "                    limits=c(\"CBD\", \"PBO\")) +\n",
        "  theme_classic (base_size=22)\n"
      ]
    },
    {
      "cell_type": "markdown",
      "metadata": {
        "id": "6eB5ncgCbtsx"
      },
      "source": [
        "<br><font color='red'> <u><b>Question</u></b>:<br> Provide a suitable caption for the graph you have just drawn.</font>"
      ]
    },
    {
      "cell_type": "markdown",
      "metadata": {
        "id": "pv9cEFO-fz_A"
      },
      "source": [
        "A bar chart plotting the treatment groups (cannabidiol-treated patients and placebo-treated patients) against the baseline age (age prior to treatment) of the participants. Error bars are shown in green. This clearly shows CBD-treated patients overall experienced a much larger difference in the weekly seizure frequency compared to their placebo counterparts."
      ]
    },
    {
      "cell_type": "markdown",
      "metadata": {
        "id": "Wrr5IDnlal3u"
      },
      "source": [
        "<font color='blue'> <u><b>Coding Task</u></b>:<br> Graph a dot plot showing the change in the frequency of seizures per week per participant separated by treatment.</font>"
      ]
    },
    {
      "cell_type": "markdown",
      "metadata": {
        "id": "uYrT1MbndyVr"
      },
      "source": [
        "[](#RemoveThisTextCell)\n",
        "The average and its standard deviation for each group should also be shown and ensure that you have appropriate colours and titles."
      ]
    },
    {
      "cell_type": "code",
      "execution_count": null,
      "metadata": {
        "id": "oZ75AeaocQj9",
        "colab": {
          "base_uri": "https://localhost:8080/",
          "height": 497
        },
        "outputId": "2a911295-be0d-45a8-bc5a-7b249b62f3fc"
      },
      "outputs": [
        {
          "output_type": "display_data",
          "data": {
            "image/png": "[encoded data removed]"
          },
          "metadata": {}
        }
      ],
      "source": [
        "%%R\n",
        "# Enter your code below this comment\n",
        "ggplot() +\n",
        "  geom_point (data=new_combined_data_long,\n",
        "                aes (x=Treatment,\n",
        "                     y=percentage_difference),\n",
        "                fun=\"mean\",\n",
        "                fill=\"grey\",\n",
        "                alpha=0.1,\n",
        "                size=2) +\n",
        "  # This is the dot graph showing the change in seizures per treatment\n",
        "  # for each individual\n",
        "  stat_summary (data=new_combined_data_long,\n",
        "              aes (x=Treatment,\n",
        "                   y=percentage_difference),\n",
        "              fun.data=\"mean_cl_normal\",\n",
        "              geom=\"errorbar\",\n",
        "              width=0.25,\n",
        "              color=\"red\",\n",
        "              linewidth=1.5,\n",
        "              size=5) +\n",
        "  # This adds dark green error bars to the bar graph plot\n",
        "  scale_y_continuous (name=\"Seizure frequency change \\npost-treatment (%)\\n\") + scale_x_discrete(name=\"\\n Type of treatment\",limits=c(\"CBD\" , \"PBO\")) +\n",
        "  theme_classic (base_size=22) +\n",
        "  # This adds clearer axis labels\n",
        "\n",
        "\n",
        "  geom_hline (aes (yintercept=0),\n",
        "            color=\"blue\",\n",
        "            linetype=\"dashed\",\n",
        "            linewidth=1)\n",
        "  # This adds a blue zero line to the graph\n",
        "\n",
        "\n"
      ]
    },
    {
      "cell_type": "markdown",
      "metadata": {
        "id": "tlIkYQWobH82"
      },
      "source": [
        "<br><font color='red'> <u><b>Question</u></b>:<br> Provide a suitable caption for the graph you have just drawn.</font>"
      ]
    },
    {
      "cell_type": "markdown",
      "metadata": {
        "id": "7gxdLqeSfvpZ"
      },
      "source": [
        "A dot plot illustrating the type of treatment, cannabidiol-treated (CBD) and placebo (PBO), against the frequency of seizures in patients post-treatment. The error bars are in red and the zero line in blue. This plot shows the placebo group has an overall higher frequency of seizures post-treatment in comparison to the cannabidiol group."
      ]
    },
    {
      "cell_type": "markdown",
      "metadata": {
        "id": "7ELqK2_KbwH9"
      },
      "source": [
        "<font color='blue'> <u><b>Coding Task</u></b>:<br> Draw a graph to clearly show the change in number of seizures per week that occured at baseline and following treatment per participant, separated for each treatment group.</font>"
      ]
    },
    {
      "cell_type": "markdown",
      "metadata": {
        "id": "FX5n3qGydp4x"
      },
      "source": [
        "[](#RemoveThisTextCell)\n",
        "The average and its standard deviation for each group should be shown and ensure that you have appropriate colours and titles."
      ]
    },
    {
      "cell_type": "code",
      "execution_count": null,
      "metadata": {
        "id": "OMl7uF00cRsJ",
        "colab": {
          "base_uri": "https://localhost:8080/",
          "height": 497
        },
        "outputId": "b03cc7af-4002-4c8d-857b-1047362c35f7"
      },
      "outputs": [
        {
          "output_type": "display_data",
          "data": {
            "image/png": "[encoded data removed]"
          },
          "metadata": {}
        }
      ],
      "source": [
        "%%R\n",
        "# Enter your code below this comment\n",
        "ggplot () +\n",
        "  geom_point (data=new_combined_data_long,\n",
        "              aes(x=interaction(Timepoint, Treatment),\n",
        "                  y=value),\n",
        "              color=\"black\",\n",
        "              alpha=0.1,\n",
        "              size=2) +\n",
        "  geom_line (data=new_combined_data_long,\n",
        "             aes(x=interaction(Timepoint, Treatment),\n",
        "                 y=value,\n",
        "                 group=ID),\n",
        "             color=\"black\",\n",
        "             alpha=0.1,\n",
        "             linewidth=0.5) +\n",
        "  # This is the dot graph showing the change in seizures per sex\n",
        "  # for each individual\n",
        "  stat_summary (data=new_combined_data_long,\n",
        "                 aes(x=interaction(Timepoint, Treatment),\n",
        "                      y=value),\n",
        "                 fun.data=\"mean_cl_normal\",\n",
        "                 geom=\"errorbar\",\n",
        "                 width=0.25,\n",
        "                 color=\"red\",\n",
        "                 linewidth=1.5) +\n",
        "   # This adds dark green error bars to the bar graph plot\n",
        "   scale_y_continuous (name=\"Number of seizures per week\\n\") +\n",
        "   scale_x_discrete (limits=c(\"Baseline.CBD\", \"Post_Treatment.CBD\",\n",
        "                              \"Baseline.PBO\", \"Post_Treatment.PBO\"),\n",
        "                     labels=c(\"CBD\\nBaseline\", \"CBD\\nTreated\",\n",
        "                              \"PBO\\nBaseline\", \"PBO\\nTreated\"),\n",
        "                     name=\"\\nTimepoints per treatment\") +\n",
        "   theme_classic (base_size=22)\n",
        "   # This adds clearer axis labels\n",
        "\n",
        "\n",
        "\n"
      ]
    },
    {
      "cell_type": "markdown",
      "metadata": {
        "id": "xY_sxAV8buva"
      },
      "source": [
        "<br><font color='red'> <u><b>Question</u></b>:<br> In this text box, provide a suitable caption for the graph you have just drawn.</font>\n"
      ]
    },
    {
      "cell_type": "markdown",
      "metadata": {
        "id": "xrMXnzyRgtCT"
      },
      "source": [
        "A dot plot showing timepoints per treatment where this refers to the period of time when seizures are recorded (baseline meaning prior treatment, and also during treatment for both the cannabidiol (CBD) and placebo (PBO groups). The timepoints are plotted against the number of seizures per week for each individual. The error bars are shown in red and each individual plot are joined to their respective baseline/treated pair."
      ]
    },
    {
      "cell_type": "markdown",
      "metadata": {
        "id": "MRty9KVtl7Gd"
      },
      "source": [
        "<br><font color='red'> <u><b>Question</u></b>:<br> Comparing the three graphs with each other, discuss the advantages and disadvantages of presenting the data in this manner.</font>"
      ]
    },
    {
      "cell_type": "markdown",
      "metadata": {
        "id": "6HZEZWGZl7ip"
      },
      "source": [
        "A key advantage of the first bar graph is that the overall conclusion of cannabidiol treatment greatly reducing the weekly frequency of seizures can be made. This is a conclusion made generally for all results together, whereas the other two graphs are dot plots showing individual plots which may be a disadvantage when looking for overall trends in data. The second graph (dot plot) allows us to conclude that there is a lower spread of the frequency of seizures in the CBD group compared to the placebo group, which cannot be seen in the first bar chart. The third graph highlights there are lots of differences in response to treatment between each individual data point, enabling better visualisation of our data and demosntrating the individual differences in variation.\n"
      ]
    },
    {
      "cell_type": "markdown",
      "metadata": {
        "id": "ialbbOyfciDt"
      },
      "source": [
        "###**Part 1b: Determing Effects and Statistical Significance**"
      ]
    },
    {
      "cell_type": "markdown",
      "metadata": {
        "id": "_mZD6MVA2pWK"
      },
      "source": [
        "####**Statistical Testing**"
      ]
    },
    {
      "cell_type": "markdown",
      "metadata": {
        "id": "3n7LeirhcBUh"
      },
      "source": [
        "<font color='blue'> <u><b>Coding Task</u></b>:<br> Determine graphically whether the data for both groups shows a normal distribution.</font>"
      ]
    },
    {
      "cell_type": "markdown",
      "metadata": {
        "id": "eDv92r1Ed19u"
      },
      "source": [
        "[](#RemoveThisTextCell)\n",
        "This should be shown as graphs and should not involve a Shapiro-Wilks test or an equivalent statistical test."
      ]
    },
    {
      "cell_type": "code",
      "execution_count": null,
      "metadata": {
        "id": "5r86BUtHwGvr",
        "colab": {
          "base_uri": "https://localhost:8080/",
          "height": 497
        },
        "outputId": "8e1f2805-e955-4074-e069-b5c9f75f586f"
      },
      "outputs": [
        {
          "output_type": "display_data",
          "data": {
            "image/png": "[encoded data removed]"
          },
          "metadata": {}
        }
      ],
      "source": [
        "%%R\n",
        "# Enter your code below this comment\n",
        "# this creates a QQ plot\n",
        "ggplot() +\n",
        "  stat_qq (data=subset(new_combined_data_long, Treatment == \"PBO\"),\n",
        "           aes(sample=percentage_difference),\n",
        "           color=\"black\",\n",
        "           size=2) +\n",
        "  stat_qq_line (data=subset(new_combined_data_long, Treatment ==\"PBO\"),\n",
        "                aes(sample=percentage_difference),\n",
        "                color=\"red\",\n",
        "                linewidth=1.5) +\n",
        "  ggtitle       (\"QQ Plot (PBO)\") +\n",
        "  scale_y_continuous (name=\"Sample Quantiles\\n\") +\n",
        "  scale_x_continuous (name=\"\\nTheoretical Quantiles\") +\n",
        "  theme_classic (base_size=25)\n",
        "\n",
        "# PBO Group\n"
      ]
    },
    {
      "cell_type": "code",
      "execution_count": null,
      "metadata": {
        "id": "ttSmPsqQRU0r",
        "colab": {
          "base_uri": "https://localhost:8080/",
          "height": 497
        },
        "outputId": "d7488c38-0c8c-4148-e21e-de848015737e"
      },
      "outputs": [
        {
          "output_type": "display_data",
          "data": {
            "image/png": "[encoded data removed]"
          },
          "metadata": {}
        }
      ],
      "source": [
        "%%R\n",
        "# Enter your code below this comment\n",
        "ggplot() +\n",
        "  stat_qq (data=subset(new_combined_data_long, Treatment == \"CBD\"),\n",
        "           aes(sample=percentage_difference),\n",
        "           color=\"black\",\n",
        "           size=2) +\n",
        "  stat_qq_line (data=subset(new_combined_data_long, Treatment ==\"CBD\"),\n",
        "                aes(sample=percentage_difference),\n",
        "                color=\"red\",\n",
        "                linewidth=1.5) +\n",
        "  ggtitle       (\"QQ Plot (CBD)\") +\n",
        "  scale_y_continuous (name=\"Sample Quantiles\\n\") +\n",
        "  scale_x_continuous (name=\"\\nTheoretical Quantiles\") +\n",
        "  theme_classic (base_size=25)\n",
        "\n",
        "# CBD Group\n"
      ]
    },
    {
      "cell_type": "markdown",
      "metadata": {
        "id": "v7dqLXwocPVb"
      },
      "source": [
        "<br><font color='red'> <u><b>Question</b></u>:<br>\n",
        "Provide a conclusion based on the graphs above about the normal distribution of the data, and why this is important for undertaking any statistical testing?</font>"
      ]
    },
    {
      "cell_type": "markdown",
      "metadata": {
        "id": "HIyZ2-AthFL2"
      },
      "source": [
        "The Q plots I have plotted demonstrate that the data might not be normally distributed since some of the values plotted do not follow in a straight manner as shown by the red line. The creation and analysis of the Q plots are essential since this determines whether we should use either a Wilcoxon rank sum test (for no normal distribution) or a parametric test (for normally distributed data)."
      ]
    },
    {
      "cell_type": "markdown",
      "metadata": {
        "id": "KhYc1E6lcvfA"
      },
      "source": [
        "<font color='blue'> <u><b>Coding Task</u></b>:<br> Influenced by your answer in the previous question, calculate whether there is statistical support for CBD treatment having an effect on the change in the frequency of seizures per week when compared to PBO treatment.</font>\n"
      ]
    },
    {
      "cell_type": "code",
      "execution_count": null,
      "metadata": {
        "id": "ys5Nmd2wszSj",
        "colab": {
          "base_uri": "https://localhost:8080/"
        },
        "outputId": "a24b8668-897b-48df-9e52-193bf8e60ef2"
      },
      "outputs": [
        {
          "output_type": "stream",
          "name": "stdout",
          "text": [
            "\n",
            "\tWilcoxon rank sum test with continuity correction\n",
            "\n",
            "data:  difference.CBD and difference.PBO\n",
            "W = 520, p-value = 4.926e-07\n",
            "alternative hypothesis: true location shift is not equal to 0\n",
            "95 percent confidence interval:\n",
            " -49.04313 -24.78910\n",
            "sample estimates:\n",
            "difference in location \n",
            "             -36.36191 \n",
            "\n"
          ]
        }
      ],
      "source": [
        "%%R\n",
        "# Enter your code below this comment\n",
        "# this runs a t test in order to see if CBD treated patients have a difference\n",
        "# in seizure frequency compared to patients in the placebo group\n",
        "\n",
        "difference.CBD <- filter(new_combined_data,\n",
        "                         Treatment == \"CBD\")$percentage_difference\n",
        "difference.PBO <- filter(new_combined_data,\n",
        "                         Treatment == \"PBO\")$percentage_difference\n",
        "wilcox_rank_sum_test <- wilcox.test (difference.CBD, difference.PBO,\n",
        "                                     conf.int=T,\n",
        "                                     paired=F,\n",
        "                                     var.equal=F)\n",
        "wilcox_rank_sum_test\n",
        "\n"
      ]
    },
    {
      "cell_type": "markdown",
      "metadata": {
        "id": "WFcnSfjQdVzK"
      },
      "source": [
        "<font color='blue'> <u><b>Coding Task</u></b>:<br> Present the results of your statistical test in a table with an appropriate title.</font>"
      ]
    },
    {
      "cell_type": "markdown",
      "metadata": {
        "id": "mX9gH5LDd8si"
      },
      "source": [
        "[](#RemoveThisTextCell)\n",
        "Use your candidate number as the study number and consider what variables should be included."
      ]
    },
    {
      "cell_type": "code",
      "execution_count": null,
      "metadata": {
        "id": "OWcwrEIUszgQ",
        "colab": {
          "base_uri": "https://localhost:8080/"
        },
        "outputId": "bf276f60-b314-455f-c68a-91a0d25b5f33"
      },
      "outputs": [
        {
          "output_type": "stream",
          "name": "stdout",
          "text": [
            "Table 2:Average difference and respective confidence \n",
            "         intervals for the seizure frequency change in CBD vs PBO patients\n",
            "\n",
            "======  ===  ==========  ================\n",
            " Study    n  Difference             CI_95\n",
            "======  ===  ==========  ================\n",
            "282230  100      -36.36  [-49.04, -24.79]\n",
            "======  ===  ==========  ================\n"
          ]
        }
      ],
      "source": [
        "%%R\n",
        "# Enter your code below this comment\n",
        "# this assigns the stats test results into a dataframe\n",
        "stats_test_results <- data.frame (\"Study\" = \"282230\",\n",
        "                                   \"n\" = 100,\n",
        "                                   \"Difference\" = sprintf(\"%+06.2f\",\n",
        "                                                          -36.36191),\n",
        "                                   \"CI_95\" = sprintf(\"[%+06.2f, %+06.2f]\",\n",
        "                                                    wilcox_rank_sum_test$\n",
        "                                                     conf.int[1],\n",
        "                                                    wilcox_rank_sum_test$\n",
        "                                                     conf.int[2]))\n",
        "# this creates a table of results\n",
        "\n",
        "stats_test_results %>%\n",
        "  kable (\"rst\",\n",
        "         align=\"r\",\n",
        "         caption=cat(\"Table 2:Average difference and respective confidence\n",
        "         intervals for the seizure frequency change in CBD vs PBO patients\"\n",
        "         ))%>% print ()\n",
        "\n",
        "\n",
        "\n",
        "\n",
        "\n"
      ]
    },
    {
      "cell_type": "markdown",
      "metadata": {
        "id": "UPi9C5Yuc3nU"
      },
      "source": [
        "<br><font color='red'> <u><b>Question</u></b>:<br> Stating the null hypothesis, what conclusion can be stated from the statistical test that you have undertaken?</font>"
      ]
    },
    {
      "cell_type": "markdown",
      "metadata": {
        "id": "FrgWuNZrhUGc"
      },
      "source": [
        "The null hypothesis asserts that there is no difference in seizure frequency during treatment between the cannabidiol-treated patients and the placebo group patients compared to prior treatment. Since our p value is miniscule, we can reject the null hypothesis and accept the alternative hypothesis that cannabidiol treatment shows statistically significant reduction in the percentage seizure frequency per week in patients compared to the control placebo group."
      ]
    },
    {
      "cell_type": "markdown",
      "metadata": {
        "id": "J0i60SiN2ccL"
      },
      "source": [
        "####**Contingency Table**"
      ]
    },
    {
      "cell_type": "markdown",
      "metadata": {
        "id": "BZNuqp8-qZWV"
      },
      "source": [
        "<font color='blue'> <u><b>Coding Task</u></b>:<br> Construct a contingency table of those that responded to the CBD and PBO treatment.</font>"
      ]
    },
    {
      "cell_type": "markdown",
      "metadata": {
        "id": "PuKkFP9Bd_6Y"
      },
      "source": [
        "[](#RemoveThisTextCell)\n",
        "For this task, a responder is someone who had a decrease more than 50% in the frequency of seizures that they had after the treatment compared to baseline."
      ]
    },
    {
      "cell_type": "code",
      "execution_count": null,
      "metadata": {
        "id": "3QjambUyszwv",
        "colab": {
          "base_uri": "https://localhost:8080/"
        },
        "outputId": "3010d4b8-2365-4435-c01e-05ee6965c9df"
      },
      "outputs": [
        {
          "output_type": "stream",
          "name": "stdout",
          "text": [
            "Table 1: Contingency Table\n",
            "\n",
            "=================  =========================  ============================\n",
            "\\                  Responders (>=50% change)  Non-responders (<50% change)\n",
            "=================  =========================  ============================\n",
            "Cannabidiol (CBD)                         24                            26\n",
            "Placebo (PBO)                              2                            48\n",
            "=================  =========================  ============================\n"
          ]
        }
      ],
      "source": [
        "%%R\n",
        "# this shows the number of responders vs. those who gave no response to the\n",
        "# CBD/PBO treatment\n",
        "responders.PBO <- sum(difference.PBO <= -50)\n",
        "responders.CBD <- sum(difference.CBD <= -50)\n",
        "noresponse.PBO <- sum(difference.PBO > -50)\n",
        "noresponse.CBD <- sum(difference.CBD > -50)\n",
        "\n",
        "row_PBO <- c(responders.PBO, noresponse.PBO)\n",
        "row_CBD <- c(responders.CBD, noresponse.CBD)\n",
        "df.names.respond <-c(\"Cannabidiol (CBD)\",\n",
        "                     \"Placebo (PBO)\")\n",
        "df.sim.respond <- data.frame (row_CBD, row_PBO)\n",
        "# this prints the contingency table\n",
        "df.sim.respond %>%\n",
        "  t () %>%\n",
        "  data.frame (row.names = df.names.respond) %>%\n",
        "  kable (\"rst\",\n",
        "         align=\"r\",\n",
        "         col.names=c(\"\", \"Responders (>=50% change)\",\n",
        "                     \"Non-responders (<50% change)\"),\n",
        "                     caption=cat(\"Table 1: Contingency Table\")) %>% print()\n"
      ]
    },
    {
      "cell_type": "markdown",
      "metadata": {
        "id": "vctGy4D-2lPL"
      },
      "source": [
        "####**Odds Ratio**"
      ]
    },
    {
      "cell_type": "markdown",
      "metadata": {
        "id": "KMVOZ-2DrSr3"
      },
      "source": [
        "<font color='blue'> <u><b>Coding Task</u></b>:<br> Calculate the odds ratio of a participant in the CBD group responding to treatment compared to someone in the the PBO control group.</font>"
      ]
    },
    {
      "cell_type": "markdown",
      "metadata": {
        "id": "pVI0CarveDGv"
      },
      "source": [
        "[](#RemoveThisTextCell)\n",
        "The odds ratio is the ratio of responders-to-nonresponders in the drug treatment group relative to the same in the placebo control treatment."
      ]
    },
    {
      "cell_type": "code",
      "execution_count": null,
      "metadata": {
        "id": "oO19doXav7he",
        "colab": {
          "base_uri": "https://localhost:8080/"
        },
        "outputId": "ed671b1c-9208-4a62-bc6d-c76e27e9f3fe"
      },
      "outputs": [
        {
          "output_type": "stream",
          "name": "stdout",
          "text": [
            "[1] 22.15385\n"
          ]
        }
      ],
      "source": [
        "%%R\n",
        "# odds ratio calculation\n",
        "odds_ratio <-\n",
        " (responders.CBD / noresponse.CBD) / (responders.PBO / noresponse.PBO)\n",
        "\n",
        "odds_ratio"
      ]
    },
    {
      "cell_type": "markdown",
      "metadata": {
        "id": "1lOzJEHfuP4U"
      },
      "source": [
        "<br><font color='red'> <u><b>Question</u></b>:<br> What does this odds ratio represent in the context of this study and compare and contrast this to the raw percentage change average?</font>"
      ]
    },
    {
      "cell_type": "markdown",
      "metadata": {
        "id": "BCSin0RChkEQ"
      },
      "source": [
        "The odds ratio is a very large number of 22.15385, suggesting there is a strong positive correlation between receiving cannabidiol (CBD) treatment and the reduction of seizure frequency. The raw percentage change average of -36.36191% also shows a great reduction in seizure frequency for CBD patients, further supporting the odds ratio. The odds ratio is prefered since it takes into account the relative ratios of response/non-response in the drug treatment versus placebo group. This gives us more accuracy when interpreting the results."
      ]
    },
    {
      "cell_type": "markdown",
      "metadata": {
        "id": "OIipjczhrsfr"
      },
      "source": [
        "<font color='blue'> <u><b>Coding Task</u></b>:<br> Present the odds ratio with 95% confidence interval in a table with an appropriate title.</font>"
      ]
    },
    {
      "cell_type": "markdown",
      "metadata": {
        "id": "OgrjR_EQeFa0"
      },
      "source": [
        "[](#RemoveThisTextCell)\n",
        "Use your candidate number as the study number and consider what variables should be included."
      ]
    },
    {
      "cell_type": "code",
      "execution_count": null,
      "metadata": {
        "id": "b9wktll8l-oU",
        "colab": {
          "base_uri": "https://localhost:8080/"
        },
        "outputId": "eb3c98a3-7ecd-4e9e-c7a6-74a9ca0b12f1"
      },
      "outputs": [
        {
          "output_type": "stream",
          "name": "stdout",
          "text": [
            "[1] 38.58358\n",
            "[1] 12.72025\n",
            "Table 3:Odds ratio with upper and \n",
            "        lower confidence intervals\n",
            "\n",
            " odds_ratio   upperORCI   lowerORCI\n",
            "-----------  ----------  ----------\n",
            "   22.15385    38.58358    12.72025\n"
          ]
        }
      ],
      "source": [
        "%%R\n",
        "# Convertion of the odds ratio onto a log ratio\n",
        "logOR <- log(odds_ratio)\n",
        "critical_value <- 1.96\n",
        "ORCI.value <- critical_value * sqrt(1/responders.CBD + 1/noresponse.CBD)\n",
        "upperORCI <- exp(logOR + ORCI.value) %>% print(.)\n",
        "lowerORCI <- exp(logOR - ORCI.value) %>% print(.)\n",
        "\n",
        "# This creates a table showing the critical value, the upper odds ratio\n",
        "# confidence interval and the lower odds ratio confidence interval\n",
        "odds_ratio_dataframe <- data.frame (odds_ratio, upperORCI, lowerORCI)\n",
        "odds_ratio_dataframe %>%\n",
        " kable(\"simple\",\n",
        "        align = \"r\",\n",
        "        caption=cat(\"Table 3:Odds ratio with upper and\n",
        "        lower confidence intervals\"))%>% print ()\n",
        "\n",
        "\n"
      ]
    },
    {
      "cell_type": "markdown",
      "metadata": {
        "id": "_GIF1SkXoKOV"
      },
      "source": [
        "<br><font color='red'> <u><b>Question</u></b>:<br> Based on all the analyses that you have done in Part 1, summarise the findings about the effect of CBD on the frequency of seizures?</font>"
      ]
    },
    {
      "cell_type": "markdown",
      "metadata": {
        "id": "ujeFPlV4oJw2"
      },
      "source": [
        "The creation of the QQ plots (which suggest no normally distributed data) and the subsequent Wilcoxon rank sum test led to the conclusion that the alternative hypothesis can be accepted (that CBD treatment shows a greater reduction in weekly seizure frequency compared to placebo). This is further supported by odds ratio which shows a strong correlation between CBD treatment and the reduction of seizure frequency. The bar chart shows that the CBD treated patients had a great reduction of seizure frequency, unlike placebo where there was a slight increase of seizure frequency on the whole. The first and dot plot shows a greater reduction in seizure frequency for the CBD group compareed to the placebo group.\n",
        "\n",
        "Therefore, the bar chart and dot plots also support the main conclusion that there participants treated with cannabidiol have a much lower seizure frequency post-treatment compared to their placebo counterparts."
      ]
    },
    {
      "cell_type": "markdown",
      "metadata": {
        "id": "9w-HapHIKvyM"
      },
      "source": [
        "## Part 2: Meta-analysis of clinical trials"
      ]
    },
    {
      "cell_type": "markdown",
      "metadata": {
        "id": "rPB_4MFr5nyw"
      },
      "source": [
        "###**Assign the values for the variables**\n"
      ]
    },
    {
      "cell_type": "markdown",
      "metadata": {
        "id": "qGHjYVlT2SWW"
      },
      "source": [
        "[](#RemoveThisTextCell)\n",
        "Run the code cell below to generate the list of variable names you are required to assign values to, and the blocks of text based on excerpts from 5 different clinical trial studies. Note that we have modified the data according to your candidate number. The data relates to primary and secondary endpoints for your meta-analysis in Part 2 of this assigment. The primary endpoint here happens to be a continuous outcome that describes the effect of 20 mg/kg CBD on <u>seizure frequency</u>, relative to a placebo control treatment. The secondary endpoint happens to be a categorical outcome that describes the effect of 20 mg/kg CBD <u>on the ratio of responders-to-nonresponders in the drug treatment group relative to the same in the placebo control treatment</u>. As for part 1, the definition of a 'responder' here is a participant that experiences greater than or equal to 50% reduction in seizure frequency."
      ]
    },
    {
      "cell_type": "code",
      "execution_count": null,
      "metadata": {
        "cellView": "form",
        "colab": {
          "base_uri": "https://localhost:8080/",
          "height": 1000
        },
        "collapsed": true,
        "id": "kzI1HRE67I6n",
        "outputId": "9a9b21e8-6923-4d07-b085-41199b6ce327"
      },
      "outputs": [
        {
          "output_type": "display_data",
          "data": {
            "text/plain": [
              "<IPython.core.display.Javascript object>"
            ],
            "application/javascript": [
              "\n",
              "  for (rule of document.styleSheets[0].cssRules){\n",
              "    if (rule.selectorText=='body') {\n",
              "      rule.style.fontSize = '16px'\n",
              "      rule.style.lineHeight = '24px'\n",
              "      break\n",
              "    }\n",
              "  }\n",
              "  "
            ]
          },
          "metadata": {}
        },
        {
          "output_type": "display_data",
          "data": {
            "text/plain": [
              "<IPython.core.display.Markdown object>"
            ],
            "text/markdown": "\n###List of variable names and their definitions\n* <mark><tt>Study</tt></mark> : Study identifiers (in this case, clinical trial pseudo-IDs)\n* <mark><tt>N1</tt></mark> : The number of participants in the 20 mg/kg CBD group of each study\n* <mark><tt>N2</tt></mark> : The number of participants in the placebo (PBO) group of each study\n* **Primary Endpoint**:\n  1. <mark><tt>B</tt></mark> : The average difference in percentage points, or percentage change, in seizure frequency after treatment with 20 mg/kg cannabidiol treatment (CBD) vs placebo (PBO) in each study\n  2. <mark><tt>ci.lo</tt></mark> : The lower bound of the 95% confidence interval for the above effect on seizure frequency in each study\n  3. <mark><tt>ci.hi</tt></mark> : The upper bound of the 95% confidence interval for the above effect on seizure frequency in each study\n* **Secondary Endpoint**\n  1. <mark><tt>grp1_yes</tt></mark> : The number of 20 mg/kg CBD treated patients with >= 50% reduction in seizure frequency in each study.\n  2. <mark><tt>grp1_no</tt></mark> : The number of 20 mg/kg CBD treated patients with < 50% reduction in seizure frequency in each study.\n  3. <mark><tt>grp2_yes</tt></mark> : The number of placebo (PBO) treated patients with >= 50% reduction in seizure frequency in each study.\n  4. <mark><tt>grp2_no</tt></mark> : The number of placebo (PBO) treated patients with < 50% reduction in seizure frequency in each study.\n  "
          },
          "metadata": {}
        },
        {
          "output_type": "display_data",
          "data": {
            "text/plain": [
              "<IPython.core.display.Markdown object>"
            ],
            "text/markdown": "\n<br><font color='blue'> <u><b>Coding Task</u></b>:<br>\nYou will need to extract and/or calculate the numeric values that the above\nvariable descriptions correspond to from the information in the excerpts below\nand assign them to the specified variable names. Importantly, since there are\nfive studies in this meta-analysis, each of the named variables you must assign\nhere are numeric vectors containing five elements, and the order of the elements\nmust match. For example, element 3 in the variable named <tt>Study</tt> must be\n\"#3\", and element 3 in the variable named <tt>N2</tt> must correspond\nto the number of participants in the placebo group specified in the excerpt for\nstudy \"#3\". <u><b>Be very careful to extract and enter the data correctly and\ncheck your work - mistakes made here will propagate to all subsequent steps of\nyour analysis.</b></u></font>\n  "
          },
          "metadata": {}
        },
        {
          "output_type": "display_data",
          "data": {
            "text/plain": [
              "<IPython.core.display.Markdown object>"
            ],
            "text/markdown": "\n### List of study excerpts containing data for the primary and secondary endpoints\n#### Study #1\n> *...\nIn the 20 mg/kg cannabidiol (CBD) group (n = 31), the primary endpoint of\nconvulsive-seizure frequency decreased from a 12.3 seizures per month to 8.0,\nrepresenting a mean reduction of 35.0% from baseline. In the placebo (PBO) group\n(n = 29), the mean monthly convulsive seizure frequency decreased from 14.8 to\n13.0, representing a mean reduction of 12.2%. The adjusted mean difference in\nconvulsive seizures between the cannabidiol group and the placebo group was\n-22.8 percentage points (95% confidence interval [CI], -45.3 to 0.5).\n... <br> ...\nFor the secondary endpoint, the proportion of patients with ≥50% reduction\nin convulsive seizure frequency was 45.2% (14/31) with CBD versus\n31.0% (9/29) with placebo (odds ratio (OR) = 1.83).\n...*\n"
          },
          "metadata": {}
        },
        {
          "output_type": "display_data",
          "data": {
            "text/plain": [
              "<IPython.core.display.Markdown object>"
            ],
            "text/markdown": "\n#### Study #2\n> *...\nThe percentage reduction from baseline in convulsive seizure frequency during\nthe 12-week posttreatment period was 45.7% for the 20 mg/kg cannabidiol (CBD)\ngroup (n = 37), and 26.9% for the placebo group (n = 35). The percentage change from\nplacebo was -25.7% (95% CI: [-54.9%, -0.2%]) for the CBD group.\n... <br> ...\nThe endpoint of a reduction in convulsive-seizure frequency by 50% or more\nduring the treatment period occurred in 48.6% (18/37) of the patients\nin the 20 mg/kg CBD group and in 25.7% (9/35) of the patients in the\nplacebo group (OR = 2.74).\n...*\n"
          },
          "metadata": {}
        },
        {
          "output_type": "display_data",
          "data": {
            "text/plain": [
              "<IPython.core.display.Markdown object>"
            ],
            "text/markdown": "\n#### Study #3\n> *...\nThe mean percent reduction from baseline in the frequency of total seizures per\n28 days during the treatment period was 38.4% in the 20 mg/kg cannabidiol group\n(n = 36), 39.1% in the 10 mg/kg cannabidiol group (n = 33), and 19.6% in the placebo\ngroup (n = 36). The estimated mean difference in reduction between the 20 mg/kg\ncannabidiol group and the placebo group was 18.8 percentage points (95%\nconfidence interval [CI], -6.0 to 45.2), and the estimated mean difference\nin reduction between the 10 mg/kg cannabidiol group and the placebo group was 19.5\npercentage points (95% CI, -1.5 to 40.4).\n... <br> ...\nDuring the treatment period, a total of 14 patients in the 20 mg/kg cannabidiol\ngroup, 13 patients in the 10 mg/kg cannabidiol group, and 4 patients in the\nplacebo group had at least a 50% reduction from their baseline in seizure\nfrequency (odds ratio = 5.09).\n...*\n"
          },
          "metadata": {}
        },
        {
          "output_type": "display_data",
          "data": {
            "text/plain": [
              "<IPython.core.display.Markdown object>"
            ],
            "text/markdown": "\n#### Study #4\n> *...\nIn the 20 mg/kg cannabidiol group (n = 26), the monthly frequency of total seizures\nwas lower by a mean of 36.4% after starting treatment compared to the baseline period.\nIn the placebo group (n = 25), the monthly frequency of seizures was lower during\ntreatment by a mean of 15.3% compared to baseline. The estimated mean difference\nbetween the treatment groups was -21.1% (95% CI -43.6 to 1.6).\n... <br> ...\nThe analysis of seizure frequency was followed up by examining the secondary\nendpoint. 8 of 26 patients in the cannabidiol group had a reduction in\ntotal seizure frequency of 50% or more from baseline during the treatment period\ncompared with 7 of 25 patients in the placebo group (OR = 1.14).\n...*\n"
          },
          "metadata": {}
        },
        {
          "output_type": "display_data",
          "data": {
            "text/plain": [
              "<IPython.core.display.Markdown object>"
            ],
            "text/markdown": "\n#### Study #5\n> *...\nA reduction from baseline in primary-end-point seizures of 48.6% was observed\nfor the 20 mg/kg cannabidiol group (CBD20, n = 25), 47.5% for the 40 mg/kg cannabidiol\ngroup (CBD40, n = 23), and 26.5% for the placebo group (n = 26). The percentage\nreduction from placebo was 30.1% (95% CI: [3.3%, 52.9%]) for the CBD20\ngroup, and 28.5% (95% CI: [2.9%, 62.0%]) for the CBD40 group.\n... <br> ...\nFor the secondary endpoint, seizures were reduced at least 50% from baseline\nduring the treatment period in 11 of 25 patients in the CBD20 group,\n10 of 23 patients in the CBD40 group, and 8 of 26 patients in the\nplacebo group (OR = 1.77).\n...*\n"
          },
          "metadata": {}
        },
        {
          "output_type": "stream",
          "name": "stdout",
          "text": [
            "\n",
            "We suggest that you download and open the HTML of the output generated:\n",
            "\n",
            "studyinfo.html\n",
            "\n",
            "You may need to click the 'Refresh' button in the 'Files' pane on the\n",
            "left side to see the newly generated file.\n",
            "\n",
            "In the subsequent activities, you will need to extract information from\n",
            "this output and enter the study data into the code cell below. You may\n",
            "find it easier to do this then if you open the HTML that you download\n",
            "in a separate browser window and/or print it.\n",
            "\n",
            "\n"
          ]
        }
      ],
      "source": [
        "# @title ####**Run this python code cell to obtain the variable names and text with the data you need for Part 2** - <mark>Do <b><u>NOT</u></b> click '<tt>Show code</tt></mark>'\n",
        "#RemoveCellOutputFromHTML\n",
        "#RemoveCellInputFromHTML\n",
        "\n",
        "#!!!!!!!!!!!!!!!!!!!!!! DO NOT EDIT THIS PYTHON CODE CELL !!!!!!!!!!!!!!!!!!!!!!\n",
        "# You can see this code because you accidently clicked 'Show code' for this\n",
        "# hidden cell. Hide it again by clicking the button in the top-left corner of\n",
        "# this cell containing a down arrowhead symbol (⌄). (If you hover the mouse\n",
        "# cursor over the button in question for a couple of seconds, a tool-tip will\n",
        "# appear saying \"Hide code\".)\n",
        "\n",
        "# Import required python modules\n",
        "from rpy2.robjects.packages import importr\n",
        "import rpy2.robjects as robjects\n",
        "import ipywidgets as widgets # Loads the Widget framework.\n",
        "import numpy as np\n",
        "\n",
        "# Send candidate number to R\n",
        "#robjects.r(\"cand_no <- {:d}\".format(cand_no))\n",
        "\n",
        "# Get python handles for R functions\n",
        "r_rnorm    = robjects.r[\"rnorm\"]\n",
        "r_set_seed = robjects.r[\"set.seed\"]\n",
        "r_sample   = robjects.r[\"sample\"]\n",
        "\n",
        "# Set random seed according to candidate number\n",
        "r_set_seed(cand_no)\n",
        "\n",
        "# Calculate confidence intervals for primary endpoint\n",
        "probs = (0.025,0.975)\n",
        "ci1 = list (np.quantile (r_rnorm (1000, -22.8, 47.5 * (1 / 29 + 1 / 31)**0.5), probs))\n",
        "ci2 = list (np.quantile (r_rnorm (1000, -25.7, 60.0 * (1 / 35 + 1 / 37)**0.5), probs))\n",
        "ci3 = list (np.quantile (r_rnorm (1000, -18.8, 55.0 * (1 / 36 + 1 / 36)**0.5), probs))\n",
        "ci4 = list (np.quantile (r_rnorm (1000, -21.1, 40.0 * (1 / 25 + 1 / 26)**0.5), probs))\n",
        "ci5 = list (np.quantile (r_rnorm (1000, -30.1, 45.0 * (1 / 26 + 1 / 25)**0.5), probs))\n",
        "\n",
        "# Comment out the following call to R to prevent creating variables\n",
        "# in the student version of the assignment\n",
        "#robjects.r('''\n",
        "#ci.lo       <- c({0:.1f},{2:.1f},{4:.1f},{6:.1f},{8:.1f})\n",
        "#ci.hi       <- c({1:.1f},{3:.1f},{5:.1f},{7:.1f},{9:.1f})\n",
        "#'''.format(*(ci1+ci2+ci3+ci4+ci5)));\n",
        "\n",
        "# Add jitter to 2x2 contingency tables for secondary endpoint\n",
        "t2x2_1 = [None] * 4;\n",
        "t2x2_1[0] = 13 + np.round(2 * r_rnorm (1)[0]); t2x2_1[1] = 31 - t2x2_1[0]\n",
        "t2x2_1[2] =  7 + np.round(2 * r_rnorm (1)[0]); t2x2_1[3] = 29 - t2x2_1[2]\n",
        "t2x2_2 = [None] * 4;\n",
        "t2x2_2[0] = 18 + np.round(2 * r_rnorm (1)[0]); t2x2_2[1] = 37 - t2x2_2[0]\n",
        "t2x2_2[2] =  9 + np.round(2 * r_rnorm (1)[0]); t2x2_2[3] = 35 - t2x2_2[2]\n",
        "t2x2_3 = [None] * 4;\n",
        "t2x2_3[0] = 13 + np.round(2 * r_rnorm (1)[0]); t2x2_3[1] = 36 - t2x2_3[0]\n",
        "t2x2_3[2] =  6 + np.round(2 * r_rnorm (1)[0]); t2x2_3[3] = 36 - t2x2_3[2]\n",
        "t2x2_4 = [None] * 4;\n",
        "t2x2_4[0] = 11 + np.round(2 * r_rnorm (1)[0]); t2x2_4[1] = 26 - t2x2_4[0]\n",
        "t2x2_4[2] =  7 + np.round(2 * r_rnorm (1)[0]); t2x2_4[3] = 25 - t2x2_4[2]\n",
        "t2x2_5 = [None] * 4;\n",
        "t2x2_5[0] =  9 + np.round(2 * r_rnorm (1)[0]); t2x2_5[1] = 25 - t2x2_5[0]\n",
        "t2x2_5[2] =  5 + np.round(2 * r_rnorm (1)[0]); t2x2_5[3] = 26 - t2x2_5[2]\n",
        "\n",
        "# Comment out the following call to R to prevent creating variables\n",
        "# in the student version of the assignment\n",
        "#robjects.r('''\n",
        "#grp1yes <- c({0},{4},{8},{12},{16})\n",
        "#grp1no  <- c({1},{5},{9},{13},{17})\n",
        "#grp2yes <- c({2},{6},{10},{14},{18})\n",
        "#grp2no  <- c({3},{7},{11},{15},{19})\n",
        "#'''.format(*(t2x2_1+t2x2_2+t2x2_3+t2x2_4+t2x2_5)))\n",
        "\n",
        "# Changing styling of output for this code cell\n",
        "def change_style():\n",
        "  from IPython.display import Javascript\n",
        "  display(Javascript('''\n",
        "  for (rule of document.styleSheets[0].cssRules){\n",
        "    if (rule.selectorText=='body') {\n",
        "      rule.style.fontSize = '16px'\n",
        "      rule.style.lineHeight = '24px'\n",
        "      break\n",
        "    }\n",
        "  }\n",
        "  '''))\n",
        "change_style()\n",
        "\n",
        "# Print markdown\n",
        "from IPython.display import display, Markdown\n",
        "\n",
        "idx = []\n",
        "[idx.append(r_sample(list(range(0,3,1)),1)[0][0]) for i in range(5)]\n",
        "M0a = Markdown(\"\"\"\n",
        "###List of variable names and their definitions\n",
        "* <mark><tt>{0:s}</tt></mark> : Study identifiers (in this case, clinical trial pseudo-IDs)\n",
        "* <mark><tt>{1:s}</tt></mark> : The number of participants in the 20 mg/kg CBD group of each study\n",
        "* <mark><tt>{2:s}</tt></mark> : The number of participants in the placebo (PBO) group of each study\n",
        "* **Primary Endpoint**:\n",
        "  1. <mark><tt>{3:s}</tt></mark> : The average difference in percentage points, or percentage change, in seizure frequency after treatment with 20 mg/kg cannabidiol treatment (CBD) vs placebo (PBO) in each study\n",
        "  2. <mark><tt>{4:s}</tt></mark> : The lower bound of the 95% confidence interval for the above effect on seizure frequency in each study\n",
        "  3. <mark><tt>{5:s}</tt></mark> : The upper bound of the 95% confidence interval for the above effect on seizure frequency in each study\n",
        "* **Secondary Endpoint**\n",
        "  1. <mark><tt>{6:s}</tt></mark> : The number of 20 mg/kg CBD treated patients with >= 50% reduction in seizure frequency in each study.\n",
        "  2. <mark><tt>{7:s}</tt></mark> : The number of 20 mg/kg CBD treated patients with < 50% reduction in seizure frequency in each study.\n",
        "  3. <mark><tt>{8:s}</tt></mark> : The number of placebo (PBO) treated patients with >= 50% reduction in seizure frequency in each study.\n",
        "  4. <mark><tt>{9:s}</tt></mark> : The number of placebo (PBO) treated patients with < 50% reduction in seizure frequency in each study.\n",
        "  \"\"\".format((\"study\",\"Study\",\"STUDY\")[idx[0]],\n",
        "       (\"N1\",\"n1\",\"grp1n\")[idx[1]],\n",
        "       (\"N2\",\"n2\",\"grp2n\")[idx[1]],\n",
        "       (\"b\",\"B\",\"beta\")[idx[2]],\n",
        "       (\"CI.lower\",\"ci_lo\",\"ci.lo\")[idx[3]],\n",
        "       (\"CI.upper\",\"ci_hi\",\"ci.hi\")[idx[3]],\n",
        "       (\"grp1_yes\",\"grp1yes\",\"Grp1_Yes\")[idx[4]],\n",
        "       (\"grp1_no\",\"grp1no\",\"Grp1_No\")[idx[4]],\n",
        "       (\"grp2_yes\",\"grp2yes\",\"Grp2_Yes\")[idx[4]],\n",
        "       (\"grp2_no\",\"grp2no\",\"Grp2_No\")[idx[4]]))\n",
        "\n",
        "M0b = Markdown(\"\"\"\n",
        "<br><font color='blue'> <u><b>Coding Task</u></b>:<br>\n",
        "You will need to extract and/or calculate the numeric values that the above\n",
        "variable descriptions correspond to from the information in the excerpts below\n",
        "and assign them to the specified variable names. Importantly, since there are\n",
        "five studies in this meta-analysis, each of the named variables you must assign\n",
        "here are numeric vectors containing five elements, and the order of the elements\n",
        "must match. For example, element 3 in the variable named <tt>{0:s}</tt> must be\n",
        "\\\"#3\\\", and element 3 in the variable named <tt>{1:s}</tt> must correspond\n",
        "to the number of participants in the placebo group specified in the excerpt for\n",
        "study \\\"#3\\\". <u><b>Be very careful to extract and enter the data correctly and\n",
        "check your work - mistakes made here will propagate to all subsequent steps of\n",
        "your analysis.</b></u></font>\n",
        "  \"\"\".format((\"study\",\"Study\",\"STUDY\")[idx[0]],\n",
        "       (\"N2\",\"n2\",\"grp2n\")[idx[1]]))\n",
        "\n",
        "M1 = Markdown(\"\"\"\n",
        "### List of study excerpts containing data for the primary and secondary endpoints\n",
        "#### Study #1\n",
        "> *...\n",
        "In the 20 mg/kg cannabidiol (CBD) group (n = 31), the primary endpoint of\n",
        "convulsive-seizure frequency decreased from a 12.3 seizures per month to 8.0,\n",
        "representing a mean reduction of 35.0% from baseline. In the placebo (PBO) group\n",
        "(n = 29), the mean monthly convulsive seizure frequency decreased from 14.8 to\n",
        "13.0, representing a mean reduction of 12.2%. The adjusted mean difference in\n",
        "convulsive seizures between the cannabidiol group and the placebo group was\n",
        "-22.8 percentage points (95% confidence interval [CI], {:.1f} to {:.1f}).\n",
        "... <br> ...\n",
        "For the secondary endpoint, the proportion of patients with ≥50% reduction\n",
        "in convulsive seizure frequency was {:.1f}% ({:.0f}/{:.0f}) with CBD versus\n",
        "{:.1f}% ({:.0f}/{:.0f}) with placebo (odds ratio (OR) = {:.2f}).\n",
        "...*\n",
        "\"\"\".format(*ci1, 100*t2x2_1[0]/(t2x2_1[0]+t2x2_1[1]),t2x2_1[0],\n",
        "           (t2x2_1[0]+t2x2_1[1]),100*t2x2_1[2]/(t2x2_1[2]+t2x2_1[3]),\n",
        "           t2x2_1[2], (t2x2_1[2]+t2x2_1[3]),\n",
        "           (t2x2_1[0]/t2x2_1[1])/(t2x2_1[2]/t2x2_1[3])))\n",
        "\n",
        "M2 = Markdown(\"\"\"\n",
        "#### Study #2\n",
        "> *...\n",
        "The percentage reduction from baseline in convulsive seizure frequency during\n",
        "the 12-week posttreatment period was 45.7% for the 20 mg/kg cannabidiol (CBD)\n",
        "group (n = 37), and 26.9% for the placebo group (n = 35). The percentage change from\n",
        "placebo was -25.7% (95% CI: [{:.1f}%, {:.1f}%]) for the CBD group.\n",
        "... <br> ...\n",
        "The endpoint of a reduction in convulsive-seizure frequency by 50% or more\n",
        "during the treatment period occurred in {:.1f}% ({:.0f}/{:.0f}) of the patients\n",
        "in the 20 mg/kg CBD group and in {:.1f}% ({:.0f}/{:.0f}) of the patients in the\n",
        "placebo group (OR = {:.2f}).\n",
        "...*\n",
        "\"\"\".format(*ci2, 100*t2x2_2[0]/(t2x2_2[0]+t2x2_2[1]), t2x2_2[0],\n",
        "          (t2x2_2[0]+t2x2_2[1]), 100*t2x2_2[2]/(t2x2_2[2]+t2x2_2[3]),\n",
        "           t2x2_2[2],(t2x2_2[2]+t2x2_2[3]),\n",
        "          (t2x2_2[0]/t2x2_2[1])/(t2x2_2[2]/t2x2_2[3])))\n",
        "\n",
        "M3 = Markdown(\"\"\"\n",
        "#### Study #3\n",
        "> *...\n",
        "The mean percent reduction from baseline in the frequency of total seizures per\n",
        "28 days during the treatment period was 38.4% in the 20 mg/kg cannabidiol group\n",
        "(n = 36), 39.1% in the 10 mg/kg cannabidiol group (n = 33), and 19.6% in the placebo\n",
        "group (n = 36). The estimated mean difference in reduction between the 20 mg/kg\n",
        "cannabidiol group and the placebo group was 18.8 percentage points (95%\n",
        "confidence interval [CI], {:.1f} to {:.1f}), and the estimated mean difference\n",
        "in reduction between the 10 mg/kg cannabidiol group and the placebo group was 19.5\n",
        "percentage points (95% CI, -1.5 to 40.4).\n",
        "... <br> ...\n",
        "During the treatment period, a total of {:.0f} patients in the 20 mg/kg cannabidiol\n",
        "group, 13 patients in the 10 mg/kg cannabidiol group, and {:.0f} patients in the\n",
        "placebo group had at least a 50% reduction from their baseline in seizure\n",
        "frequency (odds ratio = {:.2f}).\n",
        "...*\n",
        "\"\"\".format(*[ci3[np.abs(i-1)] * -1 for i in range(2)], t2x2_3[0], t2x2_3[2],\n",
        "           (t2x2_3[0]/t2x2_3[1])/(t2x2_3[2]/t2x2_3[3])))\n",
        "\n",
        "M4 = Markdown(\"\"\"\n",
        "#### Study #4\n",
        "> *...\n",
        "In the 20 mg/kg cannabidiol group (n = 26), the monthly frequency of total seizures\n",
        "was lower by a mean of 36.4% after starting treatment compared to the baseline period.\n",
        "In the placebo group (n = 25), the monthly frequency of seizures was lower during\n",
        "treatment by a mean of 15.3% compared to baseline. The estimated mean difference\n",
        "between the treatment groups was -21.1% (95% CI {:.1f} to {:.1f}).\n",
        "... <br> ...\n",
        "The analysis of seizure frequency was followed up by examining the secondary\n",
        "endpoint. {:.0f} of {:.0f} patients in the cannabidiol group had a reduction in\n",
        "total seizure frequency of 50% or more from baseline during the treatment period\n",
        "compared with {:.0f} of {:.0f} patients in the placebo group (OR = {:.2f}).\n",
        "...*\n",
        "\"\"\".format(*ci4, t2x2_4[0],(t2x2_4[0]+t2x2_4[1]),\n",
        "           t2x2_4[2],(t2x2_4[2]+t2x2_4[3]),\n",
        "           (t2x2_4[0]/t2x2_4[1])/(t2x2_4[2]/t2x2_4[3])))\n",
        "\n",
        "M5 = Markdown(\"\"\"\n",
        "#### Study #5\n",
        "> *...\n",
        "A reduction from baseline in primary-end-point seizures of 48.6% was observed\n",
        "for the 20 mg/kg cannabidiol group (CBD20, n = 25), 47.5% for the 40 mg/kg cannabidiol\n",
        "group (CBD40, n = 23), and 26.5% for the placebo group (n = 26). The percentage\n",
        "reduction from placebo was 30.1% (95% CI: [{:.1f}%, {:.1f}%]) for the CBD20\n",
        "group, and 28.5% (95% CI: [2.9%, 62.0%]) for the CBD40 group.\n",
        "... <br> ...\n",
        "For the secondary endpoint, seizures were reduced at least 50% from baseline\n",
        "during the treatment period in {:.0f} of {:.0f} patients in the CBD20 group,\n",
        "10 of 23 patients in the CBD40 group, and {:.0f} of {:.0f} patients in the\n",
        "placebo group (OR = {:.2f}).\n",
        "...*\n",
        "\"\"\".format(*[ci5[np.abs(i-1)] * -1 for i in range(2)], t2x2_5[0],\n",
        "            (t2x2_5[0]+t2x2_5[1]), t2x2_5[2],(t2x2_5[2]+t2x2_5[3]),\n",
        "            (t2x2_5[0]/t2x2_5[1])/(t2x2_5[2]/t2x2_5[3])))\n",
        "\n",
        "display(M0a,M0b,M1,M2,M3,M4,M5)\n",
        "\n",
        "!pip install markdown2 >/dev/null\n",
        "from IPython.display import Markdown\n",
        "import tempfile\n",
        "import markdown2\n",
        "concatenated_md = M0a.data + M0b.data + M1.data + M2.data + M3.data + M4.data + M5.data\n",
        "html_output = markdown2.markdown(concatenated_md)\n",
        "\n",
        "# Create a temporary HTML file\n",
        "with open('studyinfo.html', 'w') as f:\n",
        "  f.write(f\"<html><body>{html_output}</body></html>\")\n",
        "  file_path = f.name\n",
        "\n",
        "# Instruct the user to download and open the file (Colab doesn't allow direct opening)\n",
        "print(f\"\"\"\n",
        "We suggest that you download and open the HTML of the output generated:\n",
        "\n",
        "{file_path}\n",
        "\n",
        "You may need to click the 'Refresh' button in the 'Files' pane on the\n",
        "left side to see the newly generated file.\n",
        "\n",
        "In the subsequent activities, you will need to extract information from\n",
        "this output and enter the study data into the code cell below. You may\n",
        "find it easier to do this then if you open the HTML that you download\n",
        "in a separate browser window and/or print it.\n",
        "\n",
        "\"\"\")"
      ]
    },
    {
      "cell_type": "markdown",
      "metadata": {
        "id": "9vc9MSVf_yFQ"
      },
      "source": [
        "You will now be able to see the variables created in R in the [table in the widget near the top of this page](#scrollTo=yyFW4sa0giJN&line=1&uniqifier=1)."
      ]
    },
    {
      "cell_type": "code",
      "execution_count": null,
      "metadata": {
        "id": "-19JCxGvBbIF"
      },
      "outputs": [],
      "source": [
        "%%R\n",
        "# assigns each study number to a variable\n",
        "Study <- c(\"#1\", \"#2\", \"#3\", \"#4\", \"#5\")\n",
        "\n",
        "\n",
        "#This shows the number of patients treated with CBD\n",
        "N1 <- c(31, 37, 36, 26, 25)\n",
        "\n",
        "#This shows the number of patients in the control placebo group\n",
        "N2 <- c(29, 35, 36, 25, 25)\n",
        "\n",
        "# for the primary endpoint\n",
        "#This shows the mean difference for the % change in the frequency of seizure\n",
        "#post CBD treatment compared to the placebo group\n",
        "B <- c(-22.8, -45.7, -18.8, -21.1, -30.1)\n",
        "\n",
        "#This shows the 95% confidence interval lower bound value for its impact on\n",
        "#the frequency of seizures\n",
        "ci.lo <- c(-45.3, -54.9, -45.2, -43.6, -52.9)\n",
        "\n",
        "#This shows the 95% confidence interval upper bound value for its impact on\n",
        "#the frequency of seizures\n",
        "ci.hi <- c(-0.5, -0.2, -6, -1.6, -3.3)\n",
        "\n",
        "# for the secondary endpoint\n",
        "#This shows how many participants in the CBD group had >=50% reduced frequency\n",
        "#of seizures\n",
        "grp1yes <- c(14, 18, 14, 8, 11)\n",
        "\n",
        "#This shows how many participants in the CBD group had <50% reduced frequency of\n",
        "#seizures\n",
        "grp1no <- c(17, 19, 22, 18, 14)\n",
        "\n",
        "#This shows how many participants in the PBO group had >=50% reduced frequency\n",
        "#of seizures\n",
        "grp2yes <- c(9, 9, 4, 7, 8)\n",
        "\n",
        "#This shows how many participants in the PBO group had <50% reduced frequency of\n",
        "#seizures\n",
        "grp2no <- c(20, 26, 32, 18, 18)\n",
        "\n",
        "\n",
        "\n"
      ]
    },
    {
      "cell_type": "markdown",
      "metadata": {
        "id": "s6S-N6kxBf4I"
      },
      "source": [
        "### **Part 2a: Meta-analysis of a continuous outcome**"
      ]
    },
    {
      "cell_type": "markdown",
      "metadata": {
        "id": "n4n4vEIpSHho"
      },
      "source": [
        "####**Raw effect sizes for the continuous outcome**"
      ]
    },
    {
      "cell_type": "markdown",
      "metadata": {
        "id": "hQJnsuvok2hD"
      },
      "source": [
        "<font color='blue'> <u><b>Coding Task</b></u>:<br> Calculate the values of, and print a table reporting the following variables (columns) for each study (row):</font>\n",
        "<ul>\n",
        "<font color='blue'>\n",
        "  <li><tt><mark>Study</mark></tt> : The study identifier. You assigned this variable already in the previous task.</li>\n",
        "  <li><tt><mark>n</mark></tt> : The total number of participants in each study.</li>\n",
        "  <li>The raw effect size, being the difference in percentage points, or percentage change, in seizure frequency after treatment with CBD vs placebo. You assigned this already and it will be called either <tt><mark>b</mark></tt>, <tt><mark>B</mark></tt> or <tt><mark>beta</mark></tt> depending on your candidate number.</li>\n",
        "  <li><tt><mark>CI_95</mark></tt> : The 95% confidence interval reported for the raw effect size. You assigned the variables for the confidence interval limits in the previous task and their names will vary depending on your candidate number. For the lower limit they will be called either <tt><mark>CI.lower</mark></tt>, <tt><mark>ci_lo</tt></mark> or <tt><mark>ci.lo</tt></mark>. For the upper limit they will be called either <tt><mark>CI.upper</mark></tt>, <tt><mark>ci_hi</tt></mark> or <tt><mark>ci.hi</tt></mark>. The table entries for <tt><mark>CI_95</mark></tt> should be formatted consistent with APA style, in square brackets and separated by a comma. For example: [<tt><mark>CI.lower</mark></tt>, <tt><mark>CI.upper</tt>]</li>.\n",
        "</font>\n",
        "</ul>\n",
        "\n"
      ]
    },
    {
      "cell_type": "code",
      "execution_count": null,
      "metadata": {
        "id": "v9au-uoxlIxr",
        "colab": {
          "base_uri": "https://localhost:8080/",
          "height": 191
        },
        "outputId": "9bbed911-19ea-4f50-e213-bd3b126c3fa0"
      },
      "outputs": [
        {
          "output_type": "stream",
          "name": "stdout",
          "text": [
            "[1] 60 72 72 51 50\n",
            "\n",
            "\n",
            " Study    n       B             CI_95\n",
            "------  ---  ------  ----------------\n",
            "    #1   60   -22.8   [-45.30, -0.50]\n",
            "    #2   72   -45.7   [-54.90, -0.20]\n",
            "    #3   72   -18.8   [-45.20, -6.00]\n",
            "    #4   51   -21.1   [-43.60, -1.60]\n",
            "    #5   50   -30.1   [-52.90, -3.30]\n"
          ]
        }
      ],
      "source": [
        "%%R\n",
        "# this shows the total number of participants in both studies\n",
        "n <- N1 + N2\n",
        "print(n)\n",
        "\n",
        "# This creates a table showing all the results for each study\n",
        "raw_effect_sizes <- data.frame(Study, n, B)\n",
        "raw_effect_sizes%>%\n",
        "  mutate (.,\n",
        "          \"CI_95\" = sprintf (\"[%+.2f, %+.2f]\", ci.lo, ci.hi)) %>%\n",
        "  select (.,\n",
        "          Study, n, B, CI_95) %>%\n",
        "  kable(\"simple\",\n",
        "        align = \"r\",\n",
        "        digits=c(5,0))\n"
      ]
    },
    {
      "cell_type": "markdown",
      "metadata": {
        "id": "89QY9wrVsnsu"
      },
      "source": [
        "<br><font color='red'> <u><b>Question</b></u>:<br> Which (if any) of the above studies do you think independently reports a statistically significant difference in percentage change in seizure frequency between the CBD and placebo treatments at a 5% significance threshold (i.e. p < 0.05)? How can you tell?</font>"
      ]
    },
    {
      "cell_type": "markdown",
      "metadata": {
        "id": "Zlsz9aZXtlId"
      },
      "source": [
        "Studies 1 to 5 all show statistically significant (at p<0.05) % change in the frequency of seizures since all these studies do not have zero for the 95% confidence intervals.\n"
      ]
    },
    {
      "cell_type": "markdown",
      "metadata": {
        "id": "wHWXpSGoGaOi"
      },
      "source": [
        "####**Obtaining the standard deviations for the raw effect sizes**"
      ]
    },
    {
      "cell_type": "markdown",
      "metadata": {
        "id": "sYG09lPpOEeg"
      },
      "source": [
        "<font color='blue'> <u><b>Coding Task</b></u>:<br> Calculate the pooled standard deviation (<tt><mark>SD.Pooled</mark></tt>) for each effect sizes and print a table reporting the following variables (columns) for each study (row):</font>\n",
        "<ul>\n",
        "<font color='blue'>\n",
        "  <li><tt><mark>Study</mark></tt>: The study identifier.</li>\n",
        "  <li>The raw effect size, being the difference in percentage points, or percentage change, in seizure frequency after treatment with CBD vs placebo. You assigned this already and it will be called either <tt><mark>b</mark></tt>, <tt><mark>B</mark></tt> or <tt><mark>beta</mark></tt> depending on your candidate number.</li>\n",
        "  <li><tt><mark>SD.Pooled</mark></tt>: The computed pooled standard deviation for the raw effect size.</li>\n",
        "  <li>The number of participants in the 20 mg/kg CBD group. You assigned this already and it will be called either <mark><tt>N1</tt></mark>, <mark><tt>n1</tt></mark> or <mark><tt>grp1n</tt></mark> depending on your candidate number</li>\n",
        "  <li>The number of participants in the placebo (PBO) group. You assigned this already and it will be called either <mark><tt>N2</tt></mark>, <mark><tt>n2</tt></mark> or <mark><tt>grp2n</tt></mark> depending on your candidate number</li>\n",
        "</font>\n",
        "</ul>"
      ]
    },
    {
      "cell_type": "markdown",
      "metadata": {
        "id": "27E0ouXKb2Da"
      },
      "source": [
        "[](#RemoveThisTextCell)\n",
        "Your answer must use the following information to compute the pooled standard deviation, <tt>SD.Pooled</tt>:\n",
        "<ul>\n",
        "  <li>A standard deviation that pools the variability from the CBD and placebo groups, <tt>SD.Pooled</tt>, can be calculated using the following equation: $$SD_{Pooled} = \\frac{SE_{Pooled}}{\\sqrt{\\frac{1}{n_1} + \\frac{1}{n_2}}}$$<br>\n",
        "Note that <i>n<sub>1</sub></i> in the above equation will correspond to either <tt>N1</tt>, <tt>n1</tt> or <tt>grp1n</tt> in your coding assignment depending on your candidate number. Similarly, <i>n2<sub>2</sub></i> will correspond to either <tt>N2</tt>, <tt>n2</tt> or <tt>grp2n</tt>.</li>\n",
        "  <li>Where the pooled standard error (<tt>SE.Pooled</tt>) can be estimated from the lower and upper limits of a 95% confidence interval using the following equation:\n",
        "$$SE_{Pooled} = \\frac{(CI_{Upper} - CI_{Lower})}{(2 \\cdot z\\_crit)}$$<br>\n",
        "Note that <i>CI<sub>Upper</sub></i> in the above equation will correspond to either <tt>CI.lower</tt>, <tt>ci_lo</tt> or <tt>ci.lo</tt> in your coding assignment depending on your candidate number. Similarly, <i>CI<sub>Lower</sub></i> will correspond to either <tt>CI.upper</tt>, <tt>ci_hi</tt> or <tt>ci.hi</tt>.</li>\n",
        "  <li>Assume that intervals that you are converting were constructed with a critical value (<tt>z_crit</tt>) of 1.96 (i.e. corresponding to 2.5% tail probabilities in a standard normal <i>z</i>-distribution).</li>\n",
        "</ul>"
      ]
    },
    {
      "cell_type": "code",
      "execution_count": null,
      "metadata": {
        "id": "52ddA-muJvVn",
        "colab": {
          "base_uri": "https://localhost:8080/",
          "height": 34
        },
        "collapsed": true,
        "outputId": "c75b041a-8a51-4ad5-a906-ece448c61204"
      },
      "outputs": [
        {
          "output_type": "stream",
          "name": "stdout",
          "text": [
            "[1] 44.23807 59.17931 42.42641 38.25030 44.73533\n"
          ]
        }
      ],
      "source": [
        "%%R\n",
        "# calculation of pooled standard deviation and pooled standard error\n",
        "z_crit <- 1.96\n",
        "SE.Pooled <- (ci.hi-ci.lo)/(2 * z_crit)\n",
        "SD.Pooled <- (SE.Pooled / sqrt(1/N1 + 1/N2)) %>% print (.)\n"
      ]
    },
    {
      "cell_type": "markdown",
      "metadata": {
        "id": "NOcpLFPxCrbp"
      },
      "source": [
        "<br><font color='red'> <u><b>Question</b></u>:<br> Explain in words how a standard deviation for the continuous outcome was calculated from the 95% confidence intervals? Use the formula for the denominator in the calculation of Student's t-statistic for a two-sample test to support your answer: https://tinyurl.com/yc4t3txf. </font>\n"
      ]
    },
    {
      "cell_type": "markdown",
      "metadata": {
        "id": "HG_-0YC1ZQ1T"
      },
      "source": [
        "The pooled standard deviation is equal to the value of the upper confidence 95% interval minus the lower confidence interval divided by two times the z critical value. The standard error uses the 95% confidence intervals to calculate the pooled standard deviation. The denominator of the t test statistic is equal to the pooled standard error. Thia also shows how the standard pooled error uses the 95% confidence intervals to calculate the pooled standard deivation.\n"
      ]
    },
    {
      "cell_type": "markdown",
      "metadata": {
        "id": "db91ybQSlaXF"
      },
      "source": [
        "####**Calculating standardized effect sizes from the mean difference, standard deviation and sample sizes**"
      ]
    },
    {
      "cell_type": "markdown",
      "metadata": {
        "id": "yGngu_qhf9-d"
      },
      "source": [
        "<font color='blue'> <u><b>Coding Task</b></u>:<br> Convert each of the above raw effect sizes for the <u><b>primary</b></u> endpoint into a <b>Pearson's correlation coefficient</b> and it's associated standard error (SE) and 95% confidence interval (CI). Ensure that you assign the estimates of the correlation coefficients of the studies to a variable called <tt><mark>r</mark></tt>, which should be numeric vector containing five elements - you will use it later. Print a table reporting the following variables (columns) for each study (row):</font>\n",
        "<ul>\n",
        "<font color='blue'>\n",
        "  <li><tt><mark>Study</mark></tt>: The study identifier.</li>\n",
        "  <li><tt><mark>n</mark></tt>: The total number of participants in the study.</li>\n",
        "  <li><tt><mark>r</mark></tt>: The effect size for the <b><u>primary</u></b> endpoint, standardized and represented specifically as the correlation coefficient.</li>\n",
        "  <li><tt><mark>SE</mark></tt>: The standard error of the study's correlation coefficient</tt>.</li>\n",
        "  <tt><mark>CI_95</mark></tt>: The confidence interval for the correlation coefficient. The table entries for <tt><mark>CI_95</mark></tt> should be formatted consistent with APA style, in square brackets and separated by a comma. For example: [<tt><mark>ci.lo</mark></tt>, <tt><mark>ci.hi</tt>].</li>\n",
        "</font>\n",
        "</ul>\n",
        "\n",
        "Your answer must use the <tt>esc_B</tt> function from the <tt>esc</tt> package. <i>Hint</i>: The <tt>combine_esc</tt> function from the <esc> package can be used to combine information from multiple effect size calculations into a single data frame.\n"
      ]
    },
    {
      "cell_type": "code",
      "execution_count": null,
      "metadata": {
        "id": "5f4BvhxQlgf-",
        "colab": {
          "base_uri": "https://localhost:8080/"
        },
        "outputId": "e74126b7-057b-4ad8-8fd3-c7c7c6cec71a"
      },
      "outputs": [
        {
          "output_type": "stream",
          "name": "stdout",
          "text": [
            "  study         es   weight sample.size        se        var      ci.lo\n",
            "1    #1 -0.2556490 58.97307          60 0.1302186 0.01695689 -0.4751269\n",
            "2    #2 -0.3840446 67.26762          72 0.1219262 0.01486599 -0.5674586\n",
            "3    #3 -0.2201466 71.21195          72 0.1185014 0.01404259 -0.4268746\n",
            "4    #4 -0.2734064 50.01984          51 0.1413933 0.01999207 -0.5062448\n",
            "5    #5 -0.3337444 48.05114          50 0.1442607 0.02081116 -0.5579020\n",
            "         ci.hi  fishers.z    ci.lo.z      ci.hi.z measure\n",
            "1 -0.006223664 -0.2614476 -0.5166714 -0.006223745       r\n",
            "2 -0.164321083 -0.4047954 -0.6437663 -0.165824483       r\n",
            "3  0.008448181 -0.2238101 -0.4560687  0.008448382       r\n",
            "4 -0.003415952 -0.2805418 -0.5576676 -0.003415965       r\n",
            "5 -0.064201768 -0.3470361 -0.6297819 -0.064290197       r\n",
            "\n",
            "\n",
            " Study    n            r   SE            CI_95\n",
            "------  ---  -----------  ---  ---------------\n",
            "    #1   60   -0.2556490    0   [-0.48, -0.01]\n",
            "    #2   72   -0.3840446    0   [-0.57, -0.16]\n",
            "    #3   72   -0.2201466    0   [-0.43, +0.01]\n",
            "    #4   51   -0.2734064    0   [-0.51, -0.00]\n",
            "    #5   50   -0.3337444    0   [-0.56, -0.06]\n"
          ]
        }
      ],
      "source": [
        "%%R\n",
        "\n",
        "# Convertion of effect sizes to the correlation coefficient\n",
        "primary_es1 <- esc_B (B[1], SD.Pooled[1], N1[1], N2[1], \"r\", Study[1])\n",
        "primary_es2 <- esc_B (B[2], SD.Pooled[2], N1[2], N2[2], \"r\", Study[2])\n",
        "primary_es3 <- esc_B (B[3], SD.Pooled[3], N1[3], N2[3], \"r\", Study[3])\n",
        "primary_es4 <- esc_B (B[4], SD.Pooled[4], N1[4], N2[4], \"r\", Study[4])\n",
        "primary_es5 <- esc_B (B[5], SD.Pooled[5], N1[5], N2[5], \"r\", Study[5])\n",
        "\n",
        "\n",
        "\n",
        "\n",
        "# Creates a data frame with all effect sizes\n",
        "primary_table <- combine_esc (primary_es1, primary_es2, primary_es3,\n",
        "                              primary_es4, primary_es5) %>% print (.)\n",
        "\n",
        "# Results table creation\n",
        "primary_table %>%\n",
        "  mutate (.,\n",
        "          \"CI_95\" = sprintf (\"[%+.2f, %+.2f]\", ci.lo, ci.hi)) %>%\n",
        "  select (.,\n",
        "          \"Study\" = study, \"n\" = sample.size, \"r\" = es, \"SE\" = se, CI_95\n",
        "         ) %>%\n",
        "  kable (.,\n",
        "         \"simple\",\n",
        "         align = \"r\",\n",
        "         digits = c(7,0))"
      ]
    },
    {
      "cell_type": "markdown",
      "metadata": {
        "id": "dTGdFnXKgKM6"
      },
      "source": [
        "<br><font color='red'> <u><b>Question</b></u>:<br> Using the convention established by Cohen for Pearson's correlation coefficient, classify each of the above standardized effect sizes as small, medium or large?</font>\n"
      ]
    },
    {
      "cell_type": "markdown",
      "metadata": {
        "id": "-pK21opjhcaJ"
      },
      "source": [
        "Study 1:small\n",
        "Study 2:medium\n",
        "Study 3:small\n",
        "Study 4:small\n",
        "Study 5:medium\n"
      ]
    },
    {
      "cell_type": "markdown",
      "metadata": {
        "id": "fnB49-bSgZyf"
      },
      "source": [
        "####**Meta-analysis: Calculation of overall effect size** - Confidence intervals using the *z*-statistic critical value.\n"
      ]
    },
    {
      "cell_type": "markdown",
      "metadata": {
        "id": "Tb9eY3vFgF0-"
      },
      "source": [
        "<font color='blue'> <u><b>Coding Task</b></u>:<br> Perform all the calculations to run a meta-analysis using the method of Hunter & Schmidt for the <u><b>primary</b></u> endpoint. The variables computed must include the number of studies (<tt><mark>k</mark></tt>), the weighted mean correlation coefficient (<tt><mark>mean_r</mark></tt>) and it's corresponding variance (<tt><mark>var_r</mark></tt>), standard error (<tt><mark>se_r<mark></tt>), and lower and upper limits of 95% confidence intervals (<tt><mark>CI_Lower</mark></tt> and <tt><mark>CI_Upper</mark></tt>) using the critical value (<tt><mark>z_crit</mark></tt>) calculated from the <u>standard normal <i>z</i>-distribution</u>. Print a table with a reporting the following variables (columns) for the overall effect size (1 row):</font>\n",
        "<ul>\n",
        "<font color='blue'>\n",
        "  <li><tt><mark>k</mark></tt>: The number of studies.</li>\n",
        "  <li><tt><mark>N</v></tt>: The sum of participants from all studies.</li>\n",
        "  <li><tt><mark>mean_r</mark></tt>: The overall standardized effect size (weighted-mean correlation coefficient) for the primary endpoint.</li>\n",
        "  <li><tt><mark>mean_se</mark></tt>: The standard error the weighted-mean correlation coefficient.</li>\n",
        "  <li><tt><mark>z_crit</mark></tt>: The critical value from the standard normal <i>z</i>-distribution.</li>\n",
        "  <li><tt><mark>CI_95</mark></tt>: The 95% confidence interval of the weighted-mean correlation coefficient. The table entries for <tt><mark>CI_95</mark></tt> should be formatted consistent with APA style, in square brackets and separated by a comma. For example: [<tt><mark>CI_Lower</mark></tt>, <tt><mark>CI_Upper</tt>].</li>\n",
        "</font>\n",
        "</ul>"
      ]
    },
    {
      "cell_type": "markdown",
      "metadata": {
        "id": "_LeTE_lFch8A"
      },
      "source": [
        "[](#RemoveThisTextCell)\n",
        "Your answer must use the following information to perform it's calculations:\n",
        "<ul>\n",
        "  <li>The weighted mean, <tt>mean_r</tt>, can be calculated using the following formula:\n",
        "$$mean\\_r = \\frac{\\sum_{i=1}^k{n_i \\cdot r_i}}{\\sum_{i=1}^k{n_i}}$$<br>  </li>\n",
        "  <li>The weighted variance, <tt>var_r</tt>, can be calculated using an almost identical equation, except you replace <tt>r</tt> with <tt>(r-mean_r)<sup>2</sup></tt>, as shown below:\n",
        "$$var\\_r = \\frac{\\sum_{i=1}^k{n_i \\cdot (r_i - mean\\_r)^2}}{\\sum_{i=1}^k{n_i}}$$<br>\n",
        "Since the equations for <tt>mean_r</tt> and <tt>var_r</tt> have similar form, you are expected to define an function that can be used to calculate either depending on the input argument(s) provided.  </li>\n",
        "  <li>The standard error, <tt>se_r</tt>, can be calculated using the following formula:\n",
        "$$se\\_r = \\sqrt{ \\frac{var\\_r}{k} }$$<br>  </li>\n",
        "  <li>The confidence interval limits for <tt>mean_r</tt> can be calculated by normal theory using the following formula:\n",
        "$$ CI\\_Lower =  mean\\_r -  se\\_r \\cdot z\\_crit $$\n",
        "$$ CI\\_Upper =  mean\\_r +  se\\_r \\cdot z\\_crit $$<br>  </li>\n",
        "  <li>The critical value of the <i>z</i>-statistic used for calculating confidence intervals should be 1.96, for a 95% confidence interval<sup>*</sup>.  </li>\n",
        "</ul>\n",
        "<sup>*</sup> Want to know more? The critical value of the <i>z</i>-test statistic (which follows a standard normal distribution, with mean = 0 and variance = 1) for any <tt>X</tt>% confidence interval can be obtained using the command: <tt>qnorm (1 - (1 - X/100)/2, lower.tail=TRUE)</tt>.\n"
      ]
    },
    {
      "cell_type": "code",
      "execution_count": null,
      "metadata": {
        "id": "RNZ-L5GSgUa3",
        "colab": {
          "base_uri": "https://localhost:8080/",
          "height": 329
        },
        "outputId": "0ea91ee6-538f-4b28-f4ad-79e1718d3d78"
      },
      "outputs": [
        {
          "output_type": "stream",
          "name": "stdout",
          "text": [
            "[1] -0.2556490 -0.3840446 -0.2201466 -0.2734064 -0.3337444\n",
            "[1] 60 72 72 51 50\n",
            "[1] 5\n",
            "[1] 305\n",
            "[1] -0.2933497\n",
            "[1] 0.003820389\n",
            "[1] 0.02764196\n",
            "[1] 1.959964\n",
            "[1] -0.3475269\n",
            "[1] -0.2391724\n",
            "[1] 2.776445\n",
            "[1] -0.370096\n",
            "[1] -0.2166033\n",
            "\n",
            "\n",
            "  k     N       mean_r    mean_se     z_crit            CI_95\n",
            "---  ----  -----------  ---------  ---------  ---------------\n",
            "  5   305   -0.2933497   0.027642   1.959964   [-0.37, -0.22]\n"
          ]
        }
      ],
      "source": [
        "%%R\n",
        "# this calculates the number of studies and the sum of participants across\n",
        "# all studies\n",
        "r <- primary_table$es %>% print(.)\n",
        "n <- primary_table$sample.size %>% print(.)\n",
        "k <- length(r) %>% print(.)\n",
        "N <- sum(n) %>% print(.)\n",
        "\n",
        "# frequency weighted mean correlation coefficient calculation\n",
        "mean_r <- weighted.mean(r, n) %>% print(.)\n",
        "\n",
        "# variance calculation of the weighted mean correlation coefficient\n",
        "var_r <- weighted.mean((r - mean_r)^2, n) %>% print(.)\n",
        "\n",
        "# standard error calculation of the weighted mean correlation coefficient\n",
        "se_r <- sqrt(var_r/k) %>% print(.)\n",
        "\n",
        "# 95% confidence intervals calculation\n",
        "X <- 95\n",
        "z_crit <- qnorm ((1 - X/100)/2, lower.tail=FALSE) %>% print (.)\n",
        "initial_CI_Lower <- (mean_r - se_r*z_crit) %>% print(.)\n",
        "initial_CI_Upper <- (mean_r + se_r*z_crit) %>% print(.)\n",
        "\n",
        "t_crit <-qt ((1 - 0.95)/2, k-1, lower.tail=FALSE) %>% print(.)\n",
        "\n",
        "CI_Lower <- (mean_r - se_r*t_crit) %>% print(.)\n",
        "CI_Upper <- (mean_r + se_r*t_crit) %>% print(.)\n",
        "\n",
        "# Creation of primary results dataframe\n",
        "primary_results_dataframe <- data.frame(k,N, mean_r, \"mean_se\" = se_r, z_crit)\n",
        "# Summary table of overall effect size results with confidence intervals\n",
        "primary_results_dataframe %>%\n",
        "  mutate (.,\n",
        "          \"CI_95\" = sprintf (\"[%+.2f, %+.2f]\", CI_Lower, CI_Upper)) %>%\n",
        "  kable (.,\n",
        "         \"simple\",\n",
        "         align = \"r\")\n",
        "\n",
        "\n",
        "\n",
        "\n",
        "\n",
        "\n",
        "\n",
        "\n"
      ]
    },
    {
      "cell_type": "markdown",
      "metadata": {
        "id": "o6XHoSv1Ljdb"
      },
      "source": [
        "<br><font color='red'> <u><b>Question</b></u>:<br>How would you classify this average effect size according to Cohen's convention? Comment on the uncertainty of the overall effect size estimate compared to our uncertainty of the estimates obtained from the individual studies.</font>"
      ]
    },
    {
      "cell_type": "markdown",
      "metadata": {
        "id": "cEn9OoG1Lega"
      },
      "source": [
        "The average effect size is small when using Cohen's convention since it is just under 0.30 (but very close to medium). The confidence interval for the overall effect size estimate however has a relative large range from -0.37 to -0.22 and so there is quite a bit of uncertainty regarding this value. However, looking at individual studies would show greater uncertainty for each study since there is increased precision. Also, the differences between the procedure of each study would not have been accounted for, resulting in more variability and this would be unrepresentative of the initial population.\n"
      ]
    },
    {
      "cell_type": "markdown",
      "metadata": {
        "id": "eBixIwjXOXLg"
      },
      "source": [
        "####**Meta-analysis: Checking for homogeneity of effect sizes** - Method using a hypothesis test"
      ]
    },
    {
      "cell_type": "markdown",
      "metadata": {
        "id": "SvuBP_EczVE-"
      },
      "source": [
        "<font color='blue'> <u><b>Coding Task</b></u>:<br> Calculate the chi-squared statistic (Q) and the *p*-value for a test of homogeneity of population effect sizes for the <u><b>primary</b></u> endpoint and print a table reporting the following statistics (columns) for the hypothesis test (1 row):</font>\n",
        "<ul>\n",
        "<font color='blue'>\n",
        "  <li><tt><b>Q</b></tt>: The <i>χ</i><sup> 2</sup> statistic for Cochran's Q test of homogeneity across the population effect sizes.</li>\n",
        "  <li><tt><b>df</b></tt>: The number used for the degrees of freedom in the calculation of the <i>p</i>-value.</li>\n",
        "  <li><tt><b>p_val</b></tt>: The <i>p</i>-value obtained by evaluating the <tt>Q</tt> statistic using the distribution function (<tt>pchisq</tt>) for <i>χ</i><sup> 2</sup> under the null hypothesis with <tt>k — 1</tt>  degrees of freedom.</li>\n",
        "</font>\n",
        "</ul>"
      ]
    },
    {
      "cell_type": "markdown",
      "metadata": {
        "id": "-NqIUz79cqNg"
      },
      "source": [
        "[](#RemoveThisTextCell)\n",
        "Your answer must use the following information to compute the <tt>Q</tt> statistic:\n",
        "<ul>\n",
        "  <li>A chi-squared statistic (Q) with <tt>k — 1</tt> degrees of freedom is equal to the sum over k number of <i>z</i>-test statistics, i.e. $$Q_{k-1} = \\sum_{i=1}^k z_i^2$$  </li>\n",
        "  <li>Where in the context of your meta-analysis, the value of <tt>z</tt> for the <i>i</i><sup> th</sup> out of the <tt>k</tt> number of studies uses the weighted estimate of the population mean that you calculated, <tt>mean_r</tt>, as follows:\n",
        "$$z_i = \\frac{(r_i - mean\\_r)}{se_i}$$<br>  </li>\n",
        "  <li>And where <tt>se</tt> is calculated using <tt>mean_r</tt> and weighted according to the number participants in each study, <tt>n</tt>, as follows using the formula:\n",
        "$$se_i = \\frac{(1 - mean\\_r^2)}{\\sqrt{(n_i - 1)}}$$</li>\n",
        "</ul>"
      ]
    },
    {
      "cell_type": "code",
      "execution_count": null,
      "metadata": {
        "id": "I0P-FNCVAFOO",
        "colab": {
          "base_uri": "https://localhost:8080/",
          "height": 191
        },
        "outputId": "76ddcad9-574f-4c0f-9082-e88349fbd436"
      },
      "outputs": [
        {
          "output_type": "stream",
          "name": "stdout",
          "text": [
            "[1] 7.681146 8.426150 8.426150 7.071068 7.000000\n",
            "[1] 0.1189856 0.1084654 0.1084654 0.1292515 0.1305637\n",
            "[1] 1.374581\n",
            "[1] 0.8486008\n",
            "[1] 1\n",
            "\n",
            "\n",
            "    Q   df   pval\n",
            "-----  ---  -----\n",
            " 1.37    4   0.85\n"
          ]
        }
      ],
      "source": [
        "%%R\n",
        "# this calculates hypothetical standard errors\n",
        "se <- (1-mean_r^2)/sqrt(n-1) %>% print(.)\n",
        "# this calculates a vector of z-statistics\n",
        "z <- (r-mean_r)/se %>% print(.)\n",
        "# this calculates the sum of the squared values in vector z obtaining the\n",
        "# Chi squared statistics\n",
        "Q <- sum(z^2) %>% print (.)\n",
        "# this utilises the Q statistic to see if the null hypothesis is mainly\n",
        "# due to sampling error\n",
        "# and returns the p-value as pval\n",
        "pval <- pchisq(Q, k-1, lower.tail=FALSE) %>% print (.)\n",
        "df <- k-1 %>% print(.)\n",
        "\n",
        "\n",
        "\n",
        "# This adds homogeneity statistics to the results data frame\n",
        "primary_results_dataframe <- data.frame(k, N, mean_r, se_r, t_crit, CI_Lower,\n",
        "                                        CI_Upper, Q, pval, df)\n",
        "# Print table of summary results for testing the null hypothesis that the\n",
        "# studies sample from the same population (fixed effect inference).\n",
        "primary_summary_homogeneity <- data.frame(Q, df, pval)\n",
        "primary_summary_homogeneity%>%\n",
        "  kable(\"simple\",\n",
        "        align = \"r\",\n",
        "        digits=c(2,0,2))\n",
        "\n",
        "\n"
      ]
    },
    {
      "cell_type": "markdown",
      "metadata": {
        "id": "-XFiuhG7QAKh"
      },
      "source": [
        "<br><font color='red'> <u><b>Question</b></u>:<br> How would you interpret the result of this significance test? What issues could there be with using this significance test to determine whether an assumption is met for the fixed-effects analysis that you have conducted?</font>\n"
      ]
    },
    {
      "cell_type": "markdown",
      "metadata": {
        "id": "3gNbDdzSP_71"
      },
      "source": [
        "Since the p value of the chi squared test is 0.85 (which is much higher than p = 0.05), we must accept the null hypothesis. An issue is that our sample sizes are only 50 participants per group which is low, and therefore we should not use a chi-squared test which can only be applied to larger samples. In addition, our data is not categorical and so a chi squared test would not be appropriate.\n"
      ]
    },
    {
      "cell_type": "markdown",
      "metadata": {
        "id": "2TWwKGBrftsw"
      },
      "source": [
        "####**Meta-analysis: Forest plot of effect sizes** (Basic)\n"
      ]
    },
    {
      "cell_type": "markdown",
      "metadata": {
        "id": "W0xMHB3BgPKp"
      },
      "source": [
        "<font color='blue'> <u><b>Coding Task</b></u>:<br> Create a forest plot including your computed correlation coefficients and confidence intervals of the <u><b>primary</b></u> endpoint for the individual studies (using the □ symbol), and the weighted-mean correlation coefficient (using the ◇ symbol).</font>"
      ]
    },
    {
      "cell_type": "code",
      "execution_count": null,
      "metadata": {
        "id": "7-kloQjHn9Bu",
        "colab": {
          "base_uri": "https://localhost:8080/",
          "height": 367
        },
        "outputId": "bfcd69d2-1078-4b16-fd1e-f06279283c42"
      },
      "outputs": [
        {
          "output_type": "display_data",
          "data": {
            "image/png": "[encoded data removed]"
          },
          "metadata": {}
        }
      ],
      "source": [
        "%%R -w 640 -h 350 -u px\n",
        "# Enter your code below this comment\n",
        "\n",
        "# Make forest plot for the primary endpoint using ggplot\n",
        "ggplot() +\n",
        "  geom_pointrange(data=primary_table, aes(x=es, y=Study, xmin=ci.lo,\n",
        "                                          xmax=ci.hi),\n",
        "                  size = n * 0.02, shape = 0) +\n",
        "  geom_pointrange(data = primary_results_dataframe, aes(x=mean_r, y=\"Overall\",\n",
        "                                                        xmin=CI_Lower,\n",
        "                                                        xmax=CI_Upper),\n",
        "                                                        size=3, shape=5) +\n",
        "  geom_vline(aes(xintercept=0), linetype=\"dashed\") +\n",
        "  # this adds a vertical dashed line at the null value (r=0)\n",
        "  scale_x_continuous (name=\"Correlation coefficient (r)\") +\n",
        "  scale_y_discrete (name=\"Study\", limits=rev) +\n",
        "  theme_bw (base_size=20)\n"
      ]
    },
    {
      "cell_type": "markdown",
      "metadata": {
        "id": "rtWA8v1tZepK"
      },
      "source": [
        "<br><font color='red'> <u><b>Question</b></u>:<br> Write a caption (i.e. figure legend) for the forest plot you created.</font>\n"
      ]
    },
    {
      "cell_type": "markdown",
      "metadata": {
        "id": "m5F86ykzZdEC"
      },
      "source": [
        "A forest plot plotting the correlation coefficient (r) against the number of study. The squares represent the confidence intervals and correlation coefficients for the primary endpoint of every study. The diamond represents the weighted mean correlation coefficient (for all studies).\n"
      ]
    },
    {
      "cell_type": "markdown",
      "metadata": {
        "id": "HC9iIsFJQiMG"
      },
      "source": [
        "###**Part 2b: Meta-analysis of a categorical outcome**"
      ]
    },
    {
      "cell_type": "markdown",
      "metadata": {
        "id": "I7Ohvo5zgshb"
      },
      "source": [
        "####**Calculating standardized effect sizes from 2x2 contingency tables**"
      ]
    },
    {
      "cell_type": "markdown",
      "metadata": {
        "id": "PYlH2RA8Ujby"
      },
      "source": [
        "<font color='blue'> <u><b>Coding Task</u></b>:<br> Calculate standardized effect sizes for the <b><u>secondary</u></b> endpoint in the form of <b>Pearson's correlation coefficients</b> using the 2x2 contingency table results of responder rates with CBD (yes/no) and PBO (yes/no), which you already assigned to variables at the begining of part 2 using the information within the study text excerpts. Ensure that you assign the estimates of the correlation coefficients of the studies to a variable called <tt><mark>r</mark></tt>, which should be numeric vector containing five elements - you will use it later. Print a table reporting the following variables (columns) for each study (row):</font>\n",
        "<ul>\n",
        "<font color='blue'>\n",
        "  <li><tt><mark>Study</mark></tt>: The study identifier.</li>\n",
        "  <li><tt><mark>n</mark></tt>: The total number of participants in the study.</li>\n",
        "  <li><tt><mark>r</mark></tt>: The effect size for the <b><u>secondary</u></b> endpoint, standardized and represented specifically as the correlation coefficient.</li>\n",
        "  <li><tt><mark>SE</mark></tt>: The standard error of the correlation coefficient.</li>\n",
        "  <tt><mark>CI_95</mark></tt>: The confidence interval for the correlation coefficient. The table entries for <tt><mark>CI_95</mark></tt> should be formatted consistent with APA style, in square brackets and separated by a comma. For example: [<tt><mark>ci.lo</mark></tt>, <tt><mark>ci.hi</tt>].</li>\n",
        "</font>\n",
        "</ul>\n",
        "\n",
        "Your answer must use the <tt>esc_2x2</tt> function from the <tt>esc</tt> package. <i>Hint</i>: The <tt>combine_esc</tt> function from the <esc> package can be used to combine information from multiple effect size calculations into a single data frame."
      ]
    },
    {
      "cell_type": "code",
      "execution_count": null,
      "metadata": {
        "colab": {
          "base_uri": "https://localhost:8080/"
        },
        "id": "ed3hb29Z1LGJ",
        "outputId": "540256f3-355f-44bf-e34d-d815a54d81ba"
      },
      "outputs": [
        {
          "output_type": "stream",
          "name": "stdout",
          "text": [
            "  study         es   weight sample.size        se        var        ci.lo\n",
            "1    #1 0.16424449 46.21542          60 0.1470979 0.02163780 -0.121950863\n",
            "2    #2 0.26733558 52.09266          72 0.1385517 0.01919656  0.002435855\n",
            "3    #3 0.40932636 34.05295          72 0.1713652 0.02936603  0.098610581\n",
            "4    #4 0.03677788 35.73783          51 0.1672769 0.02798156 -0.283112156\n",
            "5    #5 0.15513349 39.39252          51 0.1593284 0.02538553 -0.154631161\n",
            "      ci.hi  fishers.z     ci.lo.z   ci.hi.z measure\n",
            "1 0.4252244 0.16574576 -0.12256087 0.4540524       r\n",
            "2 0.4971764 0.27399211  0.00243586 0.5455484       r\n",
            "3 0.6473197 0.43480173  0.09893209 0.7706714       r\n",
            "4 0.3493043 0.03679448 -0.29106219 0.3646511       r\n",
            "5 0.4371274 0.15639628 -0.15588160 0.4686742       r\n",
            "\n",
            "\n",
            "    r            CI_95\n",
            "-----  ---------------\n",
            " 0.16   [-0.12, +0.43]\n",
            " 0.27   [+0.00, +0.50]\n",
            " 0.41   [+0.10, +0.65]\n",
            " 0.04   [-0.28, +0.35]\n",
            " 0.16   [-0.15, +0.44]\n"
          ]
        }
      ],
      "source": [
        "%%R\n",
        "# Calculation of the correlation coefficient using the results of the\n",
        "# contingency table\n",
        "secondary_es1 <- esc_2x2 (grp1yes[1], grp1no[1], grp2yes[1], grp2no[1],\n",
        "                          \"r\", Study[1])\n",
        "secondary_es2 <- esc_2x2 (grp1yes[2], grp1no[2], grp2yes[2], grp2no[2],\n",
        "                          \"r\", Study[2])\n",
        "secondary_es3 <- esc_2x2 (grp1yes[3], grp1no[3], grp2yes[3], grp2no[3],\n",
        "                          \"r\", Study[3])\n",
        "secondary_es4 <- esc_2x2 (grp1yes[4], grp1no[4], grp2yes[4], grp2no[4],\n",
        "                          \"r\", Study[4])\n",
        "secondary_es5 <- esc_2x2 (grp1yes[5], grp1no[5], grp2yes[5], grp2no[5],\n",
        "                          \"r\", Study[5])\n",
        "\n",
        "# Combines the effect sizes and assigns the effect size\n",
        "# to a variable called r\n",
        "secondary_table <- combine_esc (secondary_es1, secondary_es2, secondary_es3,\n",
        "                                secondary_es4, secondary_es5) %>% print (.)\n",
        "\n",
        "# Results table creation\n",
        "secondary_table %>%\n",
        "  mutate (.,\n",
        "          \"CI_95\" = sprintf (\"[%+.2f, %+.2f]\", ci.lo, ci.hi)) %>%\n",
        "  select (.,\n",
        "          \"r\" = es,\n",
        "          CI_95) %>%\n",
        "  kable (.,\n",
        "         \"simple\",\n",
        "         align = \"r\",\n",
        "         digits = c(2,0))\n",
        "\n",
        "\n",
        "\n",
        "\n",
        "\n",
        "\n",
        "\n"
      ]
    },
    {
      "cell_type": "markdown",
      "metadata": {
        "id": "L9bj99oR6pYt"
      },
      "source": [
        "<br><font color='red'> <u><b>Question</b></u>:<br> Here, we expect the standardized effect sizes (<i>r</i> ) of the secondary endpoint to have the opposite sign to the standardized effect sizes (<i>r</i>) that you calculated for the primary endpoint. Why is this? </font>\n"
      ]
    },
    {
      "cell_type": "markdown",
      "metadata": {
        "id": "0UWTjHop6oW7"
      },
      "source": [
        "There is a negative relationship between CBD treatment and seizure frequency as shown by the negative r values for the primary endpoint. Therefore, we would expect the number of patients who have not responded to CBD to be lower and the patients that have responded to placebo be higher, and therefore the r values for the secondary endpoint are positive. This is because CBD treatment must be efficacious in reducing seizure frequency unlike placebo.\n"
      ]
    },
    {
      "cell_type": "markdown",
      "metadata": {
        "id": "l7OlyAL_gxqw"
      },
      "source": [
        "####**Meta-analysis: Calculation of overall effect size** - Confidence intervals using the *t*-statistic critical value"
      ]
    },
    {
      "cell_type": "markdown",
      "metadata": {
        "id": "RwOZXLUxpGEz"
      },
      "source": [
        "<font color='blue'> <u><b>Coding Task</b></u>:<br> Perform all the calculations to run a meta-analysis using the method of Hunter & Schmidt for the <u><b>secondary</b></u> endpoint. The variables computed must include the number of studies (<tt><mark>k</mark></tt>), the weighted mean correlation coefficient (<tt><mark>mean_r</mark></tt>) and it's corresponding variance (<tt><mark>var_r</mark></tt>), standard error (<tt><mark>se_r<mark></tt>), and lower and upper limits of 95% confidence intervals (<tt><mark>CI_Lower</mark></tt> and <tt><mark>CI_Upper</mark></tt>) using the critical value (<tt><mark>z_crit</mark></tt>) calculated from <u>Student's <i>t</i>-distribution</u> with <tt>k-1</tt> degrees of freedom. Print a table with a reporting the following variables (columns) for the overall effect size (1 row):</font>\n",
        "<ul>\n",
        "<font color='blue'>\n",
        "  <li><tt><mark>k</mark></tt> : The number of studies.</li>\n",
        "  <li><tt><mark>N</v></tt> : The sum of participants from all studies.</li>\n",
        "  <li><tt><mark>mean_r</mark></tt> : The overall standardized effect size (weighted-mean correlation coefficient) for the primary endpoint.</li>\n",
        "  <li><tt><mark>mean_se</mark></tt> : The standard error the weighted-mean correlation coefficient.</li>\n",
        "  <li><tt><mark>t_crit</mark></tt> : The critical value from Student's <i>t</i>-distribution.</li>\n",
        "  <li><tt><mark>CI_95</mark></tt> : The 95% confidence interval of the weighted-mean correlation coefficient. The table entries for <tt><mark>CI_95</mark></tt> should be formatted consistent with APA style, in square brackets and separated by a comma. For example: [<tt><mark>CI_Lower</mark></tt>, <tt><mark>CI_Upper</tt>].</li>\n",
        "</font>\n",
        "</ul>"
      ]
    },
    {
      "cell_type": "markdown",
      "metadata": {
        "id": "oNXlHa67c00j"
      },
      "source": [
        "[](#RemoveThisTextCell)\n",
        "Your answer must use the following information to perform it's calculations:\n",
        "<ul>\n",
        "  <li>The weighted mean, <tt>mean_r</tt>, can be calculated using the following formula:\n",
        "$$mean\\_r = \\frac{\\sum_{i=1}^k{n_i \\cdot r_i}}{\\sum_{i=1}^k{n_i}}$$<br></li>\n",
        "  <li>The weighted variance, <tt>var_r</tt>, can be calculated using an almost identical equation, except you replace <tt>r</tt> with <tt>(r-mean_r)<sup>2</sup></tt>, as shown below:\n",
        "$$var\\_r = \\frac{\\sum_{i=1}^k{n_i\\cdot (r_i - mean\\_r)^2}}{\\sum_{i=1}^k{n_i}}$$<br>\n",
        "Since the equations for <tt>mean_r</tt> and <tt>var_r</tt> have similar form, you are expected to define an function that can be used to calculate either depending on the input argument(s) provided.  </li>\n",
        "  <li>The standard error, <tt>se_r</tt>, can be calculated using the following formula:\n",
        "$$se\\_r = \\sqrt{ \\frac{var\\_r}{k} }$$<br></li>\n",
        "  <li>The confidence interval limits for <tt>mean_r</tt> should be calculated by normal theory using the following formula:\n",
        "$$ CI\\_Lower =  mean\\_r -  se\\_r \\cdot t\\_crit $$\n",
        "$$ CI\\_Upper =  mean\\_r +  se\\_r \\cdot t\\_crit $$<br></li>\n",
        "  <li>The critical value of the <i>t</i>-statistic used for calculating confidence intervals must be the obtained from the *t*-statistic at <tt>k-1</tt> degrees of freedom using the `qt` function.</li>"
      ]
    },
    {
      "cell_type": "code",
      "execution_count": null,
      "metadata": {
        "colab": {
          "base_uri": "https://localhost:8080/",
          "height": 329
        },
        "id": "lcsqCB7gpMNU",
        "outputId": "2c0afb75-a736-416a-b2f1-e870c58ddf41"
      },
      "outputs": [
        {
          "output_type": "stream",
          "name": "stdout",
          "text": [
            "[1] 0.16424449 0.26733558 0.40932636 0.03677788 0.15513349\n",
            "[1] 60 72 72 51 51\n",
            "[1] 5\n",
            "[1] 306\n",
            "[1] 0.2234046\n",
            "[1] 0.01585549\n",
            "[1] 0.05631251\n",
            "[1] 1.959964\n",
            "[1] 0.1130341\n",
            "[1] 0.3337751\n",
            "[1] 2.776445\n",
            "[1] 0.06705601\n",
            "[1] 0.3797532\n",
            "\n",
            "\n",
            "  k     N   mean_r   se_r   t_crit   CI_Lower   CI_Upper\n",
            "---  ----  -------  -----  -------  ---------  ---------\n",
            "  5   306     0.22   0.06     2.78       0.07       0.38\n"
          ]
        }
      ],
      "source": [
        "%%R\n",
        "# Summary table of results for overall effect size with confidence intervals\n",
        "# this calculates the number of studies and the sum of participants across all\n",
        "# studies\n",
        "r <- secondary_table$es %>% print(.)\n",
        "n <- secondary_table$sample.size %>% print(.)\n",
        "k <- length(r) %>% print(.)\n",
        "N <- sum(n) %>% print(.)\n",
        "\n",
        "# Frequency weighted mean correlation coefficient of the studies\n",
        "# calculation\n",
        "mean_r <- weighted.mean(r, n) %>% print(.)\n",
        "\n",
        "# Corresponding variance calculation\n",
        "var_r <- weighted.mean((r - mean_r)^2, n) %>% print(.)\n",
        "\n",
        "# Standard error of the weighted mean correlation coefficient calculation\n",
        "se_r <- sqrt(var_r/k) %>% print(.)\n",
        "\n",
        "# 95% confidence intervals calculation\n",
        "X <- 95\n",
        "z_crit <-qnorm ((1 - X/100)/2, lower.tail=FALSE) %>% print (.)\n",
        "CI_Lower <- (mean_r - se_r*z_crit) %>% print(.)\n",
        "CI_Upper <- (mean_r + se_r*z_crit) %>% print(.)\n",
        "\n",
        "t_crit <-qt ((1 - 0.95)/2, k-1, lower.tail=FALSE) %>% print(.)\n",
        "\n",
        "CI_Lower <- (mean_r - se_r*t_crit) %>% print(.)\n",
        "CI_Upper <- (mean_r + se_r*t_crit) %>% print(.)\n",
        "\n",
        "# Secondary results dataframe calculation\n",
        "secondary_results_dataframe <- data.frame(k, N, mean_r, se_r,\n",
        "                                          t_crit, CI_Lower, CI_Upper)\n",
        "secondary_results_dataframe%>%\n",
        "  kable(\"simple\",\n",
        "        align = \"r\",\n",
        "        digits=c(0,0,2,2,2,2,2))\n",
        "\n"
      ]
    },
    {
      "cell_type": "markdown",
      "metadata": {
        "id": "uZ0BoFasPTJr"
      },
      "source": [
        "<br><font color='red'> <u><b>Question</b></u>:<br> What would happen to the length of the confidence intervals if we replaced Student's <i>t</i>-critical value here with the standard normal <i>z</i>-critical value? In which situations will the bias correction introduced by using the critical value from Student’s <i>t</i>-distribution become more substantial?</font>\n",
        "\n"
      ]
    },
    {
      "cell_type": "markdown",
      "metadata": {
        "id": "LxcZCv0IPx5Q"
      },
      "source": [
        "The confidence intervals would be smaller when using the t-critical value since the z-critical value does not account for a lower sample size, whilst the t critical value does account for the small sample size of 100 participants. This bias is more noticeable when using even smaller numbers of participants.\n"
      ]
    },
    {
      "cell_type": "markdown",
      "metadata": {
        "id": "ZGOKwW7SOmvv"
      },
      "source": [
        "####**Meta-analysis: Checking for homogeneity of effect sizes** - Method without hypothesis testing\n"
      ]
    },
    {
      "cell_type": "markdown",
      "metadata": {
        "id": "IDuEs_451dIO"
      },
      "source": [
        "<font color='blue'> <u><b>Coding Task</b></u>:<br>\n",
        "Calculate the values of, and print a table reporting, the following statistics (columns) for the heterogeneity analysis (1 row):</font>\n",
        "<ul>\n",
        "<font color='blue'>\n",
        "  <li><tt><mark>var_r</mark></tt> : The total observed variance in study effect sizes. (You should have calculated this one already in the previous coding task)</li>\n",
        "  <li><tt><mark>var_e</mark></tt> : The variance in study effect sizes (i.e. <i>r</i> ) attributed only to sampling error.</li>\n",
        "  <li><tt><mark>var_p</mark></tt> : The variance in study effect sizes attributed to inconsistencies (i.e. heterogeniety) in the underlying population effect.</li>\n",
        "  <li><tt><mark>I_sq</mark></tt> : The percentage variability attributed to inconsistencies (i.e.heterogeniety) in the underlying population effect rather than errors in population sampling.</li>\n",
        "</font>\n",
        "</ul>"
      ]
    },
    {
      "cell_type": "markdown",
      "metadata": {
        "id": "RDY9516Mc7uA"
      },
      "source": [
        "[](#RemoveThisTextCell)\n",
        "Your answer must use the following information to compute the <tt>I_sq</tt> statistic:\n",
        "<ul>\n",
        "  <li>The sampling error variance (<tt>var_e</tt>) is calculated using the following formula: $$var\\_e = \\frac{(1 - mean\\_r^2)^2}{(\\frac{N}{k} - 1)}$$\n",
        "Note that you already calculated <tt>N</tt> and <tt>k</tt> in the previous task.</li>\n",
        "  <li>Variability attributed to inconsistencies in the underlying population effect, <tt>var_p</tt>, can be simply calculated by subtracting the value of <tt>var_e</tt> from the total observed variability in effect sizes, <tt>var_r</tt>.</li>\n",
        "  <li>Your code must enforce <tt>var_p</tt> to have a value no less than 0.</li>\n",
        "  <li>The fraction <tt>I_sq</tt> must be expressed as a percentage.</li>\n",
        "</ul>"
      ]
    },
    {
      "cell_type": "code",
      "execution_count": null,
      "metadata": {
        "colab": {
          "base_uri": "https://localhost:8080/",
          "height": 225
        },
        "id": "01j_4JS_B7Wh",
        "outputId": "08633d35-63eb-495f-abbe-6e16c4dc7a17"
      },
      "outputs": [
        {
          "output_type": "stream",
          "name": "stdout",
          "text": [
            "[1] 60.2\n",
            "[1] 0.0008609469\n",
            "[1] 5.42996\n",
            "  k   N    mean_r       se_r   t_crit   CI_Lower  CI_Upper      var_r\n",
            "1 5 306 0.2234046 0.05631251 2.776445 0.06705601 0.3797532 0.01585549\n",
            "       var_e        var_p    I_sq\n",
            "1 0.01499455 0.0008609469 5.42996\n",
            "\n",
            "\n",
            " var_r   var_e   var_p   I_sq\n",
            "------  ------  ------  -----\n",
            "  0.02    0.01       0   5.43\n"
          ]
        }
      ],
      "source": [
        "%%R\n",
        "# Variance of r associated with chance\n",
        "var_e <- (1-mean_r^2)^2/(N/k-1) %>% print(.)\n",
        "\n",
        "# Variance in r associated with heterogeneity\n",
        "var_p <- max(0, var_r - var_e) %>% print(.)\n",
        "\n",
        "# I^2 % variability calculation associated with inconsistencies\n",
        "# in the underlying population effect\n",
        "I_sq <- (100*var_p/var_r) %>% print(.)\n",
        "\n",
        "\n",
        "# This adds statistics for homogeneity to our existing summary results data frame\n",
        "secondary_results_dataframe <- data.frame(k, N, mean_r, se_r, t_crit,\n",
        "                                          CI_Lower, CI_Upper, var_r,\n",
        "                                          var_e, var_p, I_sq)\n",
        "print (secondary_results_dataframe)\n",
        "\n",
        "# Table of summary results for testing the null hypothesis that the\n",
        "# studies sample from the same population (fixed effect inference).\n",
        "summary_secondary_results <- data.frame(var_r, var_e, var_p, I_sq)\n",
        "summary_secondary_results%>%\n",
        "  kable(\"simple\",\n",
        "        align = \"r\",\n",
        "        digits=c(2,2,2,2))\n"
      ]
    },
    {
      "cell_type": "markdown",
      "metadata": {
        "id": "j10NsboRAAG_"
      },
      "source": [
        "<br><font color='red'> <u><b>Question</b></u>:<br> Use the thresholds for <i>I</i><sup> 2</sup> outlined in the <i>Cochrane Handbook for Systematic Reviews of Interventions</i> (https://tinyurl.com/3m694522) to interpret your result. If <i>I</i><sup> 2</sup> happens to be large, what simple change could we make to the intervals that we have calculated to relax this assumption and turn this into a random effects model? (<i>Hint</i>: the answer to the last question relates to a unique feature of the Hunter-Schmidt random-effects model)</font>\n"
      ]
    },
    {
      "cell_type": "markdown",
      "metadata": {
        "id": "phiWRrB6OHY2"
      },
      "source": [
        "The I^2 value is very low (5.43), suggesting that there is minimal variability\n",
        "in the estimate of effect size that is due to a cause other than chance. Using the Hunter-Schmidt random-effects model as a simple change justifies any variability such as heterogeneity for each study and also the variability between each study and so can be used if the I^2 is too large, which would make the confidence intervals wider."
      ]
    },
    {
      "cell_type": "markdown",
      "metadata": {
        "id": "YSng9f-Dg-Jp"
      },
      "source": [
        "####**Meta-analysis: Forest plot of effect sizes** (Advanced)"
      ]
    },
    {
      "cell_type": "markdown",
      "metadata": {
        "id": "Mdij5O2mhARD"
      },
      "source": [
        "<font color='blue'> <u><b>Coding Task</b></u>:<br> Create a forest plot including your computed correlation coefficients and confidence intervals of the <u><b>secondary</b></u> endpoint for the individual studies (using the □ symbol), and the weighted-mean correlation coefficient (using the ◇ symbol). This time, make the size of the symbols for the individual study effect sizes (□) proportional to the number of partcipants in the respective studies.</font>\n"
      ]
    },
    {
      "cell_type": "code",
      "execution_count": null,
      "metadata": {
        "colab": {
          "base_uri": "https://localhost:8080/",
          "height": 367
        },
        "id": "7VEGfSqDJqSb",
        "outputId": "f78fe8fc-7374-4838-ca16-e9f8499c0439"
      },
      "outputs": [
        {
          "output_type": "display_data",
          "data": {
            "image/png": "[encoded data removed]"
          },
          "metadata": {}
        }
      ],
      "source": [
        "%%R -w 640 -h 350 -u px\n",
        "\n",
        "# this creates a forest plot for the secondary endpoint\n",
        "ggplot() +\n",
        "  geom_pointrange(data=secondary_table, aes(x=es, y=Study, xmin=ci.lo,\n",
        "                                            xmax=ci.hi),\n",
        "                  size = n * 0.02, shape = 0) +\n",
        "  geom_pointrange(data = secondary_results_dataframe, aes(x=mean_r, y=\"Overall\",\n",
        "                                                          xmin=CI_Lower,\n",
        "                                                          xmax=CI_Upper),size=3,\n",
        "                                                          shape=5) +\n",
        "  geom_vline(aes(xintercept=0), linetype=\"dashed\") +\n",
        "  # this adds a vertical dashed line at the null value (r=0)\n",
        "  scale_x_continuous (name=\"Correlation coefficient (r)\") +\n",
        "  scale_y_discrete (name=\"Study\", limits=rev) +\n",
        "  theme_bw (base_size=20)"
      ]
    },
    {
      "cell_type": "markdown",
      "metadata": {
        "id": "nlMFrHZpUAWf"
      },
      "source": [
        "[](#RemoveThisTextCell)\n",
        "## Run this section to export and download the HTML of your problem set\n",
        "\n"
      ]
    },
    {
      "cell_type": "markdown",
      "metadata": {
        "id": "1c05dJDpTZIC"
      },
      "source": [
        "[](#RemoveThisTextCell)\n",
        "Save your notebook and then run this hidden python code cell below to export and download an HTML document of your problem set assignment. Open the HTML to check that you are happy with it and that it appears as you expect<sup>*</sup>. You must then submit the **HTML** document to the relevant Canvas Online submission point.\n",
        "\n",
        "<sup>*</sup>*Note that some of the provided instructional and functional content in this notebook is deliberately omitted from the output HTML to reduce the size of the document and the amount of matching content identified by Turnitin. If you receive an error below saying that 'cand_no' is not defined, then go back and run the cell where you entered your candidate number and then try to run this section again.*\n",
        "\n",
        "\n",
        "\n"
      ]
    },
    {
      "cell_type": "code",
      "execution_count": null,
      "metadata": {
        "colab": {
          "base_uri": "https://localhost:8080/",
          "height": 121
        },
        "collapsed": true,
        "id": "m5OwTwSXLfUK",
        "outputId": "c29a101f-2c83-4e6f-dbaa-8fea6ec3869f"
      },
      "outputs": [
        {
          "output_type": "stream",
          "name": "stdout",
          "text": [
            "[NbConvertApp] Converting notebook notebook.ipynb to html\n",
            "[NbConvertApp] ERROR | unhandled iopub msg: colab_request\n",
            "[NbConvertApp] ERROR | unhandled iopub msg: colab_request\n",
            "[NbConvertApp] ERROR | unhandled iopub msg: colab_request\n",
            "[NbConvertApp] WARNING | Alternative text is missing on 7 image(s).\n",
            "[NbConvertApp] Writing 1050332 bytes to notebook.html\n"
          ]
        },
        {
          "output_type": "display_data",
          "data": {
            "text/plain": [
              "<IPython.core.display.Javascript object>"
            ],
            "application/javascript": [
              "\n",
              "    async function download(id, filename, size) {\n",
              "      if (!google.colab.kernel.accessAllowed) {\n",
              "        return;\n",
              "      }\n",
              "      const div = document.createElement('div');\n",
              "      const label = document.createElement('label');\n",
              "      label.textContent = `Downloading \"${filename}\": `;\n",
              "      div.appendChild(label);\n",
              "      const progress = document.createElement('progress');\n",
              "      progress.max = size;\n",
              "      div.appendChild(progress);\n",
              "      document.body.appendChild(div);\n",
              "\n",
              "      const buffers = [];\n",
              "      let downloaded = 0;\n",
              "\n",
              "      const channel = await google.colab.kernel.comms.open(id);\n",
              "      // Send a message to notify the kernel that we're ready.\n",
              "      channel.send({})\n",
              "\n",
              "      for await (const message of channel.messages) {\n",
              "        // Send a message to notify the kernel that we're ready.\n",
              "        channel.send({})\n",
              "        if (message.buffers) {\n",
              "          for (const buffer of message.buffers) {\n",
              "            buffers.push(buffer);\n",
              "            downloaded += buffer.byteLength;\n",
              "            progress.value = downloaded;\n",
              "          }\n",
              "        }\n",
              "      }\n",
              "      const blob = new Blob(buffers, {type: 'application/binary'});\n",
              "      const a = document.createElement('a');\n",
              "      a.href = window.URL.createObjectURL(blob);\n",
              "      a.download = filename;\n",
              "      div.appendChild(a);\n",
              "      a.click();\n",
              "      div.remove();\n",
              "    }\n",
              "  "
            ]
          },
          "metadata": {}
        },
        {
          "output_type": "display_data",
          "data": {
            "text/plain": [
              "<IPython.core.display.Javascript object>"
            ],
            "application/javascript": [
              "download(\"download_6e050a0f-ebcd-4cf1-a762-29a81a205c48\", \"cand_no_282230_notebook.html\", 920981)"
            ]
          },
          "metadata": {}
        }
      ],
      "source": [
        "#RemoveCodeFromIPYNB\n",
        "# @title Running this hidden python code cell prepares and exports the HTML document  - <mark>Do <b><u>NOT</u></b> click '<tt>Show code</tt></mark>' { display-mode: \"form\" }\n",
        "\n",
        "#!!!!!!!!!!!!!!!!!!!!!! DO NOT EDIT THIS PYTHON CODE CELL !!!!!!!!!!!!!!!!!!!!!!\n",
        "# You can see this code because you accidently clicked 'Show code' for this\n",
        "# hidden cell. Hide it again by clicking the button in the top-left corner of\n",
        "# this cell containing a down arrowhead symbol (⌄). (If you hover the mouse\n",
        "# cursor over the button in question for a couple of seconds, a tool-tip will\n",
        "# appear saying \"Hide code\".)\n",
        "\n",
        "# Navigate to 'content' directory\n",
        "!cd /content\n",
        "\n",
        "# Remove temporary files from the colab instance if they exist\n",
        "!rm -f notebook.ipynb notebook.html\n",
        "\n",
        "# Import required modules\n",
        "import google, json\n",
        "\n",
        "# Get the notebook and return it as a dictionary\n",
        "nb  = google.colab._message.blocking_request(\"get_ipynb\", timeout_sec=5)\n",
        "\n",
        "# Remove any cells in the notebook starting with #RemoveCodeFromIPYNB\n",
        "cellnum = 0;\n",
        "celldel = [];\n",
        "for cell in nb[\"ipynb\"][\"cells\"]:\n",
        "  if cell[\"source\"]:\n",
        "    if (cell[\"source\"][0][0:20] == \"#RemoveCodeFromIPYNB\"):\n",
        "      celldel.append(cellnum)\n",
        "  cellnum += 1\n",
        "[nb[\"ipynb\"][\"cells\"].pop(i) for i in reversed(celldel)]\n",
        "\n",
        "# Save a temporary copy of the notebook in the colab instance\n",
        "fid = open(\"notebook.ipynb\", \"w\", encoding=\"utf-8\")\n",
        "json.dump(nb[\"ipynb\"], fid, indent=2)\n",
        "fid.close()\n",
        "\n",
        "# Move the VariableInspectorWindow widget to the Appendix at the end of the notebook\n",
        "import nbformat\n",
        "with open('notebook.ipynb', 'r') as f:\n",
        "    nb = nbformat.read(f, as_version=4)\n",
        "flag = False\n",
        "for cell in reversed(nb.cells):\n",
        "    if flag:\n",
        "        nb.cells.append(prevcell)\n",
        "        nb.cells.remove(cell)\n",
        "        nb.cells.remove(prevcell)\n",
        "        break\n",
        "    else:\n",
        "        if cell.get('source') == 'VariableInspectorWindow(get_ipython())':\n",
        "            prevcell = cell\n",
        "            flag = True\n",
        "with open('notebook.ipynb', 'w') as f:\n",
        "    nbformat.write(nb, f)\n",
        "\n",
        "# Export the notebook file as an html\n",
        "!jupyter nbconvert --execute --to html \"notebook.ipynb\"\n",
        "\n",
        "# Hack to fix HTML rendering of the variable inspector widget\n",
        "from lxml import html\n",
        "tree = html.parse(\"notebook.html\")\n",
        "root = tree.getroot()\n",
        "for elem in root.xpath('//script[contains(@type,' + \\\n",
        "                       '\"application/vnd.jupyter.widget-state+json\")]'):\n",
        "  elem.text = elem.text.replace(\"&gt;\",\">\")\n",
        "  elem.text = elem.text.replace(\"&lt;\",\"<\")\n",
        "\n",
        "# Remove cell output for code cell in the notebook containing the #RemoveCellOutputFromHTML tag\n",
        "for elem in root.xpath('//span[contains(@class,\"c1\")]'):\n",
        "  if elem.text == \"#RemoveCellOutputFromHTML\":\n",
        "    span = elem.getparent()\n",
        "    code = span.getparent()\n",
        "    CodeMirror = code.getparent()\n",
        "    CodeMirrorEditor = CodeMirror.getparent()\n",
        "    InputArea = CodeMirrorEditor.getparent()\n",
        "    InputWrapper = InputArea.getparent()\n",
        "    Cell = InputWrapper.getparent()\n",
        "    OutputWrapper = Cell.getchildren()[1]\n",
        "    Cell.remove(OutputWrapper)\n",
        "\n",
        "# Remove cell input for code cell in the notebook containing the #RemoveCellInputFromHTML tag\n",
        "for elem in root.xpath('//span[contains(@class,\"c1\")]'):\n",
        "  if elem.text == \"#RemoveCellInputFromHTML\":\n",
        "    span = elem.getparent()\n",
        "    code = span.getparent()\n",
        "    CodeMirror = code.getparent()\n",
        "    CodeMirrorEditor = CodeMirror.getparent()\n",
        "    InputArea = CodeMirrorEditor.getparent()\n",
        "    InputWrapper = InputArea.getparent()\n",
        "    Cell = InputWrapper.getparent()\n",
        "    OutputWrapper = Cell.getchildren()[0]\n",
        "    Cell.remove(OutputWrapper)\n",
        "\n",
        "# Remove all text cells in the notebook containing the [](#RemoveThisTextCell) href tag\n",
        "for elem in root.xpath('//a[contains(@href,\"#RemoveThisTextCell\")]'):\n",
        "    hyperlink = elem.getparent()\n",
        "    hyperlink.values()\n",
        "    RenderedHTMLCommon = hyperlink.getparent()\n",
        "    RenderedHTMLCommon.values()\n",
        "    InputArea = RenderedHTMLCommon.getparent()\n",
        "    InputArea.values()\n",
        "    CellInputWrapper = InputArea.getparent()\n",
        "    CellInputWrapper.values()\n",
        "    MarkdownCell = CellInputWrapper.getparent()\n",
        "    MarkdownCell.values()\n",
        "    MarkdownCell.getparent().remove(MarkdownCell)\n",
        "tree.write(\"cand_no_{0}_notebook.html\".format(cand_no), pretty_print=True, method=\"html\", encoding=\"UTF-8\")\n",
        "\n",
        "# Download the html file\n",
        "google.colab.files.download (\"cand_no_{0}_notebook.html\".format(cand_no))\n",
        "\n",
        "# Delete temporary variables that we don't need anymore\n",
        "#for v in ['cell','celldel','cellnum','fid','nb','root','tree']:\n",
        "#  if v in locals():\n",
        "#    del locals()[v]\n",
        "#del locals()['v']\n",
        "\n",
        "################## DO NOT EDIT ANY PYTHON CODE IN THIS CELL ####################"
      ]
    },
    {
      "cell_type": "markdown",
      "metadata": {
        "id": "b4w2Pi6nZ2eG"
      },
      "source": [
        "##**Appendix**\n",
        "The appendix is automatically populated with the R Variable Inspector when the HTML is generated. The appendix should not be used by students for any other reason in this particular assignment."
      ]
    }
  ],
  "metadata": {
    "colab": {
      "provenance": [],
      "collapsed_sections": [
        "9CLFOBemigfQ"
      ],
      "include_colab_link": true
    },
    "kernelspec": {
      "display_name": "Python 3",
      "name": "python3"
    },
    "language_info": {
      "name": "python"
    },
    "widgets": {
      "application/vnd.jupyter.widget-state+json": {
        "15a5bf6ff3a94abb8799a82cc744ab0f": {
          "model_module": "@jupyter-widgets/controls",
          "model_name": "BoxModel",
          "model_module_version": "1.5.0",
          "state": {
            "_dom_classes": [],
            "_model_module": "@jupyter-widgets/controls",
            "_model_module_version": "1.5.0",
            "_model_name": "BoxModel",
            "_view_count": null,
            "_view_module": "@jupyter-widgets/controls",
            "_view_module_version": "1.5.0",
            "_view_name": "BoxView",
            "box_style": "",
            "children": [
              "IPY_MODEL_8cb92374ad824bd5af2fd9f480da2b37"
            ],
            "layout": "IPY_MODEL_3599fadebec340998714ab0d454bf8ac"
          }
        },
        "8cb92374ad824bd5af2fd9f480da2b37": {
          "model_module": "@jupyter-widgets/controls",
          "model_name": "HTMLModel",
          "model_module_version": "1.5.0",
          "state": {
            "_dom_classes": [],
            "_model_module": "@jupyter-widgets/controls",
            "_model_module_version": "1.5.0",
            "_model_name": "HTMLModel",
            "_view_count": null,
            "_view_module": "@jupyter-widgets/controls",
            "_view_module_version": "1.5.0",
            "_view_name": "HTMLView",
            "description": "",
            "description_tooltip": null,
            "layout": "IPY_MODEL_52796bf8c700444d82810bb2f7ed70a0",
            "placeholder": "​",
            "style": "IPY_MODEL_7e024014cac24962899fbd908e31e729",
            "value": "<div class=\"rendered_html jp-RenderedHTMLCommon\"><table class=\"dataframe\"><thead><tr align =\"right\"><th>variable</th><th>class</th><th>ncol</th><th>nrow</th><th>content</th></tr></thead><tr><td>agesum.CBD</td><td>character</td><td>1\n</td><td>1\n</td><td>[1] 27.22 ± 04.08\n</td></tr><tr><td>agesum.PBO</td><td>character</td><td>1\n</td><td>1\n</td><td>[1] 26.16 ± 04.92\n</td></tr><tr><td>avg_age</td><td>numeric</td><td>1\n</td><td>1\n</td><td>[1] 27\n</td></tr><tr><td>avgbefore.CBD</td><td>character</td><td>1\n</td><td>1\n</td><td>[1] 25.24 ± 17.07\n</td></tr><tr><td>avgbefore.PBO</td><td>character</td><td>1\n</td><td>1\n</td><td>[1] 16.00000 ± 12.74\n</td></tr><tr><td>avgduring.CBD</td><td>character</td><td>1\n</td><td>1\n</td><td>[1] 15.21 ± 12.33\n</td></tr><tr><td>avgduring.PBO</td><td>character</td><td>1\n</td><td>1\n</td><td>[1] 17.49 ± 18.52\n</td></tr><tr><td>B</td><td>numeric</td><td>1\n</td><td>5\n</td><td>[1] -22.8 -45.7 -18.8 -21.1 -30.1\n</td></tr><tr><td>cand_no</td><td>numeric</td><td>1\n</td><td>1\n</td><td>[1] 282230\n</td></tr><tr><td>CBD.female.n</td><td>integer</td><td>1\n</td><td>1\n</td><td>[1] 28\n</td></tr><tr><td>CBD.male.n</td><td>integer</td><td>1\n</td><td>1\n</td><td>[1] 22\n</td></tr><tr><td>CI_Lower</td><td>numeric</td><td>1\n</td><td>1\n</td><td>[1] 0.06705601\n</td></tr><tr><td>CI_Upper</td><td>numeric</td><td>1\n</td><td>1\n</td><td>[1] 0.3797532\n</td></tr><tr><td>ci.hi</td><td>numeric</td><td>1\n</td><td>5\n</td><td>[1] -0.5 -0.2 -6.0 -1.6 -3.3\n</td></tr><tr><td>ci.lo</td><td>numeric</td><td>1\n</td><td>5\n</td><td>[1] -45.3 -54.9 -45.2 -43.6 -52.9\n</td></tr><tr><td>cohort.summary</td><td>data.frame</td><td>6\n</td><td>2\n</td><td>[1] combined.participants combined.sex          combined.avgage      \n<br>[4] combined.avgbefore    combined.avgduring    combined.diff        \n</td></tr><tr><td>cohort.summary.names</td><td>character</td><td>1\n</td><td>6\n</td><td>[1] N                                                      \n<br>[2] Sex (F/M)                                              \n<br>[3] Age (Years; mean ± SD)                                 \n<br>[4] Baseline Seizures (per week; mean ± SD)                \n<br>[5] Seizures after starting treatment (per week; mean ± SD)\n<br>[6] Difference (% Baseline; mean ± SD)                     \n</td></tr><tr><td>columns</td><td>character</td><td>1\n</td><td>1\n</td><td>[1] 100\n</td></tr><tr><td>combined_data</td><td>data.frame</td><td>6\n</td><td>100\n</td><td>[1] ID             Baseline_Age   Sex            Treatment     \n<br>[5] Baseline       Post_Treatment\n</td></tr><tr><td>combined.avgage</td><td>character</td><td>1\n</td><td>2\n</td><td>[1] 26.16 ± 04.92 27.22 ± 04.08\n</td></tr><tr><td>combined.avgbefore</td><td>character</td><td>1\n</td><td>2\n</td><td>[1] 16.00000 ± 12.74 25.24 ± 17.07   \n</td></tr><tr><td>combined.avgduring</td><td>character</td><td>1\n</td><td>2\n</td><td>[1] 17.49 ± 18.52 15.21 ± 12.33\n</td></tr><tr><td>combined.diff</td><td>character</td><td>1\n</td><td>2\n</td><td>[1] 01.41 ± 41.82  -37.98 ± 32.07\n</td></tr><tr><td>combined.participants</td><td>numeric</td><td>1\n</td><td>2\n</td><td>[1] 50 50\n</td></tr><tr><td>combined.sex</td><td>character</td><td>1\n</td><td>2\n</td><td>[1] 33/17 22/28\n</td></tr><tr><td>count.treatmentsex</td><td>data.frame</td><td>3\n</td><td>4\n</td><td>[1] Treatment Sex       n        \n</td></tr><tr><td>countparticipants</td><td>data.frame</td><td>2\n</td><td>2\n</td><td>[1] Treatment n        \n</td></tr><tr><td>countparticipants.CBD</td><td>numeric</td><td>1\n</td><td>1\n</td><td>[1] 50\n</td></tr><tr><td>countparticipants.PBO</td><td>numeric</td><td>1\n</td><td>1\n</td><td>[1] 50\n</td></tr><tr><td>countsex</td><td>data.frame</td><td>2\n</td><td>2\n</td><td>[1] Sex n  \n</td></tr><tr><td>countsex.CBD</td><td>character</td><td>1\n</td><td>1\n</td><td>[1] 22/28\n</td></tr><tr><td>countsex.PBO</td><td>character</td><td>1\n</td><td>1\n</td><td>[1] 33/17\n</td></tr><tr><td>critical_value</td><td>numeric</td><td>1\n</td><td>1\n</td><td>[1] 1.96\n</td></tr><tr><td>df</td><td>numeric</td><td>1\n</td><td>1\n</td><td>[1] 4\n</td></tr><tr><td>df.names.respond</td><td>character</td><td>1\n</td><td>2\n</td><td>[1] Cannabidiol (CBD) Placebo (PBO)    \n</td></tr><tr><td>df.sim.respond</td><td>data.frame</td><td>2\n</td><td>2\n</td><td>[1] row_CBD row_PBO\n</td></tr><tr><td>diff.CBD</td><td>character</td><td>1\n</td><td>1\n</td><td>[1] -37.98 ± 32.07\n</td></tr><tr><td>diff.PBO</td><td>character</td><td>1\n</td><td>1\n</td><td>[1] 01.41 ± 41.82\n</td></tr><tr><td>difference.CBD</td><td>numeric</td><td>1\n</td><td>50\n</td><td> [1] -75.9036145 -51.8382353 -58.1395349 -68.5714286   0.0000000 -56.0000000\n <br>[7] -75.0000000 -31.4606742  -1.6949153 -53.8461538 -17.0212766 -68.8679245\n<br>[13]  65.8536585 -70.3389831 -54.5454545 -29.9401198 -41.9354839 -67.0886076\n<br>[19]  31.1475410 -59.1836735 -54.6875000  28.5714286  -5.1948052 -47.1698113\n<br>[25]   0.6622517 -65.5172414 -36.5384615 -27.2727273 -21.1538462 -11.3475177\n<br>[31] -39.6039604 -58.4269663  -4.5112782 -40.8163265  15.5555556 -20.7920792\n<br>[37] -66.3265306  -9.3750000 -76.9230769 -28.5714286 -50.0000000 -59.7826087\n<br>[43] -50.6172840 -46.7625899 -70.4545455 -13.5593220 -76.3157895 -41.6666667\n<br>[49] -62.7272727 -73.3333333\n</td></tr><tr><td>difference.PBO</td><td>numeric</td><td>1\n</td><td>50\n</td><td> [1]  26.562500 -50.000000  27.272727 -27.272727  -7.638889  -5.555556\n <br>[7] -14.705882 -29.824561   0.000000 -56.250000  65.000000 -41.176471\n<br>[13] -41.666667  59.375000 -48.484848 -14.285714  16.339869  18.309859\n<br>[19] -29.411765  88.461538 -33.333333  -2.816901 -27.777778 -25.000000\n<br>[25]  33.333333 -35.869565  20.000000  17.241379  -7.692308 -12.000000\n<br>[31] -11.320755 -44.444444  25.252525 -41.269841 -23.357664   9.734513\n<br>[37]  18.699187 -33.333333 -14.814815  -4.294479   9.090909  76.811594\n<br>[43]  42.857143 160.784314 -25.000000 -16.000000  17.948718 -33.333333\n<br>[49]  64.705882  30.769231\n</td></tr><tr><td>grp1no</td><td>numeric</td><td>1\n</td><td>5\n</td><td>[1] 17 19 22 18 14\n</td></tr><tr><td>grp1yes</td><td>numeric</td><td>1\n</td><td>5\n</td><td>[1] 14 18 14  8 11\n</td></tr><tr><td>grp2no</td><td>numeric</td><td>1\n</td><td>5\n</td><td>[1] 20 26 32 18 18\n</td></tr><tr><td>grp2yes</td><td>numeric</td><td>1\n</td><td>5\n</td><td>[1] 9 9 4 7 8\n</td></tr><tr><td>I_sq</td><td>numeric</td><td>1\n</td><td>1\n</td><td>[1] 5.42996\n</td></tr><tr><td>initial_CI_Lower</td><td>numeric</td><td>1\n</td><td>1\n</td><td>[1] -0.3475269\n</td></tr><tr><td>initial_CI_Upper</td><td>numeric</td><td>1\n</td><td>1\n</td><td>[1] -0.2391724\n</td></tr><tr><td>k</td><td>integer</td><td>1\n</td><td>1\n</td><td>[1] 5\n</td></tr><tr><td>logOR</td><td>numeric</td><td>1\n</td><td>1\n</td><td>[1] 3.098011\n</td></tr><tr><td>lowerORCI</td><td>numeric</td><td>1\n</td><td>1\n</td><td>[1] 12.72025\n</td></tr><tr><td>maleCBD</td><td>numeric</td><td>1\n</td><td>1\n</td><td>[1] 0.5\n</td></tr><tr><td>malePBO</td><td>numeric</td><td>1\n</td><td>1\n</td><td>[1] 0.6\n</td></tr><tr><td>mean_r</td><td>numeric</td><td>1\n</td><td>1\n</td><td>[1] 0.2234046\n</td></tr><tr><td>mean_se</td><td>numeric</td><td>1\n</td><td>1\n</td><td>[1] 0.02764196\n</td></tr><tr><td>n</td><td>numeric</td><td>1\n</td><td>5\n</td><td>[1] 60 72 72 51 51\n</td></tr><tr><td>N</td><td>numeric</td><td>1\n</td><td>1\n</td><td>[1] 306\n</td></tr><tr><td>N1</td><td>numeric</td><td>1\n</td><td>5\n</td><td>[1] 31 37 36 26 25\n</td></tr><tr><td>N2</td><td>numeric</td><td>1\n</td><td>5\n</td><td>[1] 29 35 36 25 25\n</td></tr><tr><td>new_combined_data</td><td>data.frame</td><td>8\n</td><td>100\n</td><td>[1] ID                    Baseline_Age          Sex                  \n<br>[4] Treatment             Baseline              Post_Treatment       \n<br>[7] difference            percentage_difference\n</td></tr><tr><td>new_combined_data_long</td><td>data.frame</td><td>8\n</td><td>200\n</td><td>[1] ID                    Baseline_Age          Sex                  \n<br>[4] Treatment             difference            percentage_difference\n<br>[7] Timepoint             value                \n</td></tr><tr><td>noresponse.CBD</td><td>integer</td><td>1\n</td><td>1\n</td><td>[1] 26\n</td></tr><tr><td>noresponse.PBO</td><td>integer</td><td>1\n</td><td>1\n</td><td>[1] 48\n</td></tr><tr><td>number</td><td>numeric</td><td>1\n</td><td>1\n</td><td>[1] 50\n</td></tr><tr><td>odds_ratio</td><td>numeric</td><td>1\n</td><td>1\n</td><td>[1] 22.15385\n</td></tr><tr><td>odds_ratio_dataframe</td><td>data.frame</td><td>3\n</td><td>1\n</td><td>[1] odds_ratio upperORCI  lowerORCI \n</td></tr><tr><td>ORCI.value</td><td>numeric</td><td>1\n</td><td>1\n</td><td>[1] 0.5548157\n</td></tr><tr><td>PBO.female.n</td><td>integer</td><td>1\n</td><td>1\n</td><td>[1] 17\n</td></tr><tr><td>PBO.male.n</td><td>integer</td><td>1\n</td><td>1\n</td><td>[1] 33\n</td></tr><tr><td>primary_es1</td><td>esc</td><td>1\n</td><td>13\n</td><td> [1] es       se       var      ci.lo    ci.hi    w       \n <br>[7] zr       ci.lo.zr ci.hi.zr totaln   measure  info    \n<br>[13] study   \n</td></tr><tr><td>primary_es2</td><td>esc</td><td>1\n</td><td>13\n</td><td> [1] es       se       var      ci.lo    ci.hi    w       \n <br>[7] zr       ci.lo.zr ci.hi.zr totaln   measure  info    \n<br>[13] study   \n</td></tr><tr><td>primary_es3</td><td>esc</td><td>1\n</td><td>13\n</td><td> [1] es       se       var      ci.lo    ci.hi    w       \n <br>[7] zr       ci.lo.zr ci.hi.zr totaln   measure  info    \n<br>[13] study   \n</td></tr><tr><td>primary_es4</td><td>esc</td><td>1\n</td><td>13\n</td><td> [1] es       se       var      ci.lo    ci.hi    w       \n <br>[7] zr       ci.lo.zr ci.hi.zr totaln   measure  info    \n<br>[13] study   \n</td></tr><tr><td>primary_es5</td><td>esc</td><td>1\n</td><td>13\n</td><td> [1] es       se       var      ci.lo    ci.hi    w       \n <br>[7] zr       ci.lo.zr ci.hi.zr totaln   measure  info    \n<br>[13] study   \n</td></tr><tr><td>primary_results_dataframe</td><td>data.frame</td><td>10\n</td><td>1\n</td><td> [1] k        N        mean_r   se_r     t_crit   CI_Lower\n <br>[7] CI_Upper Q        pval     df      \n</td></tr><tr><td>primary_summary_homogeneity</td><td>data.frame</td><td>3\n</td><td>1\n</td><td>[1] Q    df   pval\n</td></tr><tr><td>primary_table</td><td>data.frame</td><td>12\n</td><td>5\n</td><td> [1] study       es          weight      sample.size se         \n <br>[6] var         ci.lo       ci.hi       fishers.z   ci.lo.z    \n<br>[11] ci.hi.z     measure    \n</td></tr><tr><td>pval</td><td>numeric</td><td>1\n</td><td>1\n</td><td>[1] 0.8486008\n</td></tr><tr><td>Q</td><td>numeric</td><td>1\n</td><td>1\n</td><td>[1] 1.374581\n</td></tr><tr><td>r</td><td>numeric</td><td>1\n</td><td>5\n</td><td>[1] 0.16424449 0.26733558 0.40932636 0.03677788 0.15513349\n</td></tr><tr><td>raw_effect_sizes</td><td>data.frame</td><td>3\n</td><td>5\n</td><td>[1] Study n     B    \n</td></tr><tr><td>responders.CBD</td><td>integer</td><td>1\n</td><td>1\n</td><td>[1] 24\n</td></tr><tr><td>responders.PBO</td><td>integer</td><td>1\n</td><td>1\n</td><td>[1] 2\n</td></tr><tr><td>row_CBD</td><td>integer</td><td>1\n</td><td>2\n</td><td>[1] 24 26\n</td></tr><tr><td>row_PBO</td><td>integer</td><td>1\n</td><td>2\n</td><td>[1]  2 48\n</td></tr><tr><td>rows</td><td>character</td><td>1\n</td><td>1\n</td><td>[1] 6\n</td></tr><tr><td>SD.Pooled</td><td>numeric</td><td>1\n</td><td>5\n</td><td>[1] 44.23807 59.17931 42.42641 38.25030 44.73533\n</td></tr><tr><td>se</td><td>numeric</td><td>1\n</td><td>5\n</td><td>[1] 0.1189856 0.1084654 0.1084654 0.1292515 0.1305637\n</td></tr><tr><td>se_r</td><td>numeric</td><td>1\n</td><td>1\n</td><td>[1] 0.05631251\n</td></tr><tr><td>SE.Pooled</td><td>numeric</td><td>1\n</td><td>5\n</td><td>[1] 11.42857 13.95408 10.00000 10.71429 12.65306\n</td></tr><tr><td>secondary_es1</td><td>esc</td><td>1\n</td><td>13\n</td><td> [1] es       se       var      ci.lo    ci.hi    w       \n <br>[7] zr       ci.lo.zr ci.hi.zr totaln   measure  info    \n<br>[13] study   \n</td></tr><tr><td>secondary_es2</td><td>esc</td><td>1\n</td><td>13\n</td><td> [1] es       se       var      ci.lo    ci.hi    w       \n <br>[7] zr       ci.lo.zr ci.hi.zr totaln   measure  info    \n<br>[13] study   \n</td></tr><tr><td>secondary_es3</td><td>esc</td><td>1\n</td><td>13\n</td><td> [1] es       se       var      ci.lo    ci.hi    w       \n <br>[7] zr       ci.lo.zr ci.hi.zr totaln   measure  info    \n<br>[13] study   \n</td></tr><tr><td>secondary_es4</td><td>esc</td><td>1\n</td><td>13\n</td><td> [1] es       se       var      ci.lo    ci.hi    w       \n <br>[7] zr       ci.lo.zr ci.hi.zr totaln   measure  info    \n<br>[13] study   \n</td></tr><tr><td>secondary_es5</td><td>esc</td><td>1\n</td><td>13\n</td><td> [1] es       se       var      ci.lo    ci.hi    w       \n <br>[7] zr       ci.lo.zr ci.hi.zr totaln   measure  info    \n<br>[13] study   \n</td></tr><tr><td>secondary_results_dataframe</td><td>data.frame</td><td>11\n</td><td>1\n</td><td> [1] k        N        mean_r   se_r     t_crit   CI_Lower\n <br>[7] CI_Upper var_r    var_e    var_p    I_sq    \n</td></tr><tr><td>secondary_table</td><td>data.frame</td><td>12\n</td><td>5\n</td><td> [1] study       es          weight      sample.size se         \n <br>[6] var         ci.lo       ci.hi       fishers.z   ci.lo.z    \n<br>[11] ci.hi.z     measure    \n</td></tr><tr><td>stats_test_results</td><td>data.frame</td><td>4\n</td><td>1\n</td><td>[1] Study      n          Difference CI_95     \n</td></tr><tr><td>Study</td><td>character</td><td>1\n</td><td>5\n</td><td>[1] #1 #2 #3 #4 #5\n</td></tr><tr><td>summary_secondary_results</td><td>data.frame</td><td>4\n</td><td>1\n</td><td>[1] var_r var_e var_p I_sq \n</td></tr><tr><td>t_crit</td><td>numeric</td><td>1\n</td><td>1\n</td><td>[1] 2.776445\n</td></tr><tr><td>upperORCI</td><td>numeric</td><td>1\n</td><td>1\n</td><td>[1] 38.58358\n</td></tr><tr><td>var_e</td><td>numeric</td><td>1\n</td><td>1\n</td><td>[1] 0.01499455\n</td></tr><tr><td>var_p</td><td>numeric</td><td>1\n</td><td>1\n</td><td>[1] 0.0008609469\n</td></tr><tr><td>var_r</td><td>numeric</td><td>1\n</td><td>1\n</td><td>[1] 0.01585549\n</td></tr><tr><td>wilcox_rank_sum_test</td><td>htest</td><td>1\n</td><td>9\n</td><td>[1] statistic   parameter   p.value     null.value  alternative\n<br>[6] method      data.name   conf.int    estimate   \n</td></tr><tr><td>X</td><td>numeric</td><td>1\n</td><td>1\n</td><td>[1] 95\n</td></tr><tr><td>z</td><td>numeric</td><td>1\n</td><td>5\n</td><td>[1]  0.3168506 -0.8361645  0.6748980  0.1542981 -0.3093867\n</td></tr><tr><td>z_crit</td><td>numeric</td><td>1\n</td><td>1\n</td><td>[1] 1.959964\n</td></tr></table></div>"
          }
        },
        "3599fadebec340998714ab0d454bf8ac": {
          "model_module": "@jupyter-widgets/base",
          "model_name": "LayoutModel",
          "model_module_version": "1.2.0",
          "state": {
            "_model_module": "@jupyter-widgets/base",
            "_model_module_version": "1.2.0",
            "_model_name": "LayoutModel",
            "_view_count": null,
            "_view_module": "@jupyter-widgets/base",
            "_view_module_version": "1.2.0",
            "_view_name": "LayoutView",
            "align_content": null,
            "align_items": null,
            "align_self": null,
            "border": null,
            "bottom": null,
            "display": null,
            "flex": null,
            "flex_flow": null,
            "grid_area": null,
            "grid_auto_columns": null,
            "grid_auto_flow": null,
            "grid_auto_rows": null,
            "grid_column": null,
            "grid_gap": null,
            "grid_row": null,
            "grid_template_areas": null,
            "grid_template_columns": null,
            "grid_template_rows": null,
            "height": null,
            "justify_content": null,
            "justify_items": null,
            "left": null,
            "margin": null,
            "max_height": null,
            "max_width": null,
            "min_height": null,
            "min_width": null,
            "object_fit": null,
            "object_position": null,
            "order": null,
            "overflow": null,
            "overflow_x": null,
            "overflow_y": "scroll",
            "padding": null,
            "right": null,
            "top": null,
            "visibility": null,
            "width": null
          }
        },
        "52796bf8c700444d82810bb2f7ed70a0": {
          "model_module": "@jupyter-widgets/base",
          "model_name": "LayoutModel",
          "model_module_version": "1.2.0",
          "state": {
            "_model_module": "@jupyter-widgets/base",
            "_model_module_version": "1.2.0",
            "_model_name": "LayoutModel",
            "_view_count": null,
            "_view_module": "@jupyter-widgets/base",
            "_view_module_version": "1.2.0",
            "_view_name": "LayoutView",
            "align_content": null,
            "align_items": null,
            "align_self": null,
            "border": null,
            "bottom": null,
            "display": null,
            "flex": null,
            "flex_flow": null,
            "grid_area": null,
            "grid_auto_columns": null,
            "grid_auto_flow": null,
            "grid_auto_rows": null,
            "grid_column": null,
            "grid_gap": null,
            "grid_row": null,
            "grid_template_areas": null,
            "grid_template_columns": null,
            "grid_template_rows": null,
            "height": null,
            "justify_content": null,
            "justify_items": null,
            "left": null,
            "margin": null,
            "max_height": null,
            "max_width": null,
            "min_height": null,
            "min_width": null,
            "object_fit": null,
            "object_position": null,
            "order": null,
            "overflow": null,
            "overflow_x": null,
            "overflow_y": null,
            "padding": null,
            "right": null,
            "top": null,
            "visibility": null,
            "width": null
          }
        },
        "7e024014cac24962899fbd908e31e729": {
          "model_module": "@jupyter-widgets/controls",
          "model_name": "DescriptionStyleModel",
          "model_module_version": "1.5.0",
          "state": {
            "_model_module": "@jupyter-widgets/controls",
            "_model_module_version": "1.5.0",
            "_model_name": "DescriptionStyleModel",
            "_view_count": null,
            "_view_module": "@jupyter-widgets/base",
            "_view_module_version": "1.2.0",
            "_view_name": "StyleView",
            "description_width": ""
          }
        }
      }
    }
  },
  "nbformat": 4,
  "nbformat_minor": 0
}